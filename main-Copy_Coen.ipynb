{
 "cells": [
  {
   "cell_type": "markdown",
   "id": "a136d549-56cd-4aea-9c17-8ccd2212d52b",
   "metadata": {},
   "source": [
    "# Initialisation\n",
    "\n",
    "Load, clean, and edit data as required"
   ]
  },
  {
   "cell_type": "code",
   "execution_count": 1,
   "id": "f998513e-6e90-4dfa-ba26-a1795c34ffa1",
   "metadata": {},
   "outputs": [
    {
     "name": "stdout",
     "output_type": "stream",
     "text": [
      "Requirement already satisfied: finta in /Users/coenemmenegger/opt/anaconda3/envs/algotrading/lib/python3.7/site-packages (1.3)\n",
      "Requirement already satisfied: pandas in /Users/coenemmenegger/opt/anaconda3/envs/algotrading/lib/python3.7/site-packages (from finta) (1.3.4)\n",
      "Requirement already satisfied: numpy in /Users/coenemmenegger/opt/anaconda3/envs/algotrading/lib/python3.7/site-packages (from finta) (1.20.3)\n",
      "Requirement already satisfied: python-dateutil>=2.7.3 in /Users/coenemmenegger/opt/anaconda3/envs/algotrading/lib/python3.7/site-packages (from pandas->finta) (2.8.2)\n",
      "Requirement already satisfied: pytz>=2017.3 in /Users/coenemmenegger/opt/anaconda3/envs/algotrading/lib/python3.7/site-packages (from pandas->finta) (2021.3)\n",
      "Requirement already satisfied: six>=1.5 in /Users/coenemmenegger/opt/anaconda3/envs/algotrading/lib/python3.7/site-packages (from python-dateutil>=2.7.3->pandas->finta) (1.16.0)\n",
      "Note: you may need to restart the kernel to use updated packages.\n"
     ]
    }
   ],
   "source": [
    "pip install finta"
   ]
  },
  {
   "cell_type": "code",
   "execution_count": 31,
   "id": "04bf4eb2-0774-4a22-9ad0-0074a7101ac9",
   "metadata": {},
   "outputs": [],
   "source": [
    "# Import required libraries\n",
    "import pandas as pd\n",
    "import numpy as np\n",
    "from pathlib import Path\n",
    "import matplotlib.pyplot as plt\n",
    "from finta import TA"
   ]
  },
  {
   "cell_type": "code",
   "execution_count": 32,
   "id": "f56daf14-7aec-4b55-b1c2-8b9df0f58619",
   "metadata": {},
   "outputs": [
    {
     "data": {
      "text/html": [
       "<div>\n",
       "<style scoped>\n",
       "    .dataframe tbody tr th:only-of-type {\n",
       "        vertical-align: middle;\n",
       "    }\n",
       "\n",
       "    .dataframe tbody tr th {\n",
       "        vertical-align: top;\n",
       "    }\n",
       "\n",
       "    .dataframe thead th {\n",
       "        text-align: right;\n",
       "    }\n",
       "</style>\n",
       "<table border=\"1\" class=\"dataframe\">\n",
       "  <thead>\n",
       "    <tr style=\"text-align: right;\">\n",
       "      <th></th>\n",
       "      <th>Open</th>\n",
       "      <th>High</th>\n",
       "      <th>Low</th>\n",
       "      <th>Close</th>\n",
       "      <th>Adj Close</th>\n",
       "      <th>Volume</th>\n",
       "    </tr>\n",
       "    <tr>\n",
       "      <th>Date</th>\n",
       "      <th></th>\n",
       "      <th></th>\n",
       "      <th></th>\n",
       "      <th></th>\n",
       "      <th></th>\n",
       "      <th></th>\n",
       "    </tr>\n",
       "  </thead>\n",
       "  <tbody>\n",
       "    <tr>\n",
       "      <th>2017-04-07</th>\n",
       "      <td>845.000000</td>\n",
       "      <td>845.880005</td>\n",
       "      <td>837.299988</td>\n",
       "      <td>842.099976</td>\n",
       "      <td>842.099976</td>\n",
       "      <td>1111600</td>\n",
       "    </tr>\n",
       "    <tr>\n",
       "      <th>2017-04-10</th>\n",
       "      <td>841.539978</td>\n",
       "      <td>846.739990</td>\n",
       "      <td>840.789978</td>\n",
       "      <td>841.700012</td>\n",
       "      <td>841.700012</td>\n",
       "      <td>1046200</td>\n",
       "    </tr>\n",
       "    <tr>\n",
       "      <th>2017-04-11</th>\n",
       "      <td>841.700012</td>\n",
       "      <td>844.630005</td>\n",
       "      <td>834.599976</td>\n",
       "      <td>839.880005</td>\n",
       "      <td>839.880005</td>\n",
       "      <td>974300</td>\n",
       "    </tr>\n",
       "    <tr>\n",
       "      <th>2017-04-12</th>\n",
       "      <td>838.460022</td>\n",
       "      <td>843.719971</td>\n",
       "      <td>837.590027</td>\n",
       "      <td>841.460022</td>\n",
       "      <td>841.460022</td>\n",
       "      <td>1135800</td>\n",
       "    </tr>\n",
       "    <tr>\n",
       "      <th>2017-04-13</th>\n",
       "      <td>841.039978</td>\n",
       "      <td>843.729980</td>\n",
       "      <td>837.849976</td>\n",
       "      <td>840.179993</td>\n",
       "      <td>840.179993</td>\n",
       "      <td>1073700</td>\n",
       "    </tr>\n",
       "  </tbody>\n",
       "</table>\n",
       "</div>"
      ],
      "text/plain": [
       "                  Open        High         Low       Close   Adj Close  \\\n",
       "Date                                                                     \n",
       "2017-04-07  845.000000  845.880005  837.299988  842.099976  842.099976   \n",
       "2017-04-10  841.539978  846.739990  840.789978  841.700012  841.700012   \n",
       "2017-04-11  841.700012  844.630005  834.599976  839.880005  839.880005   \n",
       "2017-04-12  838.460022  843.719971  837.590027  841.460022  841.460022   \n",
       "2017-04-13  841.039978  843.729980  837.849976  840.179993  840.179993   \n",
       "\n",
       "             Volume  \n",
       "Date                 \n",
       "2017-04-07  1111600  \n",
       "2017-04-10  1046200  \n",
       "2017-04-11   974300  \n",
       "2017-04-12  1135800  \n",
       "2017-04-13  1073700  "
      ]
     },
     "execution_count": 32,
     "metadata": {},
     "output_type": "execute_result"
    }
   ],
   "source": [
    "# Import required trading data\n",
    "trading_df = pd.read_csv(\n",
    "    Path(\"Data/googl_data.csv\"), \n",
    "    index_col=\"Date\", \n",
    "    infer_datetime_format=True, \n",
    "    parse_dates=True\n",
    ")\n",
    "\n",
    "# Display sample data\n",
    "trading_df.head()"
   ]
  },
  {
   "cell_type": "code",
   "execution_count": 33,
   "id": "1d4ca40e-5064-4160-8c43-76adcc1680d7",
   "metadata": {},
   "outputs": [
    {
     "data": {
      "text/plain": [
       "Open         0\n",
       "High         0\n",
       "Low          0\n",
       "Close        0\n",
       "Adj Close    0\n",
       "Volume       0\n",
       "dtype: int64"
      ]
     },
     "execution_count": 33,
     "metadata": {},
     "output_type": "execute_result"
    }
   ],
   "source": [
    "# Check for nulls\n",
    "\n",
    "trading_df.isna().sum()"
   ]
  },
  {
   "cell_type": "code",
   "execution_count": 34,
   "id": "7c7d179f-64e5-4dd8-9ca9-35ecf07505f1",
   "metadata": {},
   "outputs": [
    {
     "data": {
      "text/html": [
       "<div>\n",
       "<style scoped>\n",
       "    .dataframe tbody tr th:only-of-type {\n",
       "        vertical-align: middle;\n",
       "    }\n",
       "\n",
       "    .dataframe tbody tr th {\n",
       "        vertical-align: top;\n",
       "    }\n",
       "\n",
       "    .dataframe thead th {\n",
       "        text-align: right;\n",
       "    }\n",
       "</style>\n",
       "<table border=\"1\" class=\"dataframe\">\n",
       "  <thead>\n",
       "    <tr style=\"text-align: right;\">\n",
       "      <th></th>\n",
       "      <th>Open</th>\n",
       "      <th>High</th>\n",
       "      <th>Low</th>\n",
       "      <th>Close</th>\n",
       "      <th>Adj Close</th>\n",
       "      <th>Volume</th>\n",
       "      <th>actual_returns</th>\n",
       "    </tr>\n",
       "    <tr>\n",
       "      <th>Date</th>\n",
       "      <th></th>\n",
       "      <th></th>\n",
       "      <th></th>\n",
       "      <th></th>\n",
       "      <th></th>\n",
       "      <th></th>\n",
       "      <th></th>\n",
       "    </tr>\n",
       "  </thead>\n",
       "  <tbody>\n",
       "    <tr>\n",
       "      <th>2017-04-10</th>\n",
       "      <td>841.539978</td>\n",
       "      <td>846.739990</td>\n",
       "      <td>840.789978</td>\n",
       "      <td>841.700012</td>\n",
       "      <td>841.700012</td>\n",
       "      <td>1046200</td>\n",
       "      <td>-0.000475</td>\n",
       "    </tr>\n",
       "    <tr>\n",
       "      <th>2017-04-11</th>\n",
       "      <td>841.700012</td>\n",
       "      <td>844.630005</td>\n",
       "      <td>834.599976</td>\n",
       "      <td>839.880005</td>\n",
       "      <td>839.880005</td>\n",
       "      <td>974300</td>\n",
       "      <td>-0.002162</td>\n",
       "    </tr>\n",
       "    <tr>\n",
       "      <th>2017-04-12</th>\n",
       "      <td>838.460022</td>\n",
       "      <td>843.719971</td>\n",
       "      <td>837.590027</td>\n",
       "      <td>841.460022</td>\n",
       "      <td>841.460022</td>\n",
       "      <td>1135800</td>\n",
       "      <td>0.001881</td>\n",
       "    </tr>\n",
       "    <tr>\n",
       "      <th>2017-04-13</th>\n",
       "      <td>841.039978</td>\n",
       "      <td>843.729980</td>\n",
       "      <td>837.849976</td>\n",
       "      <td>840.179993</td>\n",
       "      <td>840.179993</td>\n",
       "      <td>1073700</td>\n",
       "      <td>-0.001521</td>\n",
       "    </tr>\n",
       "    <tr>\n",
       "      <th>2017-04-17</th>\n",
       "      <td>841.380005</td>\n",
       "      <td>855.640015</td>\n",
       "      <td>841.030029</td>\n",
       "      <td>855.130005</td>\n",
       "      <td>855.130005</td>\n",
       "      <td>1049100</td>\n",
       "      <td>0.017794</td>\n",
       "    </tr>\n",
       "  </tbody>\n",
       "</table>\n",
       "</div>"
      ],
      "text/plain": [
       "                  Open        High         Low       Close   Adj Close  \\\n",
       "Date                                                                     \n",
       "2017-04-10  841.539978  846.739990  840.789978  841.700012  841.700012   \n",
       "2017-04-11  841.700012  844.630005  834.599976  839.880005  839.880005   \n",
       "2017-04-12  838.460022  843.719971  837.590027  841.460022  841.460022   \n",
       "2017-04-13  841.039978  843.729980  837.849976  840.179993  840.179993   \n",
       "2017-04-17  841.380005  855.640015  841.030029  855.130005  855.130005   \n",
       "\n",
       "             Volume  actual_returns  \n",
       "Date                                 \n",
       "2017-04-10  1046200       -0.000475  \n",
       "2017-04-11   974300       -0.002162  \n",
       "2017-04-12  1135800        0.001881  \n",
       "2017-04-13  1073700       -0.001521  \n",
       "2017-04-17  1049100        0.017794  "
      ]
     },
     "metadata": {},
     "output_type": "display_data"
    },
    {
     "data": {
      "text/html": [
       "<div>\n",
       "<style scoped>\n",
       "    .dataframe tbody tr th:only-of-type {\n",
       "        vertical-align: middle;\n",
       "    }\n",
       "\n",
       "    .dataframe tbody tr th {\n",
       "        vertical-align: top;\n",
       "    }\n",
       "\n",
       "    .dataframe thead th {\n",
       "        text-align: right;\n",
       "    }\n",
       "</style>\n",
       "<table border=\"1\" class=\"dataframe\">\n",
       "  <thead>\n",
       "    <tr style=\"text-align: right;\">\n",
       "      <th></th>\n",
       "      <th>Open</th>\n",
       "      <th>High</th>\n",
       "      <th>Low</th>\n",
       "      <th>Close</th>\n",
       "      <th>Adj Close</th>\n",
       "      <th>Volume</th>\n",
       "      <th>actual_returns</th>\n",
       "    </tr>\n",
       "    <tr>\n",
       "      <th>Date</th>\n",
       "      <th></th>\n",
       "      <th></th>\n",
       "      <th></th>\n",
       "      <th></th>\n",
       "      <th></th>\n",
       "      <th></th>\n",
       "      <th></th>\n",
       "    </tr>\n",
       "  </thead>\n",
       "  <tbody>\n",
       "    <tr>\n",
       "      <th>2022-03-31</th>\n",
       "      <td>2841.060059</td>\n",
       "      <td>2842.159912</td>\n",
       "      <td>2780.489990</td>\n",
       "      <td>2781.350098</td>\n",
       "      <td>2781.350098</td>\n",
       "      <td>1876200</td>\n",
       "      <td>-0.020227</td>\n",
       "    </tr>\n",
       "    <tr>\n",
       "      <th>2022-04-01</th>\n",
       "      <td>2790.000000</td>\n",
       "      <td>2809.419922</td>\n",
       "      <td>2766.149902</td>\n",
       "      <td>2803.010010</td>\n",
       "      <td>2803.010010</td>\n",
       "      <td>1296700</td>\n",
       "      <td>0.007788</td>\n",
       "    </tr>\n",
       "    <tr>\n",
       "      <th>2022-04-04</th>\n",
       "      <td>2807.169922</td>\n",
       "      <td>2874.239990</td>\n",
       "      <td>2806.209961</td>\n",
       "      <td>2859.429932</td>\n",
       "      <td>2859.429932</td>\n",
       "      <td>1297100</td>\n",
       "      <td>0.020128</td>\n",
       "    </tr>\n",
       "    <tr>\n",
       "      <th>2022-04-05</th>\n",
       "      <td>2857.379883</td>\n",
       "      <td>2859.810059</td>\n",
       "      <td>2807.649902</td>\n",
       "      <td>2811.820068</td>\n",
       "      <td>2811.820068</td>\n",
       "      <td>1070900</td>\n",
       "      <td>-0.016650</td>\n",
       "    </tr>\n",
       "    <tr>\n",
       "      <th>2022-04-06</th>\n",
       "      <td>2775.000000</td>\n",
       "      <td>2787.209961</td>\n",
       "      <td>2710.340088</td>\n",
       "      <td>2730.959961</td>\n",
       "      <td>2730.959961</td>\n",
       "      <td>1621000</td>\n",
       "      <td>-0.028757</td>\n",
       "    </tr>\n",
       "  </tbody>\n",
       "</table>\n",
       "</div>"
      ],
      "text/plain": [
       "                   Open         High          Low        Close    Adj Close  \\\n",
       "Date                                                                          \n",
       "2022-03-31  2841.060059  2842.159912  2780.489990  2781.350098  2781.350098   \n",
       "2022-04-01  2790.000000  2809.419922  2766.149902  2803.010010  2803.010010   \n",
       "2022-04-04  2807.169922  2874.239990  2806.209961  2859.429932  2859.429932   \n",
       "2022-04-05  2857.379883  2859.810059  2807.649902  2811.820068  2811.820068   \n",
       "2022-04-06  2775.000000  2787.209961  2710.340088  2730.959961  2730.959961   \n",
       "\n",
       "             Volume  actual_returns  \n",
       "Date                                 \n",
       "2022-03-31  1876200       -0.020227  \n",
       "2022-04-01  1296700        0.007788  \n",
       "2022-04-04  1297100        0.020128  \n",
       "2022-04-05  1070900       -0.016650  \n",
       "2022-04-06  1621000       -0.028757  "
      ]
     },
     "metadata": {},
     "output_type": "display_data"
    }
   ],
   "source": [
    "# Calculate the daily returns using the closing prices and the pct_change function\n",
    "trading_df[\"actual_returns\"] = trading_df[\"Close\"].pct_change()\n",
    "\n",
    "# Drop all NaN values from the DataFrame\n",
    "trading_df = trading_df.dropna()\n",
    "\n",
    "# Review the DataFrame\n",
    "display(trading_df.head())\n",
    "display(trading_df.tail())"
   ]
  },
  {
   "cell_type": "markdown",
   "id": "01281c94-0330-49fa-b824-843d51ce7f52",
   "metadata": {},
   "source": [
    "# Define X values (features)\n",
    "\n",
    "For this example we will use short and long SMA windows of the close price in our data"
   ]
  },
  {
   "cell_type": "code",
   "execution_count": 35,
   "id": "646ce00b-1d47-4519-8ccb-16ea4d4c2482",
   "metadata": {},
   "outputs": [],
   "source": [
    "# Define a window size of 4\n",
    "short_window = 4\n",
    "\n",
    "# Create an SMA that uses short_window, and assign it to a new column named “sma_fast”\n",
    "trading_df[\"sma_fast\"] = trading_df[\"Close\"].rolling(window=short_window).mean()"
   ]
  },
  {
   "cell_type": "code",
   "execution_count": 36,
   "id": "f089d17f-03b0-409f-8033-6ff83db5e146",
   "metadata": {},
   "outputs": [],
   "source": [
    "# Define a window size of 100\n",
    "long_window = 100\n",
    "\n",
    "# Create an SMA that uses long_window, and assign it to a new columns named “sma_slow”\n",
    "trading_df[\"sma_slow\"] = trading_df[\"Close\"].rolling(window=long_window).mean()"
   ]
  },
  {
   "cell_type": "code",
   "execution_count": 37,
   "id": "2a9b6dc9-3ca3-48c7-b578-29609ce16cf7",
   "metadata": {},
   "outputs": [],
   "source": [
    "# Drop the NaNs using dropna()\n",
    "trading_df = trading_df.dropna()"
   ]
  },
  {
   "cell_type": "code",
   "execution_count": 38,
   "id": "daecf854-5111-4318-b45d-60357fda1755",
   "metadata": {},
   "outputs": [
    {
     "data": {
      "text/html": [
       "<div>\n",
       "<style scoped>\n",
       "    .dataframe tbody tr th:only-of-type {\n",
       "        vertical-align: middle;\n",
       "    }\n",
       "\n",
       "    .dataframe tbody tr th {\n",
       "        vertical-align: top;\n",
       "    }\n",
       "\n",
       "    .dataframe thead th {\n",
       "        text-align: right;\n",
       "    }\n",
       "</style>\n",
       "<table border=\"1\" class=\"dataframe\">\n",
       "  <thead>\n",
       "    <tr style=\"text-align: right;\">\n",
       "      <th></th>\n",
       "      <th>sma_fast</th>\n",
       "      <th>sma_slow</th>\n",
       "    </tr>\n",
       "    <tr>\n",
       "      <th>Date</th>\n",
       "      <th></th>\n",
       "      <th></th>\n",
       "    </tr>\n",
       "  </thead>\n",
       "  <tbody>\n",
       "    <tr>\n",
       "      <th>2017-08-31</th>\n",
       "      <td>934.502502</td>\n",
       "      <td>945.779905</td>\n",
       "    </tr>\n",
       "    <tr>\n",
       "      <th>2017-09-01</th>\n",
       "      <td>940.687500</td>\n",
       "      <td>946.915305</td>\n",
       "    </tr>\n",
       "    <tr>\n",
       "      <th>2017-09-05</th>\n",
       "      <td>946.652496</td>\n",
       "      <td>948.036404</td>\n",
       "    </tr>\n",
       "    <tr>\n",
       "      <th>2017-09-06</th>\n",
       "      <td>948.084991</td>\n",
       "      <td>949.036604</td>\n",
       "    </tr>\n",
       "    <tr>\n",
       "      <th>2017-09-07</th>\n",
       "      <td>947.682495</td>\n",
       "      <td>950.055004</td>\n",
       "    </tr>\n",
       "  </tbody>\n",
       "</table>\n",
       "</div>"
      ],
      "text/plain": [
       "              sma_fast    sma_slow\n",
       "Date                              \n",
       "2017-08-31  934.502502  945.779905\n",
       "2017-09-01  940.687500  946.915305\n",
       "2017-09-05  946.652496  948.036404\n",
       "2017-09-06  948.084991  949.036604\n",
       "2017-09-07  947.682495  950.055004"
      ]
     },
     "metadata": {},
     "output_type": "display_data"
    },
    {
     "data": {
      "text/html": [
       "<div>\n",
       "<style scoped>\n",
       "    .dataframe tbody tr th:only-of-type {\n",
       "        vertical-align: middle;\n",
       "    }\n",
       "\n",
       "    .dataframe tbody tr th {\n",
       "        vertical-align: top;\n",
       "    }\n",
       "\n",
       "    .dataframe thead th {\n",
       "        text-align: right;\n",
       "    }\n",
       "</style>\n",
       "<table border=\"1\" class=\"dataframe\">\n",
       "  <thead>\n",
       "    <tr style=\"text-align: right;\">\n",
       "      <th></th>\n",
       "      <th>sma_fast</th>\n",
       "      <th>sma_slow</th>\n",
       "    </tr>\n",
       "    <tr>\n",
       "      <th>Date</th>\n",
       "      <th></th>\n",
       "      <th></th>\n",
       "    </tr>\n",
       "  </thead>\n",
       "  <tbody>\n",
       "    <tr>\n",
       "      <th>2022-03-31</th>\n",
       "      <td>2837.862549</td>\n",
       "      <td>2794.726108</td>\n",
       "    </tr>\n",
       "    <tr>\n",
       "      <th>2022-04-01</th>\n",
       "      <td>2824.835083</td>\n",
       "      <td>2792.769209</td>\n",
       "    </tr>\n",
       "    <tr>\n",
       "      <th>2022-04-04</th>\n",
       "      <td>2818.310059</td>\n",
       "      <td>2790.993108</td>\n",
       "    </tr>\n",
       "    <tr>\n",
       "      <th>2022-04-05</th>\n",
       "      <td>2820.640015</td>\n",
       "      <td>2789.803706</td>\n",
       "    </tr>\n",
       "    <tr>\n",
       "      <th>2022-04-06</th>\n",
       "      <td>2813.902527</td>\n",
       "      <td>2788.743206</td>\n",
       "    </tr>\n",
       "  </tbody>\n",
       "</table>\n",
       "</div>"
      ],
      "text/plain": [
       "               sma_fast     sma_slow\n",
       "Date                                \n",
       "2022-03-31  2837.862549  2794.726108\n",
       "2022-04-01  2824.835083  2792.769209\n",
       "2022-04-04  2818.310059  2790.993108\n",
       "2022-04-05  2820.640015  2789.803706\n",
       "2022-04-06  2813.902527  2788.743206"
      ]
     },
     "metadata": {},
     "output_type": "display_data"
    }
   ],
   "source": [
    "# Assign a copy of the `sma_fast` and `sma_slow` columns to a new DataFrame called `X`\n",
    "# Shift X values 1 day forward to predict next day prices\n",
    "X = trading_df[[\"sma_fast\", \"sma_slow\"]].shift().dropna().copy()\n",
    "\n",
    "# Display sample data\n",
    "display(X.head())\n",
    "display(X.tail())"
   ]
  },
  {
   "cell_type": "code",
   "execution_count": 48,
   "id": "df7e7580-632a-44a9-837a-f5dc5426ba7c",
   "metadata": {},
   "outputs": [
    {
     "data": {
      "text/html": [
       "<div>\n",
       "<style scoped>\n",
       "    .dataframe tbody tr th:only-of-type {\n",
       "        vertical-align: middle;\n",
       "    }\n",
       "\n",
       "    .dataframe tbody tr th {\n",
       "        vertical-align: top;\n",
       "    }\n",
       "\n",
       "    .dataframe thead th {\n",
       "        text-align: right;\n",
       "    }\n",
       "</style>\n",
       "<table border=\"1\" class=\"dataframe\">\n",
       "  <thead>\n",
       "    <tr style=\"text-align: right;\">\n",
       "      <th></th>\n",
       "      <th>sma_fast</th>\n",
       "      <th>sma_slow</th>\n",
       "      <th>Close</th>\n",
       "      <th>Returns</th>\n",
       "    </tr>\n",
       "    <tr>\n",
       "      <th>Date</th>\n",
       "      <th></th>\n",
       "      <th></th>\n",
       "      <th></th>\n",
       "      <th></th>\n",
       "    </tr>\n",
       "  </thead>\n",
       "  <tbody>\n",
       "    <tr>\n",
       "      <th>2022-03-31</th>\n",
       "      <td>2837.862549</td>\n",
       "      <td>2794.726108</td>\n",
       "      <td>2781.350098</td>\n",
       "      <td>-0.020227</td>\n",
       "    </tr>\n",
       "    <tr>\n",
       "      <th>2022-04-01</th>\n",
       "      <td>2824.835083</td>\n",
       "      <td>2792.769209</td>\n",
       "      <td>2803.010010</td>\n",
       "      <td>0.007788</td>\n",
       "    </tr>\n",
       "    <tr>\n",
       "      <th>2022-04-04</th>\n",
       "      <td>2818.310059</td>\n",
       "      <td>2790.993108</td>\n",
       "      <td>2859.429932</td>\n",
       "      <td>0.020128</td>\n",
       "    </tr>\n",
       "    <tr>\n",
       "      <th>2022-04-05</th>\n",
       "      <td>2820.640015</td>\n",
       "      <td>2789.803706</td>\n",
       "      <td>2811.820068</td>\n",
       "      <td>-0.016650</td>\n",
       "    </tr>\n",
       "    <tr>\n",
       "      <th>2022-04-06</th>\n",
       "      <td>2813.902527</td>\n",
       "      <td>2788.743206</td>\n",
       "      <td>2730.959961</td>\n",
       "      <td>-0.028757</td>\n",
       "    </tr>\n",
       "  </tbody>\n",
       "</table>\n",
       "</div>"
      ],
      "text/plain": [
       "               sma_fast     sma_slow        Close   Returns\n",
       "Date                                                       \n",
       "2022-03-31  2837.862549  2794.726108  2781.350098 -0.020227\n",
       "2022-04-01  2824.835083  2792.769209  2803.010010  0.007788\n",
       "2022-04-04  2818.310059  2790.993108  2859.429932  0.020128\n",
       "2022-04-05  2820.640015  2789.803706  2811.820068 -0.016650\n",
       "2022-04-06  2813.902527  2788.743206  2730.959961 -0.028757"
      ]
     },
     "metadata": {},
     "output_type": "display_data"
    }
   ],
   "source": [
    "X[\"Close\"] = trading_df[\"Close\"]\n",
    "X[\"Returns\"] = trading_df[\"actual_returns\"]\n",
    "display(X.tail())"
   ]
  },
  {
   "cell_type": "code",
   "execution_count": 46,
   "id": "96cdd65f-9abd-4c04-ab9d-8b8772285924",
   "metadata": {},
   "outputs": [
    {
     "data": {
      "text/html": [
       "<div>\n",
       "<style scoped>\n",
       "    .dataframe tbody tr th:only-of-type {\n",
       "        vertical-align: middle;\n",
       "    }\n",
       "\n",
       "    .dataframe tbody tr th {\n",
       "        vertical-align: top;\n",
       "    }\n",
       "\n",
       "    .dataframe thead th {\n",
       "        text-align: right;\n",
       "    }\n",
       "</style>\n",
       "<table border=\"1\" class=\"dataframe\">\n",
       "  <thead>\n",
       "    <tr style=\"text-align: right;\">\n",
       "      <th></th>\n",
       "      <th>BB_UPPER</th>\n",
       "      <th>BB_MIDDLE</th>\n",
       "      <th>BB_LOWER</th>\n",
       "    </tr>\n",
       "    <tr>\n",
       "      <th>Date</th>\n",
       "      <th></th>\n",
       "      <th></th>\n",
       "      <th></th>\n",
       "    </tr>\n",
       "  </thead>\n",
       "  <tbody>\n",
       "    <tr>\n",
       "      <th>2022-03-31</th>\n",
       "      <td>2924.601996</td>\n",
       "      <td>2701.960522</td>\n",
       "      <td>2479.319049</td>\n",
       "    </tr>\n",
       "    <tr>\n",
       "      <th>2022-04-01</th>\n",
       "      <td>2935.093366</td>\n",
       "      <td>2710.204529</td>\n",
       "      <td>2485.315692</td>\n",
       "    </tr>\n",
       "    <tr>\n",
       "      <th>2022-04-04</th>\n",
       "      <td>2943.780434</td>\n",
       "      <td>2726.797522</td>\n",
       "      <td>2509.814610</td>\n",
       "    </tr>\n",
       "    <tr>\n",
       "      <th>2022-04-05</th>\n",
       "      <td>2941.915163</td>\n",
       "      <td>2740.284021</td>\n",
       "      <td>2538.652879</td>\n",
       "    </tr>\n",
       "    <tr>\n",
       "      <th>2022-04-06</th>\n",
       "      <td>2942.269673</td>\n",
       "      <td>2743.412024</td>\n",
       "      <td>2544.554375</td>\n",
       "    </tr>\n",
       "  </tbody>\n",
       "</table>\n",
       "</div>"
      ],
      "text/plain": [
       "               BB_UPPER    BB_MIDDLE     BB_LOWER\n",
       "Date                                             \n",
       "2022-03-31  2924.601996  2701.960522  2479.319049\n",
       "2022-04-01  2935.093366  2710.204529  2485.315692\n",
       "2022-04-04  2943.780434  2726.797522  2509.814610\n",
       "2022-04-05  2941.915163  2740.284021  2538.652879\n",
       "2022-04-06  2942.269673  2743.412024  2544.554375"
      ]
     },
     "execution_count": 46,
     "metadata": {},
     "output_type": "execute_result"
    }
   ],
   "source": [
    "bb_signals_df = trading_df.copy()\n",
    "bbands_df = TA.BBANDS(bb_signals_df)\n",
    "#bbands_df.tail()\n",
    "bollinger_df = pd.DataFrame(bbands_df)\n",
    "bollinger_df.tail()"
   ]
  },
  {
   "cell_type": "markdown",
   "id": "755b4f8d-cd26-4545-a3dc-efd6d84ce5e3",
   "metadata": {},
   "source": [
    "# Define Y (Target)\n",
    "\n",
    "In this example we use a trading signal that throws a long when actual returns are positive (when the price is going up) and a short when actual returns are negative"
   ]
  },
  {
   "cell_type": "code",
   "execution_count": 14,
   "id": "44ff6d8e-80b7-42e6-bb52-867ceb125270",
   "metadata": {},
   "outputs": [],
   "source": [
    "# Create a new column in the `trading_df` called \"signal\" setting its value to zero.\n",
    "trading_df[\"signal\"] = 0.0"
   ]
  },
  {
   "cell_type": "code",
   "execution_count": 15,
   "id": "103cfce5-eb1c-45b2-a0f2-0a956c02fc6a",
   "metadata": {},
   "outputs": [],
   "source": [
    "# Create the signal to buy\n",
    "trading_df.loc[(trading_df[\"actual_returns\"] >= 0), \"signal\"] = 1"
   ]
  },
  {
   "cell_type": "code",
   "execution_count": 16,
   "id": "384cff26-1877-4ec8-af70-fc91f3bbe3cb",
   "metadata": {},
   "outputs": [],
   "source": [
    "# Create the signal to sell\n",
    "trading_df.loc[(trading_df[\"actual_returns\"] < 0), \"signal\"] = -1"
   ]
  },
  {
   "cell_type": "code",
   "execution_count": 17,
   "id": "ac98e753-3901-41c2-bcee-cbd32fe00e5f",
   "metadata": {},
   "outputs": [],
   "source": [
    "# Copy the new \"signal\" column to a new Series called `y`.\n",
    "y = trading_df[\"signal\"].copy()"
   ]
  },
  {
   "cell_type": "markdown",
   "id": "e1460f73-2cfd-4292-a1d1-28a75f69d70f",
   "metadata": {},
   "source": [
    "# Split training and testing data\n",
    "\n",
    "We need to do this manually since our data is sequential and we can't have splitting functions randomise data\n",
    "\n",
    "The offset will determine how big the training/testing datasets will be. We will use 12 months for now"
   ]
  },
  {
   "cell_type": "code",
   "execution_count": 18,
   "id": "14852b67-53c6-464c-8b41-ca690fec484d",
   "metadata": {},
   "outputs": [],
   "source": [
    "# Import required libraries\n",
    "from pandas.tseries.offsets import DateOffset"
   ]
  },
  {
   "cell_type": "code",
   "execution_count": 19,
   "id": "003b47f9-89c5-4d2f-af8c-e7e49fc07a8f",
   "metadata": {},
   "outputs": [
    {
     "name": "stdout",
     "output_type": "stream",
     "text": [
      "2017-08-31 00:00:00\n"
     ]
    }
   ],
   "source": [
    "# Select the start of the training period\n",
    "training_begin = X.index.min()\n",
    "\n",
    "# Display the training begin date\n",
    "print(training_begin)"
   ]
  },
  {
   "cell_type": "code",
   "execution_count": 20,
   "id": "51d4a0d4-a57f-4127-b7d5-cd3d84dd2122",
   "metadata": {},
   "outputs": [
    {
     "name": "stdout",
     "output_type": "stream",
     "text": [
      "2018-08-31 00:00:00\n"
     ]
    }
   ],
   "source": [
    "# Select the ending period for the training data with an offset of 3 months\n",
    "training_end = X.index.min() + DateOffset(months=12)\n",
    "\n",
    "# Display the training end date\n",
    "print(training_end)"
   ]
  },
  {
   "cell_type": "code",
   "execution_count": 21,
   "id": "096807fa-5eca-4f51-b07b-a318fa78b774",
   "metadata": {},
   "outputs": [],
   "source": [
    "# Generate the X_train and y_train DataFrames\n",
    "X_train = X.loc[training_begin:training_end]\n",
    "y_train = y.loc[training_begin:training_end]"
   ]
  },
  {
   "cell_type": "code",
   "execution_count": 22,
   "id": "97556dbe-986e-45ea-96dc-9c32d37de2d8",
   "metadata": {},
   "outputs": [],
   "source": [
    "# Generate the X_test and y_test DataFrames\n",
    "X_test = X.loc[training_end:]\n",
    "y_test = y.loc[training_end:]"
   ]
  },
  {
   "cell_type": "markdown",
   "id": "08c0bbb9-bfb7-4469-872f-90b3bd911c19",
   "metadata": {},
   "source": [
    "# Scale Data"
   ]
  },
  {
   "cell_type": "code",
   "execution_count": 23,
   "id": "9e82c4d8-f92b-4e22-a94f-c5e304146d34",
   "metadata": {},
   "outputs": [],
   "source": [
    "# Import required libraries\n",
    "from sklearn.preprocessing import StandardScaler"
   ]
  },
  {
   "cell_type": "code",
   "execution_count": 24,
   "id": "766cbd19-51b3-42a4-be87-bd01182949c8",
   "metadata": {},
   "outputs": [],
   "source": [
    "# Create a StandardScaler instance\n",
    "scaler = StandardScaler()\n",
    " \n",
    "# Apply the scaler model to fit the X-train data\n",
    "X_scaler = scaler.fit(X_train)\n",
    " \n",
    "# Transform the X_train and X_test DataFrames using the X_scaler\n",
    "X_train_scaled = X_scaler.transform(X_train)\n",
    "X_test_scaled = X_scaler.transform(X_test)"
   ]
  },
  {
   "cell_type": "markdown",
   "id": "4560e54d-6372-47fa-8222-5b0c1fd47116",
   "metadata": {},
   "source": [
    "# Create the model\n",
    "\n",
    "Here we are using an svc model which is a classifier from sklearn"
   ]
  },
  {
   "cell_type": "code",
   "execution_count": 25,
   "id": "400337c7-4a85-41f8-b1a9-085b01e847eb",
   "metadata": {},
   "outputs": [],
   "source": [
    "# Import the SVM model\n",
    "from sklearn import svm\n",
    "from sklearn.metrics import classification_report"
   ]
  },
  {
   "cell_type": "code",
   "execution_count": 26,
   "id": "86c6de9a-7dfe-4d57-bffb-32ec069a128e",
   "metadata": {},
   "outputs": [
    {
     "data": {
      "text/plain": [
       "array([ 1., -1., -1.,  1.,  1., -1.,  1.,  1.,  1., -1.])"
      ]
     },
     "execution_count": 26,
     "metadata": {},
     "output_type": "execute_result"
    }
   ],
   "source": [
    "# Create the classifier model\n",
    "svm_model = svm.SVC()\n",
    " \n",
    "# Fit the model to the data using X_train_scaled and y_train\n",
    "svm_model = svm_model.fit(X_train_scaled, y_train)\n",
    "\n",
    "# Use the trained model to predict the trading signals for the training data\n",
    "training_signal_predictions = svm_model.predict(X_train_scaled)\n",
    "\n",
    "# Display the sample predictions\n",
    "training_signal_predictions[:10]"
   ]
  },
  {
   "cell_type": "markdown",
   "id": "471b4d15-ccce-4278-9ad0-0d39e1ac77e5",
   "metadata": {},
   "source": [
    "# Evaluate model and produce metrics\n",
    "\n",
    "We evaluate the model's training data to see how well its training went, then predict using the model and testing data, and run some metrics"
   ]
  },
  {
   "cell_type": "code",
   "execution_count": 27,
   "id": "359b0acd-3460-4bbe-b3d5-cd91f2771811",
   "metadata": {},
   "outputs": [
    {
     "name": "stdout",
     "output_type": "stream",
     "text": [
      "              precision    recall  f1-score   support\n",
      "\n",
      "        -1.0       0.95      0.97      0.96       117\n",
      "         1.0       0.97      0.96      0.96       136\n",
      "\n",
      "    accuracy                           0.96       253\n",
      "   macro avg       0.96      0.96      0.96       253\n",
      "weighted avg       0.96      0.96      0.96       253\n",
      "\n"
     ]
    }
   ],
   "source": [
    "# Evaluate the model using a classification report\n",
    "training_report = classification_report(y_train, training_signal_predictions)\n",
    "\n",
    "# Display the report\n",
    "print(training_report)"
   ]
  },
  {
   "cell_type": "code",
   "execution_count": 28,
   "id": "739f16b8-a257-4329-b7ab-59daaefdfa45",
   "metadata": {},
   "outputs": [],
   "source": [
    "# Use the trained model to predict the trading signals for the testing data.\n",
    "testing_signal_predictions = svm_model.predict(X_test_scaled)"
   ]
  },
  {
   "cell_type": "code",
   "execution_count": 29,
   "id": "018cd355-94ee-4f98-885b-94011957bd6a",
   "metadata": {},
   "outputs": [
    {
     "name": "stdout",
     "output_type": "stream",
     "text": [
      "              precision    recall  f1-score   support\n",
      "\n",
      "        -1.0       0.54      1.00      0.70       413\n",
      "         1.0       1.00      0.29      0.45       493\n",
      "\n",
      "    accuracy                           0.61       906\n",
      "   macro avg       0.77      0.65      0.58       906\n",
      "weighted avg       0.79      0.61      0.56       906\n",
      "\n"
     ]
    }
   ],
   "source": [
    "# Evaluate the model's ability to predict the trading signal for the testing data\n",
    "testing_report = classification_report(y_test, testing_signal_predictions)\n",
    "\n",
    "# Display the report\n",
    "print(testing_report)"
   ]
  },
  {
   "cell_type": "code",
   "execution_count": 30,
   "id": "2df19840-19a1-4cf4-b671-0775fda88c4a",
   "metadata": {},
   "outputs": [
    {
     "ename": "ValueError",
     "evalue": "All arrays must be of the same length",
     "output_type": "error",
     "traceback": [
      "\u001b[0;31m---------------------------------------------------------------------------\u001b[0m",
      "\u001b[0;31mValueError\u001b[0m                                Traceback (most recent call last)",
      "\u001b[0;32m/var/folders/4b/bt52lvd91wxbj_9h32j21j140000gn/T/ipykernel_17756/4071326993.py\u001b[0m in \u001b[0;36m<module>\u001b[0;34m\u001b[0m\n\u001b[1;32m      1\u001b[0m \u001b[0;31m# Plots\u001b[0m\u001b[0;34m\u001b[0m\u001b[0;34m\u001b[0m\u001b[0;34m\u001b[0m\u001b[0m\n\u001b[0;32m----> 2\u001b[0;31m \u001b[0msignals_df\u001b[0m \u001b[0;34m=\u001b[0m \u001b[0mpd\u001b[0m\u001b[0;34m.\u001b[0m\u001b[0mDataFrame\u001b[0m\u001b[0;34m(\u001b[0m\u001b[0;34m{\u001b[0m\u001b[0;34m\"training\"\u001b[0m\u001b[0;34m:\u001b[0m \u001b[0mtraining_signal_predictions\u001b[0m\u001b[0;34m,\u001b[0m \u001b[0;34m\"testing\"\u001b[0m\u001b[0;34m:\u001b[0m\u001b[0mtesting_signal_predictions\u001b[0m\u001b[0;34m}\u001b[0m\u001b[0;34m)\u001b[0m\u001b[0;34m\u001b[0m\u001b[0;34m\u001b[0m\u001b[0m\n\u001b[0m\u001b[1;32m      3\u001b[0m \u001b[0msignals_df\u001b[0m\u001b[0;34m.\u001b[0m\u001b[0mhead\u001b[0m\u001b[0;34m(\u001b[0m\u001b[0;34m)\u001b[0m\u001b[0;34m\u001b[0m\u001b[0;34m\u001b[0m\u001b[0m\n",
      "\u001b[0;32m~/opt/anaconda3/envs/algotrading/lib/python3.7/site-packages/pandas/core/frame.py\u001b[0m in \u001b[0;36m__init__\u001b[0;34m(self, data, index, columns, dtype, copy)\u001b[0m\n\u001b[1;32m    612\u001b[0m         \u001b[0;32melif\u001b[0m \u001b[0misinstance\u001b[0m\u001b[0;34m(\u001b[0m\u001b[0mdata\u001b[0m\u001b[0;34m,\u001b[0m \u001b[0mdict\u001b[0m\u001b[0;34m)\u001b[0m\u001b[0;34m:\u001b[0m\u001b[0;34m\u001b[0m\u001b[0;34m\u001b[0m\u001b[0m\n\u001b[1;32m    613\u001b[0m             \u001b[0;31m# GH#38939 de facto copy defaults to False only in non-dict cases\u001b[0m\u001b[0;34m\u001b[0m\u001b[0;34m\u001b[0m\u001b[0;34m\u001b[0m\u001b[0m\n\u001b[0;32m--> 614\u001b[0;31m             \u001b[0mmgr\u001b[0m \u001b[0;34m=\u001b[0m \u001b[0mdict_to_mgr\u001b[0m\u001b[0;34m(\u001b[0m\u001b[0mdata\u001b[0m\u001b[0;34m,\u001b[0m \u001b[0mindex\u001b[0m\u001b[0;34m,\u001b[0m \u001b[0mcolumns\u001b[0m\u001b[0;34m,\u001b[0m \u001b[0mdtype\u001b[0m\u001b[0;34m=\u001b[0m\u001b[0mdtype\u001b[0m\u001b[0;34m,\u001b[0m \u001b[0mcopy\u001b[0m\u001b[0;34m=\u001b[0m\u001b[0mcopy\u001b[0m\u001b[0;34m,\u001b[0m \u001b[0mtyp\u001b[0m\u001b[0;34m=\u001b[0m\u001b[0mmanager\u001b[0m\u001b[0;34m)\u001b[0m\u001b[0;34m\u001b[0m\u001b[0;34m\u001b[0m\u001b[0m\n\u001b[0m\u001b[1;32m    615\u001b[0m         \u001b[0;32melif\u001b[0m \u001b[0misinstance\u001b[0m\u001b[0;34m(\u001b[0m\u001b[0mdata\u001b[0m\u001b[0;34m,\u001b[0m \u001b[0mma\u001b[0m\u001b[0;34m.\u001b[0m\u001b[0mMaskedArray\u001b[0m\u001b[0;34m)\u001b[0m\u001b[0;34m:\u001b[0m\u001b[0;34m\u001b[0m\u001b[0;34m\u001b[0m\u001b[0m\n\u001b[1;32m    616\u001b[0m             \u001b[0;32mimport\u001b[0m \u001b[0mnumpy\u001b[0m\u001b[0;34m.\u001b[0m\u001b[0mma\u001b[0m\u001b[0;34m.\u001b[0m\u001b[0mmrecords\u001b[0m \u001b[0;32mas\u001b[0m \u001b[0mmrecords\u001b[0m\u001b[0;34m\u001b[0m\u001b[0;34m\u001b[0m\u001b[0m\n",
      "\u001b[0;32m~/opt/anaconda3/envs/algotrading/lib/python3.7/site-packages/pandas/core/internals/construction.py\u001b[0m in \u001b[0;36mdict_to_mgr\u001b[0;34m(data, index, columns, dtype, typ, copy)\u001b[0m\n\u001b[1;32m    463\u001b[0m \u001b[0;34m\u001b[0m\u001b[0m\n\u001b[1;32m    464\u001b[0m     return arrays_to_mgr(\n\u001b[0;32m--> 465\u001b[0;31m         \u001b[0marrays\u001b[0m\u001b[0;34m,\u001b[0m \u001b[0mdata_names\u001b[0m\u001b[0;34m,\u001b[0m \u001b[0mindex\u001b[0m\u001b[0;34m,\u001b[0m \u001b[0mcolumns\u001b[0m\u001b[0;34m,\u001b[0m \u001b[0mdtype\u001b[0m\u001b[0;34m=\u001b[0m\u001b[0mdtype\u001b[0m\u001b[0;34m,\u001b[0m \u001b[0mtyp\u001b[0m\u001b[0;34m=\u001b[0m\u001b[0mtyp\u001b[0m\u001b[0;34m,\u001b[0m \u001b[0mconsolidate\u001b[0m\u001b[0;34m=\u001b[0m\u001b[0mcopy\u001b[0m\u001b[0;34m\u001b[0m\u001b[0;34m\u001b[0m\u001b[0m\n\u001b[0m\u001b[1;32m    466\u001b[0m     )\n\u001b[1;32m    467\u001b[0m \u001b[0;34m\u001b[0m\u001b[0m\n",
      "\u001b[0;32m~/opt/anaconda3/envs/algotrading/lib/python3.7/site-packages/pandas/core/internals/construction.py\u001b[0m in \u001b[0;36marrays_to_mgr\u001b[0;34m(arrays, arr_names, index, columns, dtype, verify_integrity, typ, consolidate)\u001b[0m\n\u001b[1;32m    117\u001b[0m         \u001b[0;31m# figure out the index, if necessary\u001b[0m\u001b[0;34m\u001b[0m\u001b[0;34m\u001b[0m\u001b[0;34m\u001b[0m\u001b[0m\n\u001b[1;32m    118\u001b[0m         \u001b[0;32mif\u001b[0m \u001b[0mindex\u001b[0m \u001b[0;32mis\u001b[0m \u001b[0;32mNone\u001b[0m\u001b[0;34m:\u001b[0m\u001b[0;34m\u001b[0m\u001b[0;34m\u001b[0m\u001b[0m\n\u001b[0;32m--> 119\u001b[0;31m             \u001b[0mindex\u001b[0m \u001b[0;34m=\u001b[0m \u001b[0m_extract_index\u001b[0m\u001b[0;34m(\u001b[0m\u001b[0marrays\u001b[0m\u001b[0;34m)\u001b[0m\u001b[0;34m\u001b[0m\u001b[0;34m\u001b[0m\u001b[0m\n\u001b[0m\u001b[1;32m    120\u001b[0m         \u001b[0;32melse\u001b[0m\u001b[0;34m:\u001b[0m\u001b[0;34m\u001b[0m\u001b[0;34m\u001b[0m\u001b[0m\n\u001b[1;32m    121\u001b[0m             \u001b[0mindex\u001b[0m \u001b[0;34m=\u001b[0m \u001b[0mensure_index\u001b[0m\u001b[0;34m(\u001b[0m\u001b[0mindex\u001b[0m\u001b[0;34m)\u001b[0m\u001b[0;34m\u001b[0m\u001b[0;34m\u001b[0m\u001b[0m\n",
      "\u001b[0;32m~/opt/anaconda3/envs/algotrading/lib/python3.7/site-packages/pandas/core/internals/construction.py\u001b[0m in \u001b[0;36m_extract_index\u001b[0;34m(data)\u001b[0m\n\u001b[1;32m    633\u001b[0m             \u001b[0mlengths\u001b[0m \u001b[0;34m=\u001b[0m \u001b[0mlist\u001b[0m\u001b[0;34m(\u001b[0m\u001b[0mset\u001b[0m\u001b[0;34m(\u001b[0m\u001b[0mraw_lengths\u001b[0m\u001b[0;34m)\u001b[0m\u001b[0;34m)\u001b[0m\u001b[0;34m\u001b[0m\u001b[0;34m\u001b[0m\u001b[0m\n\u001b[1;32m    634\u001b[0m             \u001b[0;32mif\u001b[0m \u001b[0mlen\u001b[0m\u001b[0;34m(\u001b[0m\u001b[0mlengths\u001b[0m\u001b[0;34m)\u001b[0m \u001b[0;34m>\u001b[0m \u001b[0;36m1\u001b[0m\u001b[0;34m:\u001b[0m\u001b[0;34m\u001b[0m\u001b[0;34m\u001b[0m\u001b[0m\n\u001b[0;32m--> 635\u001b[0;31m                 \u001b[0;32mraise\u001b[0m \u001b[0mValueError\u001b[0m\u001b[0;34m(\u001b[0m\u001b[0;34m\"All arrays must be of the same length\"\u001b[0m\u001b[0;34m)\u001b[0m\u001b[0;34m\u001b[0m\u001b[0;34m\u001b[0m\u001b[0m\n\u001b[0m\u001b[1;32m    636\u001b[0m \u001b[0;34m\u001b[0m\u001b[0m\n\u001b[1;32m    637\u001b[0m             \u001b[0;32mif\u001b[0m \u001b[0mhave_dicts\u001b[0m\u001b[0;34m:\u001b[0m\u001b[0;34m\u001b[0m\u001b[0;34m\u001b[0m\u001b[0m\n",
      "\u001b[0;31mValueError\u001b[0m: All arrays must be of the same length"
     ]
    }
   ],
   "source": [
    "# Plots\n",
    "signals_df = pd.DataFrame({\"training\": training_signal_predictions, \"testing\":testing_signal_predictions})\n",
    "signals_df.head()"
   ]
  },
  {
   "cell_type": "code",
   "execution_count": null,
   "id": "57228b92-0161-4fdf-88fe-607c99056100",
   "metadata": {},
   "outputs": [],
   "source": []
  },
  {
   "cell_type": "code",
   "execution_count": null,
   "id": "8ce49d38-e9d0-49d0-8739-e5ad77c0658b",
   "metadata": {},
   "outputs": [],
   "source": []
  }
 ],
 "metadata": {
  "kernelspec": {
   "display_name": "Python [conda env:algotrading]",
   "language": "python",
   "name": "conda-env-algotrading-py"
  },
  "language_info": {
   "codemirror_mode": {
    "name": "ipython",
    "version": 3
   },
   "file_extension": ".py",
   "mimetype": "text/x-python",
   "name": "python",
   "nbconvert_exporter": "python",
   "pygments_lexer": "ipython3",
   "version": "3.7.11"
  }
 },
 "nbformat": 4,
 "nbformat_minor": 5
}
