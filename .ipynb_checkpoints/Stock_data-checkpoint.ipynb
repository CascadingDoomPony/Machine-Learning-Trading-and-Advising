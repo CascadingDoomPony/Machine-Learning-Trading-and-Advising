{
 "cells": [
  {
   "cell_type": "code",
   "execution_count": 8,
   "id": "69ed3695-60e9-4a12-8ba1-7b5a252480a9",
   "metadata": {},
   "outputs": [
    {
     "name": "stdout",
     "output_type": "stream",
     "text": [
      "Collecting yfinance\n",
      "  Using cached yfinance-0.1.70-py2.py3-none-any.whl (26 kB)\n",
      "Requirement already satisfied: numpy>=1.15 in /Users/coenemmenegger/opt/anaconda3/envs/dev/lib/python3.7/site-packages (from yfinance) (1.20.3)\n",
      "Requirement already satisfied: lxml>=4.5.1 in /Users/coenemmenegger/opt/anaconda3/envs/dev/lib/python3.7/site-packages (from yfinance) (4.6.4)\n",
      "Requirement already satisfied: requests>=2.26 in /Users/coenemmenegger/opt/anaconda3/envs/dev/lib/python3.7/site-packages (from yfinance) (2.27.1)\n",
      "Requirement already satisfied: pandas>=0.24.0 in /Users/coenemmenegger/opt/anaconda3/envs/dev/lib/python3.7/site-packages (from yfinance) (1.3.4)\n",
      "Collecting multitasking>=0.0.7\n",
      "  Using cached multitasking-0.0.10-py3-none-any.whl\n",
      "Requirement already satisfied: python-dateutil>=2.7.3 in /Users/coenemmenegger/opt/anaconda3/envs/dev/lib/python3.7/site-packages (from pandas>=0.24.0->yfinance) (2.8.2)\n",
      "Requirement already satisfied: pytz>=2017.3 in /Users/coenemmenegger/opt/anaconda3/envs/dev/lib/python3.7/site-packages (from pandas>=0.24.0->yfinance) (2021.3)\n",
      "Requirement already satisfied: six>=1.5 in /Users/coenemmenegger/opt/anaconda3/envs/dev/lib/python3.7/site-packages (from python-dateutil>=2.7.3->pandas>=0.24.0->yfinance) (1.16.0)\n",
      "Requirement already satisfied: urllib3<1.27,>=1.21.1 in /Users/coenemmenegger/opt/anaconda3/envs/dev/lib/python3.7/site-packages (from requests>=2.26->yfinance) (1.26.8)\n",
      "Requirement already satisfied: charset-normalizer~=2.0.0 in /Users/coenemmenegger/opt/anaconda3/envs/dev/lib/python3.7/site-packages (from requests>=2.26->yfinance) (2.0.4)\n",
      "Requirement already satisfied: certifi>=2017.4.17 in /Users/coenemmenegger/opt/anaconda3/envs/dev/lib/python3.7/site-packages (from requests>=2.26->yfinance) (2021.10.8)\n",
      "Requirement already satisfied: idna<4,>=2.5 in /Users/coenemmenegger/opt/anaconda3/envs/dev/lib/python3.7/site-packages (from requests>=2.26->yfinance) (3.3)\n",
      "Installing collected packages: multitasking, yfinance\n",
      "Successfully installed multitasking-0.0.10 yfinance-0.1.70\n",
      "Note: you may need to restart the kernel to use updated packages.\n"
     ]
    }
   ],
   "source": [
    "%pip install yfinance"
   ]
  },
  {
   "cell_type": "code",
   "execution_count": 9,
   "id": "50027c2b-62e8-45a7-a136-77f886546017",
   "metadata": {},
   "outputs": [],
   "source": [
    "import yfinance as yf\n",
    "\n",
    "# Set tickers for US tech stocks\n",
    "\n",
    "FB = yf.Ticker(\"FB\")\n",
    "GOOGL = yf.Ticker(\"GOOGL\")\n",
    "TSLA = yf.Ticker(\"TSLA\")\n",
    "MSFT = yf.Ticker(\"MSFT\")\n",
    "\n"
   ]
  },
  {
   "cell_type": "code",
   "execution_count": 10,
   "id": "1845854e-6fba-4535-b4bd-c19f2d89903a",
   "metadata": {},
   "outputs": [
    {
     "data": {
      "text/html": [
       "<div>\n",
       "<style scoped>\n",
       "    .dataframe tbody tr th:only-of-type {\n",
       "        vertical-align: middle;\n",
       "    }\n",
       "\n",
       "    .dataframe tbody tr th {\n",
       "        vertical-align: top;\n",
       "    }\n",
       "\n",
       "    .dataframe thead th {\n",
       "        text-align: right;\n",
       "    }\n",
       "</style>\n",
       "<table border=\"1\" class=\"dataframe\">\n",
       "  <thead>\n",
       "    <tr style=\"text-align: right;\">\n",
       "      <th>company</th>\n",
       "      <th>GOOG</th>\n",
       "      <th>AAPL</th>\n",
       "      <th>AMZN</th>\n",
       "      <th>FB</th>\n",
       "      <th>NFLX</th>\n",
       "      <th>MSFT</th>\n",
       "    </tr>\n",
       "    <tr>\n",
       "      <th>date</th>\n",
       "      <th></th>\n",
       "      <th></th>\n",
       "      <th></th>\n",
       "      <th></th>\n",
       "      <th></th>\n",
       "      <th></th>\n",
       "    </tr>\n",
       "  </thead>\n",
       "  <tbody>\n",
       "    <tr>\n",
       "      <th>2018-01-01</th>\n",
       "      <td>0.000000</td>\n",
       "      <td>0.000000</td>\n",
       "      <td>0.000000</td>\n",
       "      <td>0.000000</td>\n",
       "      <td>0.000000</td>\n",
       "      <td>0.000000</td>\n",
       "    </tr>\n",
       "    <tr>\n",
       "      <th>2018-01-08</th>\n",
       "      <td>0.018172</td>\n",
       "      <td>0.011943</td>\n",
       "      <td>0.061881</td>\n",
       "      <td>-0.040032</td>\n",
       "      <td>0.053526</td>\n",
       "      <td>0.015988</td>\n",
       "    </tr>\n",
       "    <tr>\n",
       "      <th>2018-01-15</th>\n",
       "      <td>0.032008</td>\n",
       "      <td>0.019771</td>\n",
       "      <td>0.053240</td>\n",
       "      <td>-0.029757</td>\n",
       "      <td>0.049860</td>\n",
       "      <td>0.020524</td>\n",
       "    </tr>\n",
       "    <tr>\n",
       "      <th>2018-01-22</th>\n",
       "      <td>0.066783</td>\n",
       "      <td>-0.019943</td>\n",
       "      <td>0.140676</td>\n",
       "      <td>0.016858</td>\n",
       "      <td>0.307681</td>\n",
       "      <td>0.066561</td>\n",
       "    </tr>\n",
       "    <tr>\n",
       "      <th>2018-01-29</th>\n",
       "      <td>0.008773</td>\n",
       "      <td>-0.082857</td>\n",
       "      <td>0.163374</td>\n",
       "      <td>0.018357</td>\n",
       "      <td>0.273537</td>\n",
       "      <td>0.040708</td>\n",
       "    </tr>\n",
       "  </tbody>\n",
       "</table>\n",
       "</div>"
      ],
      "text/plain": [
       "company         GOOG      AAPL      AMZN        FB      NFLX      MSFT\n",
       "date                                                                  \n",
       "2018-01-01  0.000000  0.000000  0.000000  0.000000  0.000000  0.000000\n",
       "2018-01-08  0.018172  0.011943  0.061881 -0.040032  0.053526  0.015988\n",
       "2018-01-15  0.032008  0.019771  0.053240 -0.029757  0.049860  0.020524\n",
       "2018-01-22  0.066783 -0.019943  0.140676  0.016858  0.307681  0.066561\n",
       "2018-01-29  0.008773 -0.082857  0.163374  0.018357  0.273537  0.040708"
      ]
     },
     "execution_count": 10,
     "metadata": {},
     "output_type": "execute_result"
    }
   ],
   "source": [
    "import plotly.express as px\n",
    "# Retrieve stock data\n",
    "stock_portfolio = px.data.stocks(indexed=True)-1\n",
    "stock_portfolio.head()"
   ]
  },
  {
   "cell_type": "code",
   "execution_count": 11,
   "id": "05542131-19aa-4394-8084-cba8c596474e",
   "metadata": {},
   "outputs": [],
   "source": [
    "# Save Dataframe to csv\n",
    "stock_portfolio.to_csv('stock_portfolio.csv')"
   ]
  },
  {
   "cell_type": "code",
   "execution_count": null,
   "id": "490cb662-a168-4a7a-be79-72fe778ff8e4",
   "metadata": {},
   "outputs": [],
   "source": []
  }
 ],
 "metadata": {
  "kernelspec": {
   "display_name": "Python [conda env:dev]",
   "language": "python",
   "name": "conda-env-dev-py"
  },
  "language_info": {
   "codemirror_mode": {
    "name": "ipython",
    "version": 3
   },
   "file_extension": ".py",
   "mimetype": "text/x-python",
   "name": "python",
   "nbconvert_exporter": "python",
   "pygments_lexer": "ipython3",
   "version": "3.7.7"
  }
 },
 "nbformat": 4,
 "nbformat_minor": 5
}
