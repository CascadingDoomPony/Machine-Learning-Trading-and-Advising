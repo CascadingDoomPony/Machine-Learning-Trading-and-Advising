{
 "cells": [
  {
   "cell_type": "code",
   "execution_count": 13,
   "id": "53df0b3b-c8a7-459f-be70-9065f10191fe",
   "metadata": {},
   "outputs": [
    {
     "name": "stdout",
     "output_type": "stream",
     "text": [
      "Requirement already satisfied: yfinance in /Users/coenemmenegger/opt/anaconda3/envs/dev/lib/python3.7/site-packages (0.1.70)\n",
      "Requirement already satisfied: lxml>=4.5.1 in /Users/coenemmenegger/opt/anaconda3/envs/dev/lib/python3.7/site-packages (from yfinance) (4.6.4)\n",
      "Requirement already satisfied: pandas>=0.24.0 in /Users/coenemmenegger/opt/anaconda3/envs/dev/lib/python3.7/site-packages (from yfinance) (1.3.4)\n",
      "Requirement already satisfied: numpy>=1.15 in /Users/coenemmenegger/opt/anaconda3/envs/dev/lib/python3.7/site-packages (from yfinance) (1.20.3)\n",
      "Requirement already satisfied: requests>=2.26 in /Users/coenemmenegger/opt/anaconda3/envs/dev/lib/python3.7/site-packages (from yfinance) (2.27.1)\n",
      "Requirement already satisfied: multitasking>=0.0.7 in /Users/coenemmenegger/opt/anaconda3/envs/dev/lib/python3.7/site-packages (from yfinance) (0.0.10)\n",
      "Requirement already satisfied: python-dateutil>=2.7.3 in /Users/coenemmenegger/opt/anaconda3/envs/dev/lib/python3.7/site-packages (from pandas>=0.24.0->yfinance) (2.8.2)\n",
      "Requirement already satisfied: pytz>=2017.3 in /Users/coenemmenegger/opt/anaconda3/envs/dev/lib/python3.7/site-packages (from pandas>=0.24.0->yfinance) (2021.3)\n",
      "Requirement already satisfied: six>=1.5 in /Users/coenemmenegger/opt/anaconda3/envs/dev/lib/python3.7/site-packages (from python-dateutil>=2.7.3->pandas>=0.24.0->yfinance) (1.16.0)\n",
      "Requirement already satisfied: certifi>=2017.4.17 in /Users/coenemmenegger/opt/anaconda3/envs/dev/lib/python3.7/site-packages (from requests>=2.26->yfinance) (2021.10.8)\n",
      "Requirement already satisfied: idna<4,>=2.5 in /Users/coenemmenegger/opt/anaconda3/envs/dev/lib/python3.7/site-packages (from requests>=2.26->yfinance) (3.3)\n",
      "Requirement already satisfied: urllib3<1.27,>=1.21.1 in /Users/coenemmenegger/opt/anaconda3/envs/dev/lib/python3.7/site-packages (from requests>=2.26->yfinance) (1.26.8)\n",
      "Requirement already satisfied: charset-normalizer~=2.0.0 in /Users/coenemmenegger/opt/anaconda3/envs/dev/lib/python3.7/site-packages (from requests>=2.26->yfinance) (2.0.4)\n",
      "Collecting yahoofinancials\n",
      "  Downloading yahoofinancials-1.6.tar.gz (27 kB)\n",
      "Requirement already satisfied: beautifulsoup4 in /Users/coenemmenegger/opt/anaconda3/envs/dev/lib/python3.7/site-packages (from yahoofinancials) (4.10.0)\n",
      "Requirement already satisfied: pytz in /Users/coenemmenegger/opt/anaconda3/envs/dev/lib/python3.7/site-packages (from yahoofinancials) (2021.3)\n",
      "Requirement already satisfied: soupsieve>1.2 in /Users/coenemmenegger/opt/anaconda3/envs/dev/lib/python3.7/site-packages (from beautifulsoup4->yahoofinancials) (2.3.1)\n",
      "Building wheels for collected packages: yahoofinancials\n",
      "  Building wheel for yahoofinancials (setup.py) ... \u001b[?25ldone\n",
      "\u001b[?25h  Created wheel for yahoofinancials: filename=yahoofinancials-1.6-py3-none-any.whl size=15190 sha256=b9100f2409ecc376d5d6985fc5258a568594c6e653db442e29a66f31bbc79601\n",
      "  Stored in directory: /Users/coenemmenegger/Library/Caches/pip/wheels/4b/63/46/e7110bfee88685fe69e338d1b14d1748921862aa57b6705b60\n",
      "Successfully built yahoofinancials\n",
      "Installing collected packages: yahoofinancials\n",
      "Successfully installed yahoofinancials-1.6\n"
     ]
    }
   ],
   "source": [
    "!pip install yfinance\n",
    "!pip install yahoofinancials"
   ]
  },
  {
   "cell_type": "code",
   "execution_count": 14,
   "id": "b2e29f45-5ebf-40be-9c84-57e5c95b479b",
   "metadata": {},
   "outputs": [],
   "source": [
    "import pandas as pd\n",
    "import yfinance as yf\n",
    "from yahoofinancials import YahooFinancials"
   ]
  },
  {
   "cell_type": "code",
   "execution_count": 15,
   "id": "f46dc2bd-d8af-4ddd-bf99-7cb4d98511a5",
   "metadata": {},
   "outputs": [
    {
     "data": {
      "text/html": [
       "<div>\n",
       "<style scoped>\n",
       "    .dataframe tbody tr th:only-of-type {\n",
       "        vertical-align: middle;\n",
       "    }\n",
       "\n",
       "    .dataframe tbody tr th {\n",
       "        vertical-align: top;\n",
       "    }\n",
       "\n",
       "    .dataframe thead th {\n",
       "        text-align: right;\n",
       "    }\n",
       "</style>\n",
       "<table border=\"1\" class=\"dataframe\">\n",
       "  <thead>\n",
       "    <tr style=\"text-align: right;\">\n",
       "      <th></th>\n",
       "      <th>Open</th>\n",
       "      <th>High</th>\n",
       "      <th>Low</th>\n",
       "      <th>Close</th>\n",
       "      <th>Adj Close</th>\n",
       "      <th>Volume</th>\n",
       "    </tr>\n",
       "    <tr>\n",
       "      <th>Date</th>\n",
       "      <th></th>\n",
       "      <th></th>\n",
       "      <th></th>\n",
       "      <th></th>\n",
       "      <th></th>\n",
       "      <th></th>\n",
       "    </tr>\n",
       "  </thead>\n",
       "  <tbody>\n",
       "    <tr>\n",
       "      <th>2018-12-31</th>\n",
       "      <td>39.632500</td>\n",
       "      <td>39.840000</td>\n",
       "      <td>39.119999</td>\n",
       "      <td>39.435001</td>\n",
       "      <td>38.233898</td>\n",
       "      <td>140014000</td>\n",
       "    </tr>\n",
       "    <tr>\n",
       "      <th>2019-01-02</th>\n",
       "      <td>38.722500</td>\n",
       "      <td>39.712502</td>\n",
       "      <td>38.557499</td>\n",
       "      <td>39.480000</td>\n",
       "      <td>38.277531</td>\n",
       "      <td>148158800</td>\n",
       "    </tr>\n",
       "    <tr>\n",
       "      <th>2019-01-03</th>\n",
       "      <td>35.994999</td>\n",
       "      <td>36.430000</td>\n",
       "      <td>35.500000</td>\n",
       "      <td>35.547501</td>\n",
       "      <td>34.464806</td>\n",
       "      <td>365248800</td>\n",
       "    </tr>\n",
       "    <tr>\n",
       "      <th>2019-01-04</th>\n",
       "      <td>36.132500</td>\n",
       "      <td>37.137501</td>\n",
       "      <td>35.950001</td>\n",
       "      <td>37.064999</td>\n",
       "      <td>35.936081</td>\n",
       "      <td>234428400</td>\n",
       "    </tr>\n",
       "    <tr>\n",
       "      <th>2019-01-07</th>\n",
       "      <td>37.174999</td>\n",
       "      <td>37.207500</td>\n",
       "      <td>36.474998</td>\n",
       "      <td>36.982498</td>\n",
       "      <td>35.856091</td>\n",
       "      <td>219111200</td>\n",
       "    </tr>\n",
       "  </tbody>\n",
       "</table>\n",
       "</div>"
      ],
      "text/plain": [
       "                 Open       High        Low      Close  Adj Close     Volume\n",
       "Date                                                                        \n",
       "2018-12-31  39.632500  39.840000  39.119999  39.435001  38.233898  140014000\n",
       "2019-01-02  38.722500  39.712502  38.557499  39.480000  38.277531  148158800\n",
       "2019-01-03  35.994999  36.430000  35.500000  35.547501  34.464806  365248800\n",
       "2019-01-04  36.132500  37.137501  35.950001  37.064999  35.936081  234428400\n",
       "2019-01-07  37.174999  37.207500  36.474998  36.982498  35.856091  219111200"
      ]
     },
     "execution_count": 15,
     "metadata": {},
     "output_type": "execute_result"
    }
   ],
   "source": [
    "aapl_df = yf.download('AAPL', \n",
    "                      start='2019-01-01', \n",
    "                      end='2022-04-', \n",
    "                      progress=False,\n",
    ")\n",
    "aapl_df.head()"
   ]
  },
  {
   "cell_type": "code",
   "execution_count": 16,
   "id": "fd52224e-73ac-4bd3-ab8d-24efab4cfbd1",
   "metadata": {},
   "outputs": [
    {
     "ename": "NameError",
     "evalue": "name 'stock_data' is not defined",
     "output_type": "error",
     "traceback": [
      "\u001b[0;31m---------------------------------------------------------------------------\u001b[0m",
      "\u001b[0;31mNameError\u001b[0m                                 Traceback (most recent call last)",
      "\u001b[0;32m/var/folders/4b/bt52lvd91wxbj_9h32j21j140000gn/T/ipykernel_7274/2717200609.py\u001b[0m in \u001b[0;36m<module>\u001b[0;34m\u001b[0m\n\u001b[0;32m----> 1\u001b[0;31m \u001b[0mstock_data\u001b[0m\u001b[0;34m.\u001b[0m\u001b[0mto_csv\u001b[0m\u001b[0;34m(\u001b[0m\u001b[0;34m'stock_data.csv'\u001b[0m\u001b[0;34m)\u001b[0m\u001b[0;34m\u001b[0m\u001b[0;34m\u001b[0m\u001b[0m\n\u001b[0m",
      "\u001b[0;31mNameError\u001b[0m: name 'stock_data' is not defined"
     ]
    }
   ],
   "source": [
    "stock_data.to_csv('stock_data.csv')"
   ]
  },
  {
   "cell_type": "code",
   "execution_count": null,
   "id": "2c1a05b5-a883-47c2-8c0c-d382ee14e5e1",
   "metadata": {},
   "outputs": [],
   "source": []
  }
 ],
 "metadata": {
  "kernelspec": {
   "display_name": "Python [conda env:dev]",
   "language": "python",
   "name": "conda-env-dev-py"
  },
  "language_info": {
   "codemirror_mode": {
    "name": "ipython",
    "version": 3
   },
   "file_extension": ".py",
   "mimetype": "text/x-python",
   "name": "python",
   "nbconvert_exporter": "python",
   "pygments_lexer": "ipython3",
   "version": "3.7.7"
  }
 },
 "nbformat": 4,
 "nbformat_minor": 5
}
