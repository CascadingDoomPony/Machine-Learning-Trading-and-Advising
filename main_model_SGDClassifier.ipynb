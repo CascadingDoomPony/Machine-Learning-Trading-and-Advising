{
 "cells": [
  {
   "cell_type": "markdown",
   "id": "a136d549-56cd-4aea-9c17-8ccd2212d52b",
   "metadata": {},
   "source": [
    "# Initialisation\n",
    "\n",
    "Load, clean, and edit data as required"
   ]
  },
  {
   "cell_type": "code",
   "execution_count": 4,
   "id": "04bf4eb2-0774-4a22-9ad0-0074a7101ac9",
   "metadata": {},
   "outputs": [],
   "source": [
    "# Import required libraries\n",
    "import pandas as pd\n",
    "from pathlib import Path"
   ]
  },
  {
   "cell_type": "code",
   "execution_count": 5,
   "id": "f56daf14-7aec-4b55-b1c2-8b9df0f58619",
   "metadata": {},
   "outputs": [
    {
     "data": {
      "text/html": [
       "<div>\n",
       "<style scoped>\n",
       "    .dataframe tbody tr th:only-of-type {\n",
       "        vertical-align: middle;\n",
       "    }\n",
       "\n",
       "    .dataframe tbody tr th {\n",
       "        vertical-align: top;\n",
       "    }\n",
       "\n",
       "    .dataframe thead th {\n",
       "        text-align: right;\n",
       "    }\n",
       "</style>\n",
       "<table border=\"1\" class=\"dataframe\">\n",
       "  <thead>\n",
       "    <tr style=\"text-align: right;\">\n",
       "      <th></th>\n",
       "      <th>Open</th>\n",
       "      <th>High</th>\n",
       "      <th>Low</th>\n",
       "      <th>Close</th>\n",
       "      <th>Adj Close</th>\n",
       "      <th>Volume</th>\n",
       "    </tr>\n",
       "    <tr>\n",
       "      <th>Date</th>\n",
       "      <th></th>\n",
       "      <th></th>\n",
       "      <th></th>\n",
       "      <th></th>\n",
       "      <th></th>\n",
       "      <th></th>\n",
       "    </tr>\n",
       "  </thead>\n",
       "  <tbody>\n",
       "    <tr>\n",
       "      <th>2017-04-07</th>\n",
       "      <td>845.000000</td>\n",
       "      <td>845.880005</td>\n",
       "      <td>837.299988</td>\n",
       "      <td>842.099976</td>\n",
       "      <td>842.099976</td>\n",
       "      <td>1111600</td>\n",
       "    </tr>\n",
       "    <tr>\n",
       "      <th>2017-04-10</th>\n",
       "      <td>841.539978</td>\n",
       "      <td>846.739990</td>\n",
       "      <td>840.789978</td>\n",
       "      <td>841.700012</td>\n",
       "      <td>841.700012</td>\n",
       "      <td>1046200</td>\n",
       "    </tr>\n",
       "    <tr>\n",
       "      <th>2017-04-11</th>\n",
       "      <td>841.700012</td>\n",
       "      <td>844.630005</td>\n",
       "      <td>834.599976</td>\n",
       "      <td>839.880005</td>\n",
       "      <td>839.880005</td>\n",
       "      <td>974300</td>\n",
       "    </tr>\n",
       "    <tr>\n",
       "      <th>2017-04-12</th>\n",
       "      <td>838.460022</td>\n",
       "      <td>843.719971</td>\n",
       "      <td>837.590027</td>\n",
       "      <td>841.460022</td>\n",
       "      <td>841.460022</td>\n",
       "      <td>1135800</td>\n",
       "    </tr>\n",
       "    <tr>\n",
       "      <th>2017-04-13</th>\n",
       "      <td>841.039978</td>\n",
       "      <td>843.729980</td>\n",
       "      <td>837.849976</td>\n",
       "      <td>840.179993</td>\n",
       "      <td>840.179993</td>\n",
       "      <td>1073700</td>\n",
       "    </tr>\n",
       "  </tbody>\n",
       "</table>\n",
       "</div>"
      ],
      "text/plain": [
       "                  Open        High         Low       Close   Adj Close  \\\n",
       "Date                                                                     \n",
       "2017-04-07  845.000000  845.880005  837.299988  842.099976  842.099976   \n",
       "2017-04-10  841.539978  846.739990  840.789978  841.700012  841.700012   \n",
       "2017-04-11  841.700012  844.630005  834.599976  839.880005  839.880005   \n",
       "2017-04-12  838.460022  843.719971  837.590027  841.460022  841.460022   \n",
       "2017-04-13  841.039978  843.729980  837.849976  840.179993  840.179993   \n",
       "\n",
       "             Volume  \n",
       "Date                 \n",
       "2017-04-07  1111600  \n",
       "2017-04-10  1046200  \n",
       "2017-04-11   974300  \n",
       "2017-04-12  1135800  \n",
       "2017-04-13  1073700  "
      ]
     },
     "execution_count": 5,
     "metadata": {},
     "output_type": "execute_result"
    }
   ],
   "source": [
    "# Import required trading data\n",
    "trading_df = pd.read_csv(\n",
    "    Path(\"Machine-Learning-Trading-and-Advising/Data/googl_data.csv\"), \n",
    "    index_col=\"Date\", \n",
    "    infer_datetime_format=True, \n",
    "    parse_dates=True\n",
    ")\n",
    "\n",
    "# Display sample data\n",
    "trading_df.head()"
   ]
  },
  {
   "cell_type": "code",
   "execution_count": 6,
   "id": "1d4ca40e-5064-4160-8c43-76adcc1680d7",
   "metadata": {},
   "outputs": [
    {
     "data": {
      "text/plain": [
       "Open         0\n",
       "High         0\n",
       "Low          0\n",
       "Close        0\n",
       "Adj Close    0\n",
       "Volume       0\n",
       "dtype: int64"
      ]
     },
     "execution_count": 6,
     "metadata": {},
     "output_type": "execute_result"
    }
   ],
   "source": [
    "# Check for nulls\n",
    "\n",
    "trading_df.isna().sum()"
   ]
  },
  {
   "cell_type": "code",
   "execution_count": 7,
   "id": "7c7d179f-64e5-4dd8-9ca9-35ecf07505f1",
   "metadata": {},
   "outputs": [
    {
     "data": {
      "text/html": [
       "<div>\n",
       "<style scoped>\n",
       "    .dataframe tbody tr th:only-of-type {\n",
       "        vertical-align: middle;\n",
       "    }\n",
       "\n",
       "    .dataframe tbody tr th {\n",
       "        vertical-align: top;\n",
       "    }\n",
       "\n",
       "    .dataframe thead th {\n",
       "        text-align: right;\n",
       "    }\n",
       "</style>\n",
       "<table border=\"1\" class=\"dataframe\">\n",
       "  <thead>\n",
       "    <tr style=\"text-align: right;\">\n",
       "      <th></th>\n",
       "      <th>Open</th>\n",
       "      <th>High</th>\n",
       "      <th>Low</th>\n",
       "      <th>Close</th>\n",
       "      <th>Adj Close</th>\n",
       "      <th>Volume</th>\n",
       "      <th>actual_returns</th>\n",
       "    </tr>\n",
       "    <tr>\n",
       "      <th>Date</th>\n",
       "      <th></th>\n",
       "      <th></th>\n",
       "      <th></th>\n",
       "      <th></th>\n",
       "      <th></th>\n",
       "      <th></th>\n",
       "      <th></th>\n",
       "    </tr>\n",
       "  </thead>\n",
       "  <tbody>\n",
       "    <tr>\n",
       "      <th>2017-04-10</th>\n",
       "      <td>841.539978</td>\n",
       "      <td>846.739990</td>\n",
       "      <td>840.789978</td>\n",
       "      <td>841.700012</td>\n",
       "      <td>841.700012</td>\n",
       "      <td>1046200</td>\n",
       "      <td>-0.000475</td>\n",
       "    </tr>\n",
       "    <tr>\n",
       "      <th>2017-04-11</th>\n",
       "      <td>841.700012</td>\n",
       "      <td>844.630005</td>\n",
       "      <td>834.599976</td>\n",
       "      <td>839.880005</td>\n",
       "      <td>839.880005</td>\n",
       "      <td>974300</td>\n",
       "      <td>-0.002162</td>\n",
       "    </tr>\n",
       "    <tr>\n",
       "      <th>2017-04-12</th>\n",
       "      <td>838.460022</td>\n",
       "      <td>843.719971</td>\n",
       "      <td>837.590027</td>\n",
       "      <td>841.460022</td>\n",
       "      <td>841.460022</td>\n",
       "      <td>1135800</td>\n",
       "      <td>0.001881</td>\n",
       "    </tr>\n",
       "    <tr>\n",
       "      <th>2017-04-13</th>\n",
       "      <td>841.039978</td>\n",
       "      <td>843.729980</td>\n",
       "      <td>837.849976</td>\n",
       "      <td>840.179993</td>\n",
       "      <td>840.179993</td>\n",
       "      <td>1073700</td>\n",
       "      <td>-0.001521</td>\n",
       "    </tr>\n",
       "    <tr>\n",
       "      <th>2017-04-17</th>\n",
       "      <td>841.380005</td>\n",
       "      <td>855.640015</td>\n",
       "      <td>841.030029</td>\n",
       "      <td>855.130005</td>\n",
       "      <td>855.130005</td>\n",
       "      <td>1049100</td>\n",
       "      <td>0.017794</td>\n",
       "    </tr>\n",
       "  </tbody>\n",
       "</table>\n",
       "</div>"
      ],
      "text/plain": [
       "                  Open        High         Low       Close   Adj Close  \\\n",
       "Date                                                                     \n",
       "2017-04-10  841.539978  846.739990  840.789978  841.700012  841.700012   \n",
       "2017-04-11  841.700012  844.630005  834.599976  839.880005  839.880005   \n",
       "2017-04-12  838.460022  843.719971  837.590027  841.460022  841.460022   \n",
       "2017-04-13  841.039978  843.729980  837.849976  840.179993  840.179993   \n",
       "2017-04-17  841.380005  855.640015  841.030029  855.130005  855.130005   \n",
       "\n",
       "             Volume  actual_returns  \n",
       "Date                                 \n",
       "2017-04-10  1046200       -0.000475  \n",
       "2017-04-11   974300       -0.002162  \n",
       "2017-04-12  1135800        0.001881  \n",
       "2017-04-13  1073700       -0.001521  \n",
       "2017-04-17  1049100        0.017794  "
      ]
     },
     "metadata": {},
     "output_type": "display_data"
    },
    {
     "data": {
      "text/html": [
       "<div>\n",
       "<style scoped>\n",
       "    .dataframe tbody tr th:only-of-type {\n",
       "        vertical-align: middle;\n",
       "    }\n",
       "\n",
       "    .dataframe tbody tr th {\n",
       "        vertical-align: top;\n",
       "    }\n",
       "\n",
       "    .dataframe thead th {\n",
       "        text-align: right;\n",
       "    }\n",
       "</style>\n",
       "<table border=\"1\" class=\"dataframe\">\n",
       "  <thead>\n",
       "    <tr style=\"text-align: right;\">\n",
       "      <th></th>\n",
       "      <th>Open</th>\n",
       "      <th>High</th>\n",
       "      <th>Low</th>\n",
       "      <th>Close</th>\n",
       "      <th>Adj Close</th>\n",
       "      <th>Volume</th>\n",
       "      <th>actual_returns</th>\n",
       "    </tr>\n",
       "    <tr>\n",
       "      <th>Date</th>\n",
       "      <th></th>\n",
       "      <th></th>\n",
       "      <th></th>\n",
       "      <th></th>\n",
       "      <th></th>\n",
       "      <th></th>\n",
       "      <th></th>\n",
       "    </tr>\n",
       "  </thead>\n",
       "  <tbody>\n",
       "    <tr>\n",
       "      <th>2022-03-31</th>\n",
       "      <td>2841.060059</td>\n",
       "      <td>2842.159912</td>\n",
       "      <td>2780.489990</td>\n",
       "      <td>2781.350098</td>\n",
       "      <td>2781.350098</td>\n",
       "      <td>1876200</td>\n",
       "      <td>-0.020227</td>\n",
       "    </tr>\n",
       "    <tr>\n",
       "      <th>2022-04-01</th>\n",
       "      <td>2790.000000</td>\n",
       "      <td>2809.419922</td>\n",
       "      <td>2766.149902</td>\n",
       "      <td>2803.010010</td>\n",
       "      <td>2803.010010</td>\n",
       "      <td>1296700</td>\n",
       "      <td>0.007788</td>\n",
       "    </tr>\n",
       "    <tr>\n",
       "      <th>2022-04-04</th>\n",
       "      <td>2807.169922</td>\n",
       "      <td>2874.239990</td>\n",
       "      <td>2806.209961</td>\n",
       "      <td>2859.429932</td>\n",
       "      <td>2859.429932</td>\n",
       "      <td>1297100</td>\n",
       "      <td>0.020128</td>\n",
       "    </tr>\n",
       "    <tr>\n",
       "      <th>2022-04-05</th>\n",
       "      <td>2857.379883</td>\n",
       "      <td>2859.810059</td>\n",
       "      <td>2807.649902</td>\n",
       "      <td>2811.820068</td>\n",
       "      <td>2811.820068</td>\n",
       "      <td>1070900</td>\n",
       "      <td>-0.016650</td>\n",
       "    </tr>\n",
       "    <tr>\n",
       "      <th>2022-04-06</th>\n",
       "      <td>2775.000000</td>\n",
       "      <td>2787.209961</td>\n",
       "      <td>2710.340088</td>\n",
       "      <td>2730.959961</td>\n",
       "      <td>2730.959961</td>\n",
       "      <td>1621000</td>\n",
       "      <td>-0.028757</td>\n",
       "    </tr>\n",
       "  </tbody>\n",
       "</table>\n",
       "</div>"
      ],
      "text/plain": [
       "                   Open         High          Low        Close    Adj Close  \\\n",
       "Date                                                                          \n",
       "2022-03-31  2841.060059  2842.159912  2780.489990  2781.350098  2781.350098   \n",
       "2022-04-01  2790.000000  2809.419922  2766.149902  2803.010010  2803.010010   \n",
       "2022-04-04  2807.169922  2874.239990  2806.209961  2859.429932  2859.429932   \n",
       "2022-04-05  2857.379883  2859.810059  2807.649902  2811.820068  2811.820068   \n",
       "2022-04-06  2775.000000  2787.209961  2710.340088  2730.959961  2730.959961   \n",
       "\n",
       "             Volume  actual_returns  \n",
       "Date                                 \n",
       "2022-03-31  1876200       -0.020227  \n",
       "2022-04-01  1296700        0.007788  \n",
       "2022-04-04  1297100        0.020128  \n",
       "2022-04-05  1070900       -0.016650  \n",
       "2022-04-06  1621000       -0.028757  "
      ]
     },
     "metadata": {},
     "output_type": "display_data"
    }
   ],
   "source": [
    "# Calculate the daily returns using the closing prices and the pct_change function\n",
    "trading_df[\"actual_returns\"] = trading_df[\"Close\"].pct_change()\n",
    "\n",
    "# Drop all NaN values from the DataFrame\n",
    "trading_df = trading_df.dropna()\n",
    "\n",
    "# Review the DataFrame\n",
    "display(trading_df.head())\n",
    "display(trading_df.tail())"
   ]
  },
  {
   "cell_type": "markdown",
   "id": "01281c94-0330-49fa-b824-843d51ce7f52",
   "metadata": {},
   "source": [
    "# Define X values (features)\n",
    "\n",
    "For this example we will use short and long SMA windows of the close price in our data"
   ]
  },
  {
   "cell_type": "code",
   "execution_count": 8,
   "id": "646ce00b-1d47-4519-8ccb-16ea4d4c2482",
   "metadata": {},
   "outputs": [],
   "source": [
    "# Define a window size of 4\n",
    "short_window = 4\n",
    "\n",
    "# Create an SMA that uses short_window, and assign it to a new column named “sma_fast”\n",
    "trading_df[\"sma_fast\"] = trading_df[\"Close\"].rolling(window=short_window).mean()"
   ]
  },
  {
   "cell_type": "code",
   "execution_count": 9,
   "id": "f089d17f-03b0-409f-8033-6ff83db5e146",
   "metadata": {},
   "outputs": [],
   "source": [
    "# Define a window size of 100\n",
    "long_window = 100\n",
    "\n",
    "# Create an SMA that uses long_window, and assign it to a new columns named “sma_slow”\n",
    "trading_df[\"sma_slow\"] = trading_df[\"Close\"].rolling(window=long_window).mean()"
   ]
  },
  {
   "cell_type": "code",
   "execution_count": 10,
   "id": "2a9b6dc9-3ca3-48c7-b578-29609ce16cf7",
   "metadata": {},
   "outputs": [],
   "source": [
    "# Drop the NaNs using dropna()\n",
    "trading_df = trading_df.dropna()"
   ]
  },
  {
   "cell_type": "code",
   "execution_count": 11,
   "id": "daecf854-5111-4318-b45d-60357fda1755",
   "metadata": {},
   "outputs": [
    {
     "data": {
      "text/html": [
       "<div>\n",
       "<style scoped>\n",
       "    .dataframe tbody tr th:only-of-type {\n",
       "        vertical-align: middle;\n",
       "    }\n",
       "\n",
       "    .dataframe tbody tr th {\n",
       "        vertical-align: top;\n",
       "    }\n",
       "\n",
       "    .dataframe thead th {\n",
       "        text-align: right;\n",
       "    }\n",
       "</style>\n",
       "<table border=\"1\" class=\"dataframe\">\n",
       "  <thead>\n",
       "    <tr style=\"text-align: right;\">\n",
       "      <th></th>\n",
       "      <th>sma_fast</th>\n",
       "      <th>sma_slow</th>\n",
       "    </tr>\n",
       "    <tr>\n",
       "      <th>Date</th>\n",
       "      <th></th>\n",
       "      <th></th>\n",
       "    </tr>\n",
       "  </thead>\n",
       "  <tbody>\n",
       "    <tr>\n",
       "      <th>2017-08-31</th>\n",
       "      <td>934.502502</td>\n",
       "      <td>945.779905</td>\n",
       "    </tr>\n",
       "    <tr>\n",
       "      <th>2017-09-01</th>\n",
       "      <td>940.687500</td>\n",
       "      <td>946.915305</td>\n",
       "    </tr>\n",
       "    <tr>\n",
       "      <th>2017-09-05</th>\n",
       "      <td>946.652496</td>\n",
       "      <td>948.036404</td>\n",
       "    </tr>\n",
       "    <tr>\n",
       "      <th>2017-09-06</th>\n",
       "      <td>948.084991</td>\n",
       "      <td>949.036604</td>\n",
       "    </tr>\n",
       "    <tr>\n",
       "      <th>2017-09-07</th>\n",
       "      <td>947.682495</td>\n",
       "      <td>950.055004</td>\n",
       "    </tr>\n",
       "  </tbody>\n",
       "</table>\n",
       "</div>"
      ],
      "text/plain": [
       "              sma_fast    sma_slow\n",
       "Date                              \n",
       "2017-08-31  934.502502  945.779905\n",
       "2017-09-01  940.687500  946.915305\n",
       "2017-09-05  946.652496  948.036404\n",
       "2017-09-06  948.084991  949.036604\n",
       "2017-09-07  947.682495  950.055004"
      ]
     },
     "metadata": {},
     "output_type": "display_data"
    },
    {
     "data": {
      "text/html": [
       "<div>\n",
       "<style scoped>\n",
       "    .dataframe tbody tr th:only-of-type {\n",
       "        vertical-align: middle;\n",
       "    }\n",
       "\n",
       "    .dataframe tbody tr th {\n",
       "        vertical-align: top;\n",
       "    }\n",
       "\n",
       "    .dataframe thead th {\n",
       "        text-align: right;\n",
       "    }\n",
       "</style>\n",
       "<table border=\"1\" class=\"dataframe\">\n",
       "  <thead>\n",
       "    <tr style=\"text-align: right;\">\n",
       "      <th></th>\n",
       "      <th>sma_fast</th>\n",
       "      <th>sma_slow</th>\n",
       "    </tr>\n",
       "    <tr>\n",
       "      <th>Date</th>\n",
       "      <th></th>\n",
       "      <th></th>\n",
       "    </tr>\n",
       "  </thead>\n",
       "  <tbody>\n",
       "    <tr>\n",
       "      <th>2022-03-31</th>\n",
       "      <td>2837.862549</td>\n",
       "      <td>2794.726108</td>\n",
       "    </tr>\n",
       "    <tr>\n",
       "      <th>2022-04-01</th>\n",
       "      <td>2824.835083</td>\n",
       "      <td>2792.769209</td>\n",
       "    </tr>\n",
       "    <tr>\n",
       "      <th>2022-04-04</th>\n",
       "      <td>2818.310059</td>\n",
       "      <td>2790.993108</td>\n",
       "    </tr>\n",
       "    <tr>\n",
       "      <th>2022-04-05</th>\n",
       "      <td>2820.640015</td>\n",
       "      <td>2789.803706</td>\n",
       "    </tr>\n",
       "    <tr>\n",
       "      <th>2022-04-06</th>\n",
       "      <td>2813.902527</td>\n",
       "      <td>2788.743206</td>\n",
       "    </tr>\n",
       "  </tbody>\n",
       "</table>\n",
       "</div>"
      ],
      "text/plain": [
       "               sma_fast     sma_slow\n",
       "Date                                \n",
       "2022-03-31  2837.862549  2794.726108\n",
       "2022-04-01  2824.835083  2792.769209\n",
       "2022-04-04  2818.310059  2790.993108\n",
       "2022-04-05  2820.640015  2789.803706\n",
       "2022-04-06  2813.902527  2788.743206"
      ]
     },
     "metadata": {},
     "output_type": "display_data"
    }
   ],
   "source": [
    "# Assign a copy of the `sma_fast` and `sma_slow` columns to a new DataFrame called `X`\n",
    "# Shift X values 1 day forward to predict next day prices\n",
    "X = trading_df[[\"sma_fast\", \"sma_slow\"]].shift().dropna().copy()\n",
    "\n",
    "# Display sample data\n",
    "display(X.head())\n",
    "display(X.tail())"
   ]
  },
  {
   "cell_type": "markdown",
   "id": "755b4f8d-cd26-4545-a3dc-efd6d84ce5e3",
   "metadata": {},
   "source": [
    "# Define Y (Target)\n",
    "\n",
    "In this example we use a trading signal that throws a long when actual returns are positive (when the price is going up) and a short when actual returns are negative\n",
    "\n",
    "Here we're using 1 and 0 so we can later diff the file to create actual trade signals. As is these signals just indicate whether the price is going up or down"
   ]
  },
  {
   "cell_type": "code",
   "execution_count": 12,
   "id": "44ff6d8e-80b7-42e6-bb52-867ceb125270",
   "metadata": {},
   "outputs": [],
   "source": [
    "# Create a new column in the `trading_df` called \"signal\" setting its value to zero.\n",
    "trading_df[\"signal\"] = 0.0"
   ]
  },
  {
   "cell_type": "code",
   "execution_count": 13,
   "id": "103cfce5-eb1c-45b2-a0f2-0a956c02fc6a",
   "metadata": {},
   "outputs": [],
   "source": [
    "# Create the signal to buy\n",
    "trading_df.loc[(trading_df[\"actual_returns\"] >= 0), \"signal\"] = 1"
   ]
  },
  {
   "cell_type": "code",
   "execution_count": 14,
   "id": "384cff26-1877-4ec8-af70-fc91f3bbe3cb",
   "metadata": {},
   "outputs": [],
   "source": [
    "# Create the signal to sell\n",
    "trading_df.loc[(trading_df[\"actual_returns\"] < 0), \"signal\"] = 0"
   ]
  },
  {
   "cell_type": "code",
   "execution_count": 15,
   "id": "ac98e753-3901-41c2-bcee-cbd32fe00e5f",
   "metadata": {},
   "outputs": [],
   "source": [
    "# Copy the new \"signal\" column to a new Series called `y`.\n",
    "y = trading_df[\"signal\"].copy()"
   ]
  },
  {
   "cell_type": "markdown",
   "id": "e1460f73-2cfd-4292-a1d1-28a75f69d70f",
   "metadata": {},
   "source": [
    "# Split training and testing data\n",
    "\n",
    "We need to do this manually since our data is sequential and we can't have splitting functions randomise data\n",
    "\n",
    "The offset will determine how big the training/testing datasets will be. We will use 12 months for now"
   ]
  },
  {
   "cell_type": "code",
   "execution_count": 16,
   "id": "14852b67-53c6-464c-8b41-ca690fec484d",
   "metadata": {},
   "outputs": [],
   "source": [
    "# Import required libraries\n",
    "from pandas.tseries.offsets import DateOffset"
   ]
  },
  {
   "cell_type": "code",
   "execution_count": 17,
   "id": "003b47f9-89c5-4d2f-af8c-e7e49fc07a8f",
   "metadata": {},
   "outputs": [
    {
     "name": "stdout",
     "output_type": "stream",
     "text": [
      "2017-08-31 00:00:00\n"
     ]
    }
   ],
   "source": [
    "# Select the start of the training period\n",
    "training_begin = X.index.min()\n",
    "\n",
    "# Display the training begin date\n",
    "print(training_begin)"
   ]
  },
  {
   "cell_type": "code",
   "execution_count": 18,
   "id": "51d4a0d4-a57f-4127-b7d5-cd3d84dd2122",
   "metadata": {},
   "outputs": [
    {
     "name": "stdout",
     "output_type": "stream",
     "text": [
      "2018-08-31 00:00:00\n"
     ]
    }
   ],
   "source": [
    "# Select the ending period for the training data with an offset of 3 months\n",
    "training_end = X.index.min() + DateOffset(months=12)\n",
    "\n",
    "# Display the training end date\n",
    "print(training_end)"
   ]
  },
  {
   "cell_type": "code",
   "execution_count": 19,
   "id": "096807fa-5eca-4f51-b07b-a318fa78b774",
   "metadata": {},
   "outputs": [],
   "source": [
    "# Generate the X_train and y_train DataFrames\n",
    "X_train = X.loc[training_begin:training_end]\n",
    "y_train = y.loc[training_begin:training_end]"
   ]
  },
  {
   "cell_type": "code",
   "execution_count": 20,
   "id": "97556dbe-986e-45ea-96dc-9c32d37de2d8",
   "metadata": {},
   "outputs": [],
   "source": [
    "# Generate the X_test and y_test DataFrames\n",
    "X_test = X.loc[training_end:]\n",
    "y_test = y.loc[training_end:]"
   ]
  },
  {
   "cell_type": "markdown",
   "id": "08c0bbb9-bfb7-4469-872f-90b3bd911c19",
   "metadata": {},
   "source": [
    "# Scale Data"
   ]
  },
  {
   "cell_type": "code",
   "execution_count": 21,
   "id": "9e82c4d8-f92b-4e22-a94f-c5e304146d34",
   "metadata": {},
   "outputs": [],
   "source": [
    "# Import required libraries\n",
    "from sklearn.preprocessing import StandardScaler"
   ]
  },
  {
   "cell_type": "code",
   "execution_count": 22,
   "id": "766cbd19-51b3-42a4-be87-bd01182949c8",
   "metadata": {},
   "outputs": [],
   "source": [
    "# Create a StandardScaler instance\n",
    "scaler = StandardScaler()\n",
    " \n",
    "# Apply the scaler model to fit the X-train data\n",
    "X_scaler = scaler.fit(X_train)\n",
    " \n",
    "# Transform the X_train and X_test DataFrames using the X_scaler\n",
    "X_train_scaled = X_scaler.transform(X_train)\n",
    "X_test_scaled = X_scaler.transform(X_test)"
   ]
  },
  {
   "cell_type": "markdown",
   "id": "4560e54d-6372-47fa-8222-5b0c1fd47116",
   "metadata": {},
   "source": [
    "# Create the model\n",
    "\n",
    "Here we are using an svc model which is a classifier from sklearn"
   ]
  },
  {
   "cell_type": "code",
   "execution_count": 23,
   "id": "400337c7-4a85-41f8-b1a9-085b01e847eb",
   "metadata": {},
   "outputs": [],
   "source": [
    "# Import the SVM model\n",
    "from sklearn import svm\n",
    "from sklearn.metrics import classification_report"
   ]
  },
  {
   "cell_type": "markdown",
   "id": "471b4d15-ccce-4278-9ad0-0d39e1ac77e5",
   "metadata": {},
   "source": [
    "# Evaluate and backtest the model\n",
    "\n",
    "We evaluate the model's training data to see how well its training went, then predict using the model and testing data, and run some metrics"
   ]
  },
  {
   "cell_type": "code",
   "execution_count": 24,
   "id": "2ae7ab23-1b45-4b0a-be63-7a4a4d1b9018",
   "metadata": {},
   "outputs": [
    {
     "data": {
      "text/plain": [
       "(253, 2)"
      ]
     },
     "execution_count": 24,
     "metadata": {},
     "output_type": "execute_result"
    }
   ],
   "source": [
    "X_train_scaled.shape\n"
   ]
  },
  {
   "cell_type": "code",
   "execution_count": 25,
   "id": "c170e451-f485-49cf-990b-3ae650c130f5",
   "metadata": {},
   "outputs": [
    {
     "data": {
      "text/plain": [
       "(253,)"
      ]
     },
     "execution_count": 25,
     "metadata": {},
     "output_type": "execute_result"
    }
   ],
   "source": [
    "y_train.shape\n"
   ]
  },
  {
   "cell_type": "code",
   "execution_count": 37,
   "id": "8f3dd0ac-7ea1-4d3f-b267-d04b75b54cc8",
   "metadata": {},
   "outputs": [
    {
     "data": {
      "text/plain": [
       "sklearn.linear_model._stochastic_gradient.SGDClassifier"
      ]
     },
     "execution_count": 37,
     "metadata": {},
     "output_type": "execute_result"
    }
   ],
   "source": [
    "# create and fit model SGD (Stochastic Gradient Descent)\n",
    "from sklearn.linear_model import SGDClassifier\n",
    "import numpy as np\n",
    "from sklearn.metrics import classification_report\n",
    "\n",
    "SGD_model = SGDClassifier(loss=\"hinge\", penalty=\"l2\", max_iter=253)\n",
    "SGD_model = SGD_model.fit(X_train_scaled, y_train)\n",
    "SGDClassifier"
   ]
  },
  {
   "cell_type": "code",
   "execution_count": 38,
   "id": "4a2bc694-39f6-4038-8c01-d035232abd6f",
   "metadata": {},
   "outputs": [],
   "source": [
    "#Predict new values \n",
    "SGD_model_predict = SGD_model.predict(X_train_scaled)"
   ]
  },
  {
   "cell_type": "code",
   "execution_count": 39,
   "id": "cd0d1481-6978-45f6-a63a-b499aeb8ced4",
   "metadata": {},
   "outputs": [
    {
     "data": {
      "text/plain": [
       "array([0., 0., 0., 0., 0., 0., 0., 0., 0., 0., 0., 0., 0., 0., 0., 0., 0.,\n",
       "       0., 0., 0., 0., 0., 0., 0., 0., 0., 0., 0., 0., 0., 0., 0., 0., 0.,\n",
       "       0., 0., 0., 0., 0., 0., 0., 0., 0., 0., 0., 0., 0., 0., 0., 0., 0.,\n",
       "       0., 0., 0., 0., 0., 0., 0., 0., 0., 0., 0., 0., 0., 0., 0., 0., 0.,\n",
       "       0., 0., 0., 0., 0., 1., 1., 1., 1., 1., 1., 1., 1., 1., 1., 1., 1.,\n",
       "       1., 1., 1., 1., 1., 1., 1., 1., 1., 1., 1., 1., 1., 1., 1., 1., 1.,\n",
       "       1., 1., 1., 1., 1., 1., 1., 1., 1., 1., 1., 1., 1., 1., 1., 1., 1.,\n",
       "       1., 1., 1., 1., 1., 1., 1., 1., 1., 1., 1., 1., 1., 1., 1., 1., 1.,\n",
       "       1., 1., 1., 1., 1., 1., 1., 1., 1., 1., 1., 1., 1., 1., 1., 1., 1.,\n",
       "       1., 1., 1., 1., 1., 1., 1., 1., 1., 1., 1., 1., 1., 1., 1., 1., 1.,\n",
       "       1., 1., 1., 1., 1., 1., 1., 1., 1., 1., 1., 1., 1., 1., 1., 1., 1.,\n",
       "       1., 1., 1., 1., 1., 1., 1., 1., 1., 1., 1., 1., 1., 1., 1., 1., 1.,\n",
       "       1., 1., 1., 1., 1., 1., 1., 1., 1., 1., 1., 1., 1., 1., 1., 1., 1.,\n",
       "       1., 1., 1., 1., 1., 1., 1., 1., 1., 1., 1., 1., 1., 1., 1., 1., 1.,\n",
       "       1., 1., 1., 1., 1., 1., 1., 1., 1., 1., 1., 1., 1., 1., 1.])"
      ]
     },
     "execution_count": 39,
     "metadata": {},
     "output_type": "execute_result"
    }
   ],
   "source": [
    "SGD_model_predict"
   ]
  },
  {
   "cell_type": "code",
   "execution_count": 40,
   "id": "2bc81cc1-b79a-4b25-9a23-6ab254a3fb1c",
   "metadata": {},
   "outputs": [
    {
     "name": "stdout",
     "output_type": "stream",
     "text": [
      "              precision    recall  f1-score   support\n",
      "\n",
      "         0.0       0.41      0.26      0.32       117\n",
      "         1.0       0.52      0.68      0.59       136\n",
      "\n",
      "    accuracy                           0.49       253\n",
      "   macro avg       0.46      0.47      0.45       253\n",
      "weighted avg       0.47      0.49      0.46       253\n",
      "\n"
     ]
    }
   ],
   "source": [
    "# Evaluate the model using a classification report\n",
    "training_report = classification_report(y_train, SGD_model_predict)\n",
    "\n",
    "# Display the report\n",
    "print(training_report)"
   ]
  },
  {
   "cell_type": "code",
   "execution_count": 41,
   "id": "739f16b8-a257-4329-b7ab-59daaefdfa45",
   "metadata": {},
   "outputs": [],
   "source": [
    "# Use the trained model to predict the trading signals for the testing data.\n",
    "testing_signal_predictions = SGD_model.predict(X_test_scaled)"
   ]
  },
  {
   "cell_type": "code",
   "execution_count": 42,
   "id": "018cd355-94ee-4f98-885b-94011957bd6a",
   "metadata": {},
   "outputs": [
    {
     "name": "stdout",
     "output_type": "stream",
     "text": [
      "              precision    recall  f1-score   support\n",
      "\n",
      "         0.0       0.00      0.00      0.00       413\n",
      "         1.0       0.54      1.00      0.70       493\n",
      "\n",
      "    accuracy                           0.54       906\n",
      "   macro avg       0.27      0.50      0.35       906\n",
      "weighted avg       0.30      0.54      0.38       906\n",
      "\n"
     ]
    },
    {
     "name": "stderr",
     "output_type": "stream",
     "text": [
      "C:\\Users\\Antonio\\AppData\\Local\\Programs\\Python\\Python310\\lib\\site-packages\\sklearn\\metrics\\_classification.py:1318: UndefinedMetricWarning: Precision and F-score are ill-defined and being set to 0.0 in labels with no predicted samples. Use `zero_division` parameter to control this behavior.\n",
      "  _warn_prf(average, modifier, msg_start, len(result))\n",
      "C:\\Users\\Antonio\\AppData\\Local\\Programs\\Python\\Python310\\lib\\site-packages\\sklearn\\metrics\\_classification.py:1318: UndefinedMetricWarning: Precision and F-score are ill-defined and being set to 0.0 in labels with no predicted samples. Use `zero_division` parameter to control this behavior.\n",
      "  _warn_prf(average, modifier, msg_start, len(result))\n",
      "C:\\Users\\Antonio\\AppData\\Local\\Programs\\Python\\Python310\\lib\\site-packages\\sklearn\\metrics\\_classification.py:1318: UndefinedMetricWarning: Precision and F-score are ill-defined and being set to 0.0 in labels with no predicted samples. Use `zero_division` parameter to control this behavior.\n",
      "  _warn_prf(average, modifier, msg_start, len(result))\n"
     ]
    }
   ],
   "source": [
    "# Evaluate the model's ability to predict the trading signal for the testing data\n",
    "testing_report = classification_report(y_test, testing_signal_predictions)\n",
    "\n",
    "# Display the report\n",
    "print(testing_report)"
   ]
  },
  {
   "cell_type": "code",
   "execution_count": 43,
   "id": "646a75c3-dba4-41ee-a224-6e0404efc79f",
   "metadata": {},
   "outputs": [],
   "source": [
    "# This function creates backtesting data using a df of signals indicating price increase or decrease, and an initial capital and trade_size\n",
    "# We will produce proper trading signals out of them to calculate portfolio change over time, total portfolio value etc.\n",
    "# Output will be a copy of the df with position changes, holding value, cash on hand, total portfolio value, and daily and cumulative returns\n",
    "# We will assume input df is a two column df with signal data, close data, and a datetime index\n",
    "def create_backtesting_data(signal_df, capital, trade_size):\n",
    "    \n",
    "    # Grab column name just in case the name is weird\n",
    "    signal_column = signal_df.columns[0]\n",
    "    \n",
    "    # Force the initial position to be 0 otherwise a list of 1s will not be recognised when we run the diff\n",
    "    signal_df.iloc[0,0] = 0\n",
    "\n",
    "    # Diff the signal data to get proper trade signals\n",
    "    signal_df[signal_column] = signal_df[signal_column].diff().dropna()\n",
    "\n",
    "    # Get position changes by combining trade_size and trade signal\n",
    "    signal_df[\"position\"] = signal_df[signal_column] * trade_size\n",
    "\n",
    "    # Get holdings by combining cumulative position and close\n",
    "    signal_df[\"holdings\"] = signal_df[\"position\"].cumsum() * signal_df[\"close\"]\n",
    "    \n",
    "    # Get cumualtive cash on hand by removing cumulative share value from capital\n",
    "    signal_df[\"portfolio cash\"] = capital - (signal_df[\"close\"] * signal_df[\"position\"]).cumsum()\n",
    "    \n",
    "    # Get total portfolio size by adding holdings and liquid\n",
    "    signal_df[\"portfolio total\"] = (signal_df[\"portfolio cash\"] + signal_df[\"holdings\"])\n",
    "    \n",
    "    # Calculate daily returns\n",
    "    signal_df[\"portfolio daily returns\"] = signal_df[\"portfolio total\"].pct_change()\n",
    "    \n",
    "    # Calculate cumulative returns\n",
    "    signal_df[\"portfolio cumulative returns\"] = (1 + signal_df[\"portfolio daily returns\"]).cumprod() - 1\n",
    "    \n",
    "    return signal_df"
   ]
  },
  {
   "cell_type": "code",
   "execution_count": null,
   "id": "87bf9ee0-bd56-49bc-9299-bddd23326a07",
   "metadata": {},
   "outputs": [],
   "source": [
    "# This function is designed to work with the data generated from the create_backtesting_data() function\n",
    "# We produce the following backtesting metrics: annualized return, cumulative returns, annualised volatility, sharpe ratio, sortino ratio\n",
    "def create_backtesting_metrics(backtesting_df):\n",
    "    # Create the list of the metric names\n",
    "    metrics = [\"Annualized Return\",\n",
    "               \"Cumulative Returns\",\n",
    "               \"Annual Volatility\",\n",
    "               \"Sharpe Ratio\",\n",
    "               \"Sortino Ratio\"]\n",
    "\n",
    "    # Create a list that holds the column name\n",
    "    columns = [\"Backtest\"]\n",
    "\n",
    "    # Initialize the DataFrame with index set to evaluation metrics and columns\n",
    "    metrics_df = pd.DataFrame(index=metrics, columns=columns)\n",
    "    \n",
    "    # Calculate the Annualized return metric\n",
    "    metrics_df.loc['Annualized Return'] = backtesting_df[\"portfolio daily returns\"].mean() * 252\n",
    "\n",
    "    # Calculate the Cumulative returns metric\n",
    "    metrics_df.loc['Cumulative Returns'] = backtesting_df[\"portfolio cumulative returns\"][-1]\n",
    "\n",
    "    # Calculate the Annual volatility metric\n",
    "    metrics_df.loc['Annual Volatility'] = backtesting_df[\"portfolio daily returns\"].std() * np.sqrt(252)\n",
    "    \n",
    "    # Calculate the Sharpe ratio\n",
    "    metrics_df.loc['Sharpe Ratio'] = metrics_df.loc['Annualized Return']/metrics_df.loc['Annual Volatility']\n",
    "\n",
    "    # Calculate the Sortino ratio\n",
    "    # Start by calculating the downside return values\n",
    "\n",
    "    # Create a DataFrame that contains the Portfolio Daily Returns column\n",
    "    sortino_ratio_df = pd.DataFrame(backtesting_df[\"portfolio daily returns\"])\n",
    "\n",
    "    # Create a column to hold downside return values\n",
    "    sortino_ratio_df.loc[:,'Downside Returns'] = 0\n",
    "\n",
    "    # Find Portfolio Daily Returns values less than 0, \n",
    "    # square those values, and add them to the Downside Returns column\n",
    "    sortino_ratio_df.loc[sortino_ratio_df[\"portfolio daily returns\"] > 0, \"Downside Returns\"] = sortino_ratio_df[\"portfolio daily returns\"]**2\n",
    "\n",
    "    # Calculate the annualized return value\n",
    "    annualized_return = sortino_ratio_df[\"portfolio daily returns\"].mean() * 252\n",
    "\n",
    "    # Calculate the annualized downside standard deviation value\n",
    "    downside_standard_deviation = np.sqrt(sortino_ratio_df[\"Downside Returns\"].mean()) * np.sqrt(252)\n",
    "\n",
    "    # Divide the annualized return value by the downside standard deviation value\n",
    "    sortino_ratio = annualized_return/downside_standard_deviation\n",
    "\n",
    "    # Add the Sortino ratio to the evaluation DataFrame\n",
    "    metrics_df.loc['Sortino Ratio'] = sortino_ratio\n",
    "    \n",
    "    return metrics_df\n"
   ]
  },
  {
   "cell_type": "code",
   "execution_count": 45,
   "id": "e5b2062e-beeb-442b-bf28-20a940d6a3e3",
   "metadata": {},
   "outputs": [],
   "source": [
    "# Initialise capital as 10000\n",
    "capital = 50000\n",
    "\n",
    "# Trade shares in 500 share batches\n",
    "trade_size = 500\n"
   ]
  },
  {
   "cell_type": "code",
   "execution_count": 47,
   "id": "dfec849a-08d5-47aa-980e-67626de71363",
   "metadata": {},
   "outputs": [
    {
     "data": {
      "text/html": [
       "<div>\n",
       "<style scoped>\n",
       "    .dataframe tbody tr th:only-of-type {\n",
       "        vertical-align: middle;\n",
       "    }\n",
       "\n",
       "    .dataframe tbody tr th {\n",
       "        vertical-align: top;\n",
       "    }\n",
       "\n",
       "    .dataframe thead th {\n",
       "        text-align: right;\n",
       "    }\n",
       "</style>\n",
       "<table border=\"1\" class=\"dataframe\">\n",
       "  <thead>\n",
       "    <tr style=\"text-align: right;\">\n",
       "      <th></th>\n",
       "      <th>training signals</th>\n",
       "      <th>close</th>\n",
       "    </tr>\n",
       "    <tr>\n",
       "      <th>Date</th>\n",
       "      <th></th>\n",
       "      <th></th>\n",
       "    </tr>\n",
       "  </thead>\n",
       "  <tbody>\n",
       "    <tr>\n",
       "      <th>2017-08-31</th>\n",
       "      <td>0.0</td>\n",
       "      <td>955.239990</td>\n",
       "    </tr>\n",
       "    <tr>\n",
       "      <th>2017-09-01</th>\n",
       "      <td>0.0</td>\n",
       "      <td>951.989990</td>\n",
       "    </tr>\n",
       "    <tr>\n",
       "      <th>2017-09-05</th>\n",
       "      <td>0.0</td>\n",
       "      <td>941.479980</td>\n",
       "    </tr>\n",
       "    <tr>\n",
       "      <th>2017-09-06</th>\n",
       "      <td>0.0</td>\n",
       "      <td>942.020020</td>\n",
       "    </tr>\n",
       "    <tr>\n",
       "      <th>2017-09-07</th>\n",
       "      <td>0.0</td>\n",
       "      <td>949.890015</td>\n",
       "    </tr>\n",
       "  </tbody>\n",
       "</table>\n",
       "</div>"
      ],
      "text/plain": [
       "            training signals       close\n",
       "Date                                    \n",
       "2017-08-31               0.0  955.239990\n",
       "2017-09-01               0.0  951.989990\n",
       "2017-09-05               0.0  941.479980\n",
       "2017-09-06               0.0  942.020020\n",
       "2017-09-07               0.0  949.890015"
      ]
     },
     "execution_count": 47,
     "metadata": {},
     "output_type": "execute_result"
    }
   ],
   "source": [
    "# Create df with signal data of training period\n",
    "# To make the above function work the df will need to be in the following format:\n",
    "training_evaluation_df = pd.DataFrame({\"training signals\": SGD_model_predict,}, index = y_train.index)\n",
    "\n",
    "# Get timeframe for training data\n",
    "start_date = training_evaluation_df.index[0]\n",
    "end_date = training_evaluation_df.index[-1]\n",
    "\n",
    "training_evaluation_df[\"close\"] = trading_df.loc[start_date:end_date, \"Close\"]\n",
    "\n",
    "training_evaluation_df.head()"
   ]
  },
  {
   "cell_type": "code",
   "execution_count": 50,
   "id": "2df19840-19a1-4cf4-b671-0775fda88c4a",
   "metadata": {},
   "outputs": [
    {
     "data": {
      "text/html": [
       "<div>\n",
       "<style scoped>\n",
       "    .dataframe tbody tr th:only-of-type {\n",
       "        vertical-align: middle;\n",
       "    }\n",
       "\n",
       "    .dataframe tbody tr th {\n",
       "        vertical-align: top;\n",
       "    }\n",
       "\n",
       "    .dataframe thead th {\n",
       "        text-align: right;\n",
       "    }\n",
       "</style>\n",
       "<table border=\"1\" class=\"dataframe\">\n",
       "  <thead>\n",
       "    <tr style=\"text-align: right;\">\n",
       "      <th></th>\n",
       "      <th>training signals</th>\n",
       "      <th>close</th>\n",
       "      <th>position</th>\n",
       "      <th>holdings</th>\n",
       "      <th>portfolio cash</th>\n",
       "      <th>portfolio total</th>\n",
       "      <th>portfolio daily returns</th>\n",
       "      <th>portfolio cumulative returns</th>\n",
       "    </tr>\n",
       "    <tr>\n",
       "      <th>Date</th>\n",
       "      <th></th>\n",
       "      <th></th>\n",
       "      <th></th>\n",
       "      <th></th>\n",
       "      <th></th>\n",
       "      <th></th>\n",
       "      <th></th>\n",
       "      <th></th>\n",
       "    </tr>\n",
       "  </thead>\n",
       "  <tbody>\n",
       "    <tr>\n",
       "      <th>2018-08-27</th>\n",
       "      <td>0.0</td>\n",
       "      <td>1256.270020</td>\n",
       "      <td>0.0</td>\n",
       "      <td>0.0</td>\n",
       "      <td>57265.014648</td>\n",
       "      <td>57265.014648</td>\n",
       "      <td>0.0</td>\n",
       "      <td>0.1453</td>\n",
       "    </tr>\n",
       "    <tr>\n",
       "      <th>2018-08-28</th>\n",
       "      <td>0.0</td>\n",
       "      <td>1245.859985</td>\n",
       "      <td>0.0</td>\n",
       "      <td>0.0</td>\n",
       "      <td>57265.014648</td>\n",
       "      <td>57265.014648</td>\n",
       "      <td>0.0</td>\n",
       "      <td>0.1453</td>\n",
       "    </tr>\n",
       "    <tr>\n",
       "      <th>2018-08-29</th>\n",
       "      <td>0.0</td>\n",
       "      <td>1264.650024</td>\n",
       "      <td>0.0</td>\n",
       "      <td>0.0</td>\n",
       "      <td>57265.014648</td>\n",
       "      <td>57265.014648</td>\n",
       "      <td>0.0</td>\n",
       "      <td>0.1453</td>\n",
       "    </tr>\n",
       "    <tr>\n",
       "      <th>2018-08-30</th>\n",
       "      <td>0.0</td>\n",
       "      <td>1254.439941</td>\n",
       "      <td>0.0</td>\n",
       "      <td>0.0</td>\n",
       "      <td>57265.014648</td>\n",
       "      <td>57265.014648</td>\n",
       "      <td>0.0</td>\n",
       "      <td>0.1453</td>\n",
       "    </tr>\n",
       "    <tr>\n",
       "      <th>2018-08-31</th>\n",
       "      <td>0.0</td>\n",
       "      <td>1231.800049</td>\n",
       "      <td>0.0</td>\n",
       "      <td>0.0</td>\n",
       "      <td>57265.014648</td>\n",
       "      <td>57265.014648</td>\n",
       "      <td>0.0</td>\n",
       "      <td>0.1453</td>\n",
       "    </tr>\n",
       "  </tbody>\n",
       "</table>\n",
       "</div>"
      ],
      "text/plain": [
       "            training signals        close  position  holdings  portfolio cash  \\\n",
       "Date                                                                            \n",
       "2018-08-27               0.0  1256.270020       0.0       0.0    57265.014648   \n",
       "2018-08-28               0.0  1245.859985       0.0       0.0    57265.014648   \n",
       "2018-08-29               0.0  1264.650024       0.0       0.0    57265.014648   \n",
       "2018-08-30               0.0  1254.439941       0.0       0.0    57265.014648   \n",
       "2018-08-31               0.0  1231.800049       0.0       0.0    57265.014648   \n",
       "\n",
       "            portfolio total  portfolio daily returns  \\\n",
       "Date                                                   \n",
       "2018-08-27     57265.014648                      0.0   \n",
       "2018-08-28     57265.014648                      0.0   \n",
       "2018-08-29     57265.014648                      0.0   \n",
       "2018-08-30     57265.014648                      0.0   \n",
       "2018-08-31     57265.014648                      0.0   \n",
       "\n",
       "            portfolio cumulative returns  \n",
       "Date                                      \n",
       "2018-08-27                        0.1453  \n",
       "2018-08-28                        0.1453  \n",
       "2018-08-29                        0.1453  \n",
       "2018-08-30                        0.1453  \n",
       "2018-08-31                        0.1453  "
      ]
     },
     "execution_count": 50,
     "metadata": {},
     "output_type": "execute_result"
    }
   ],
   "source": [
    "# Run backtesting function\n",
    "training_evaluation_df = create_backtesting_data(training_evaluation_df, capital, trade_size)\n",
    "\n",
    "training_evaluation_df.tail()"
   ]
  },
  {
   "cell_type": "code",
   "execution_count": 51,
   "id": "8ce49d38-e9d0-49d0-8739-e5ad77c0658b",
   "metadata": {},
   "outputs": [
    {
     "ename": "NameError",
     "evalue": "name 'create_backtesting_metrics' is not defined",
     "output_type": "error",
     "traceback": [
      "\u001b[1;31m---------------------------------------------------------------------------\u001b[0m",
      "\u001b[1;31mNameError\u001b[0m                                 Traceback (most recent call last)",
      "Input \u001b[1;32mIn [51]\u001b[0m, in \u001b[0;36m<module>\u001b[1;34m\u001b[0m\n\u001b[1;32m----> 1\u001b[0m metrics_df \u001b[38;5;241m=\u001b[39m \u001b[43mcreate_backtesting_metrics\u001b[49m(training_evaluation_df)\n\u001b[0;32m      3\u001b[0m metrics_df\u001b[38;5;241m.\u001b[39mtail()\n",
      "\u001b[1;31mNameError\u001b[0m: name 'create_backtesting_metrics' is not defined"
     ]
    }
   ],
   "source": [
    "metrics_df = create_backtesting_metrics(training_evaluation_df)\n",
    "\n",
    "metrics_df.tail()"
   ]
  },
  {
   "cell_type": "code",
   "execution_count": null,
   "id": "d4483e1e-82c0-4188-82c1-91009572dec8",
   "metadata": {},
   "outputs": [],
   "source": []
  }
 ],
 "metadata": {
  "kernelspec": {
   "display_name": "Python 3",
   "language": "python",
   "name": "python3"
  },
  "language_info": {
   "codemirror_mode": {
    "name": "ipython",
    "version": 3
   },
   "file_extension": ".py",
   "mimetype": "text/x-python",
   "name": "python",
   "nbconvert_exporter": "python",
   "pygments_lexer": "ipython3",
   "version": "3.8.8"
  }
 },
 "nbformat": 4,
 "nbformat_minor": 5
}
