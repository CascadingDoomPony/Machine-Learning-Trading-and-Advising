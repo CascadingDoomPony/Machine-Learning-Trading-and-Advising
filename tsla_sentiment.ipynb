{
 "cells": [
  {
   "cell_type": "code",
   "execution_count": 1,
   "id": "9733e995",
   "metadata": {},
   "outputs": [],
   "source": [
    "#Sentiment Analysis Tsla using Beautiful Soup"
   ]
  },
  {
   "cell_type": "code",
   "execution_count": 7,
   "id": "1420ce03",
   "metadata": {},
   "outputs": [
    {
     "name": "stderr",
     "output_type": "stream",
     "text": [
      "[nltk_data] Downloading package vader_lexicon to\n",
      "[nltk_data]     C:\\Users\\Admin\\AppData\\Roaming\\nltk_data...\n",
      "[nltk_data]   Package vader_lexicon is already up-to-date!\n"
     ]
    }
   ],
   "source": [
    "# Initial imports\n",
    "import os\n",
    "import pandas as pd\n",
    "from dotenv import load_dotenv\n",
    "import nltk as nltk\n",
    "import requests\n",
    "from pathlib import Path\n",
    "\n",
    "nltk.download('vader_lexicon')\n",
    "from nltk.sentiment.vader import SentimentIntensityAnalyzer\n",
    "analyzer = SentimentIntensityAnalyzer()\n",
    "\n",
    "%matplotlib inline"
   ]
  },
  {
   "cell_type": "code",
   "execution_count": 9,
   "id": "310ecf4c",
   "metadata": {},
   "outputs": [],
   "source": [
    "# Read your api key environment variable\n",
    "load_dotenv()\n",
    "api_key = os.getenv(\"NEWS_API_KEY\")"
   ]
  },
  {
   "cell_type": "code",
   "execution_count": 10,
   "id": "9abba6e8",
   "metadata": {},
   "outputs": [
    {
     "name": "stdout",
     "output_type": "stream",
     "text": [
      "1ee42792279e4bb38c96b682f9029b47\n"
     ]
    }
   ],
   "source": [
    "# Create a newsapi client\n",
    "from newsapi import NewsApiClient\n",
    "newsapi = NewsApiClient(api_key)\n",
    "print(api_key)"
   ]
  },
  {
   "cell_type": "code",
   "execution_count": null,
   "id": "2175cb1f",
   "metadata": {
    "scrolled": true
   },
   "outputs": [],
   "source": [
    "# Fetch the TSLA news articles\n",
    "tesla_headlines = newsapi.get_everything(\n",
    "    q=\"tesla\",\n",
    "    language=\"en\",\n",
    "    page_size=100,\n",
    "    sort_by=\"relevancy\"\n",
    ")\n",
    "tesla_headlines"
   ]
  },
  {
   "cell_type": "code",
   "execution_count": null,
   "id": "9f1d1b34",
   "metadata": {},
   "outputs": [],
   "source": [
    "# Create the Tesla sentiment scores DataFrame\n",
    "tesla_sentiments = []\n",
    "\n",
    "for article in tesla_headlines[\"articles\"]:\n",
    "    try:\n",
    "        Date = article[\"publishedAt\"]\n",
    "        text = article[\"content\"]\n",
    "        sentiment = analyzer.polarity_scores(text)\n",
    "        compound = sentiment[\"compound\"]\n",
    "        pos = sentiment[\"pos\"]\n",
    "        neu = sentiment[\"neu\"]\n",
    "        neg = sentiment[\"neg\"]\n",
    "        \n",
    "        tesla_sentiments.append({\n",
    "            \"Date\": Date,\n",
    "            \"text\": text,\n",
    "            \"compound\": compound,\n",
    "            \"positive\": pos,\n",
    "            \"negative\": neg,\n",
    "            \"neutral\": neu\n",
    "            \n",
    "        })\n",
    "        \n",
    "    except AttributeError:\n",
    "        pass\n",
    "    \n",
    "tesla_df = pd.DataFrame(tesla_sentiments)   \n",
    "tesla_df[\"Date\"] = pd.to_datetime(tesla_df[\"Date\"])\n",
    "tesla_df = tesla_df.set_index(\"Date\")\n",
    "tesla_df = tesla_df.sort_index()\n",
    "tesla_df"
   ]
  },
  {
   "cell_type": "code",
   "execution_count": null,
   "id": "8527fbe1",
   "metadata": {},
   "outputs": [],
   "source": [
    "# Creacting a binary response for the tsla stock\n",
    "tesla_df['comp_score'] = tesla_df['compound'].apply(lambda c: '1' if c >=0 else '0')\n",
    "\n",
    "tesla_df.tail()"
   ]
  },
  {
   "cell_type": "code",
   "execution_count": null,
   "id": "3a00448e",
   "metadata": {},
   "outputs": [],
   "source": []
  }
 ],
 "metadata": {
  "kernelspec": {
   "display_name": "Python 3 (ipykernel)",
   "language": "python",
   "name": "python3"
  },
  "language_info": {
   "codemirror_mode": {
    "name": "ipython",
    "version": 3
   },
   "file_extension": ".py",
   "mimetype": "text/x-python",
   "name": "python",
   "nbconvert_exporter": "python",
   "pygments_lexer": "ipython3",
   "version": "3.9.7"
  }
 },
 "nbformat": 4,
 "nbformat_minor": 5
}
