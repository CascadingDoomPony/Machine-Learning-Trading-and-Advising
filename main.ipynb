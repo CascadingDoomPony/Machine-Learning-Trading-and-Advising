{
  "nbformat": 4,
  "nbformat_minor": 0,
  "metadata": {
    "colab": {
      "name": "Untitled1.ipynb",
      "provenance": [],
      "include_colab_link": true
    },
    "kernelspec": {
      "name": "python3",
      "display_name": "Python 3"
    },
    "language_info": {
      "name": "python"
    }
  },
  "cells": [
    {
      "cell_type": "markdown",
      "metadata": {
        "id": "view-in-github",
        "colab_type": "text"
      },
      "source": [
        "<a href=\"https://colab.research.google.com/github/CascadingDoomPony/Machine-Learning-Trading-and-Advising/blob/main/main.ipynb\" target=\"_parent\"><img src=\"https://colab.research.google.com/assets/colab-badge.svg\" alt=\"Open In Colab\"/></a>"
      ]
    },
    {
      "cell_type": "code",
      "execution_count": null,
      "metadata": {
        "id": "M6pY3B3xU2Ac"
      },
      "outputs": [],
      "source": [
        "#Machine Learning"
      ]
    },
    {
      "cell_type": "code",
      "source": [
        "#wgerggerger"
      ],
      "metadata": {
        "id": "NII9RiEVVjFx"
      },
      "execution_count": null,
      "outputs": []
    },
    {
      "cell_type": "code",
      "source": [
        "#Test to see replacement "
      ],
      "metadata": {
        "id": "f59XvECBWfIY"
      },
      "execution_count": null,
      "outputs": []
    }
  ]
}