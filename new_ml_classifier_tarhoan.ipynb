{
 "cells": [
  {
   "cell_type": "markdown",
   "metadata": {},
   "source": [
    "# Using a New Machine Learning Classifier for Algorithmic Trading\n",
    "\n",
    "## Background\n",
    "\n",
    "Choosing a machine learning model to use in a trading strategy is a matter of trial and error. In this way, you find a model that produces the desired outcomes with an acceptable level of performance.\n",
    "\n",
    "In the machine learning section of the boot camp, you learned about some classification models, such as logistic regression, support vector machines (SVM), and neural networks. In this activity, you'll train a logistic regression model to make trading predictions, backtest the results, and then evaluate its performance compared to that of a SVM model.\n",
    "\n",
    "## Instructions:\n",
    "\n",
    "1. Open the provided starter code. Inspect and run all the cells up to the “Add a New Machine Learning Model” section to review the data loading and preparation process, as well as the inclusion of a SVM model in a trading algorithm.\n",
    "\n",
    "2. Import the `LogisticRegression` model from scikit-learn.\n",
    "\n",
    "    > **Rewind** Recall that `LogisticRegression` models are used for binary classification problems.\n",
    "\n",
    "3. Using the same training data that the SVM model used (`X_train_scaled` and `y_train`), fit the `LogisticRegression` model.\n",
    "\n",
    "4. Use the trained model to predict the trading signals for the training data. Use the `classification_report` module to evaluate the model.\n",
    "\n",
    "5. Backtest the `LogisticRegression` model to evaluate its performance.\n",
    "\n",
    "6. Compare the performance of the logistic regression and SVM models using the classification reports generated with the testing data.  Did the logistic regression model perform better than SVM? Write down your conclusions to share with the class.\n",
    "\n",
    "\n",
    "## References\n",
    "\n",
    "* [SKLearn SVM - SVC Classifier](https://scikit-learn.org/stable/modules/generated/sklearn.svm.SVC.html)\n",
    "\n",
    "* [SKLearn LogisticRegression](https://scikit-learn.org/stable/modules/generated/sklearn.linear_model.LogisticRegression.html)\n",
    "\n",
    "---"
   ]
  },
  {
   "cell_type": "code",
   "execution_count": 1,
   "metadata": {},
   "outputs": [],
   "source": [
    "# Imports\n",
    "import pandas as pd\n",
    "from pathlib import Path"
   ]
  },
  {
   "cell_type": "markdown",
   "metadata": {},
   "source": [
    "### Read the CSV file into Pandas DataFrame"
   ]
  },
  {
   "cell_type": "code",
   "execution_count": 2,
   "metadata": {},
   "outputs": [
    {
     "data": {
      "text/html": [
       "<div>\n",
       "<style scoped>\n",
       "    .dataframe tbody tr th:only-of-type {\n",
       "        vertical-align: middle;\n",
       "    }\n",
       "\n",
       "    .dataframe tbody tr th {\n",
       "        vertical-align: top;\n",
       "    }\n",
       "\n",
       "    .dataframe thead th {\n",
       "        text-align: right;\n",
       "    }\n",
       "</style>\n",
       "<table border=\"1\" class=\"dataframe\">\n",
       "  <thead>\n",
       "    <tr style=\"text-align: right;\">\n",
       "      <th></th>\n",
       "      <th>Open</th>\n",
       "      <th>High</th>\n",
       "      <th>Low</th>\n",
       "      <th>Close</th>\n",
       "      <th>Volume_base</th>\n",
       "      <th>Volume_quote</th>\n",
       "    </tr>\n",
       "    <tr>\n",
       "      <th>Date</th>\n",
       "      <th></th>\n",
       "      <th></th>\n",
       "      <th></th>\n",
       "      <th></th>\n",
       "      <th></th>\n",
       "      <th></th>\n",
       "    </tr>\n",
       "  </thead>\n",
       "  <tbody>\n",
       "    <tr>\n",
       "      <th>2022-04-05 14:00:00</th>\n",
       "      <td>60708.91</td>\n",
       "      <td>60803.22</td>\n",
       "      <td>60644.01</td>\n",
       "      <td>60750.91</td>\n",
       "      <td>0.36654</td>\n",
       "      <td>22263.325893</td>\n",
       "    </tr>\n",
       "    <tr>\n",
       "      <th>2022-04-05 14:05:00</th>\n",
       "      <td>60759.58</td>\n",
       "      <td>60771.62</td>\n",
       "      <td>60707.08</td>\n",
       "      <td>60739.00</td>\n",
       "      <td>1.34318</td>\n",
       "      <td>81606.331119</td>\n",
       "    </tr>\n",
       "    <tr>\n",
       "      <th>2022-04-05 14:10:00</th>\n",
       "      <td>60743.61</td>\n",
       "      <td>60743.61</td>\n",
       "      <td>60300.00</td>\n",
       "      <td>60476.67</td>\n",
       "      <td>3.10627</td>\n",
       "      <td>187815.038129</td>\n",
       "    </tr>\n",
       "    <tr>\n",
       "      <th>2022-04-05 14:15:00</th>\n",
       "      <td>60450.00</td>\n",
       "      <td>60478.80</td>\n",
       "      <td>60288.49</td>\n",
       "      <td>60413.76</td>\n",
       "      <td>1.86903</td>\n",
       "      <td>112830.868187</td>\n",
       "    </tr>\n",
       "    <tr>\n",
       "      <th>2022-04-05 14:20:00</th>\n",
       "      <td>60370.09</td>\n",
       "      <td>60475.14</td>\n",
       "      <td>60359.61</td>\n",
       "      <td>60460.55</td>\n",
       "      <td>0.49782</td>\n",
       "      <td>30071.452322</td>\n",
       "    </tr>\n",
       "  </tbody>\n",
       "</table>\n",
       "</div>"
      ],
      "text/plain": [
       "                         Open      High       Low     Close  Volume_base  \\\n",
       "Date                                                                       \n",
       "2022-04-05 14:00:00  60708.91  60803.22  60644.01  60750.91      0.36654   \n",
       "2022-04-05 14:05:00  60759.58  60771.62  60707.08  60739.00      1.34318   \n",
       "2022-04-05 14:10:00  60743.61  60743.61  60300.00  60476.67      3.10627   \n",
       "2022-04-05 14:15:00  60450.00  60478.80  60288.49  60413.76      1.86903   \n",
       "2022-04-05 14:20:00  60370.09  60475.14  60359.61  60460.55      0.49782   \n",
       "\n",
       "                      Volume_quote  \n",
       "Date                                \n",
       "2022-04-05 14:00:00   22263.325893  \n",
       "2022-04-05 14:05:00   81606.331119  \n",
       "2022-04-05 14:10:00  187815.038129  \n",
       "2022-04-05 14:15:00  112830.868187  \n",
       "2022-04-05 14:20:00   30071.452322  "
      ]
     },
     "execution_count": 2,
     "metadata": {},
     "output_type": "execute_result"
    }
   ],
   "source": [
    "# Import the OHLCV dataset into a Pandas Dataframe\n",
    "trading_df = pd.read_csv(\n",
    "    Path(\"Data/btc_data_5m.csv\"), \n",
    "    index_col=\"Date\", \n",
    "    infer_datetime_format=True, \n",
    "    parse_dates=True\n",
    ")\n",
    "\n",
    "# Review the DataFrame\n",
    "trading_df.head()"
   ]
  },
  {
   "cell_type": "markdown",
   "metadata": {},
   "source": [
    "### Add a daily return values column to the DataFrame"
   ]
  },
  {
   "cell_type": "code",
   "execution_count": 3,
   "metadata": {},
   "outputs": [
    {
     "data": {
      "text/html": [
       "<div>\n",
       "<style scoped>\n",
       "    .dataframe tbody tr th:only-of-type {\n",
       "        vertical-align: middle;\n",
       "    }\n",
       "\n",
       "    .dataframe tbody tr th {\n",
       "        vertical-align: top;\n",
       "    }\n",
       "\n",
       "    .dataframe thead th {\n",
       "        text-align: right;\n",
       "    }\n",
       "</style>\n",
       "<table border=\"1\" class=\"dataframe\">\n",
       "  <thead>\n",
       "    <tr style=\"text-align: right;\">\n",
       "      <th></th>\n",
       "      <th>Open</th>\n",
       "      <th>High</th>\n",
       "      <th>Low</th>\n",
       "      <th>Close</th>\n",
       "      <th>Volume_base</th>\n",
       "      <th>Volume_quote</th>\n",
       "      <th>actual_returns</th>\n",
       "    </tr>\n",
       "    <tr>\n",
       "      <th>Date</th>\n",
       "      <th></th>\n",
       "      <th></th>\n",
       "      <th></th>\n",
       "      <th></th>\n",
       "      <th></th>\n",
       "      <th></th>\n",
       "      <th></th>\n",
       "    </tr>\n",
       "  </thead>\n",
       "  <tbody>\n",
       "    <tr>\n",
       "      <th>2022-04-05 14:05:00</th>\n",
       "      <td>60759.58</td>\n",
       "      <td>60771.62</td>\n",
       "      <td>60707.08</td>\n",
       "      <td>60739.00</td>\n",
       "      <td>1.34318</td>\n",
       "      <td>81606.331119</td>\n",
       "      <td>-0.000196</td>\n",
       "    </tr>\n",
       "    <tr>\n",
       "      <th>2022-04-05 14:10:00</th>\n",
       "      <td>60743.61</td>\n",
       "      <td>60743.61</td>\n",
       "      <td>60300.00</td>\n",
       "      <td>60476.67</td>\n",
       "      <td>3.10627</td>\n",
       "      <td>187815.038129</td>\n",
       "      <td>-0.004319</td>\n",
       "    </tr>\n",
       "    <tr>\n",
       "      <th>2022-04-05 14:15:00</th>\n",
       "      <td>60450.00</td>\n",
       "      <td>60478.80</td>\n",
       "      <td>60288.49</td>\n",
       "      <td>60413.76</td>\n",
       "      <td>1.86903</td>\n",
       "      <td>112830.868187</td>\n",
       "      <td>-0.001040</td>\n",
       "    </tr>\n",
       "    <tr>\n",
       "      <th>2022-04-05 14:20:00</th>\n",
       "      <td>60370.09</td>\n",
       "      <td>60475.14</td>\n",
       "      <td>60359.61</td>\n",
       "      <td>60460.55</td>\n",
       "      <td>0.49782</td>\n",
       "      <td>30071.452322</td>\n",
       "      <td>0.000774</td>\n",
       "    </tr>\n",
       "    <tr>\n",
       "      <th>2022-04-05 14:25:00</th>\n",
       "      <td>60460.03</td>\n",
       "      <td>60476.94</td>\n",
       "      <td>60258.63</td>\n",
       "      <td>60431.05</td>\n",
       "      <td>1.27118</td>\n",
       "      <td>76716.586383</td>\n",
       "      <td>-0.000488</td>\n",
       "    </tr>\n",
       "  </tbody>\n",
       "</table>\n",
       "</div>"
      ],
      "text/plain": [
       "                         Open      High       Low     Close  Volume_base  \\\n",
       "Date                                                                       \n",
       "2022-04-05 14:05:00  60759.58  60771.62  60707.08  60739.00      1.34318   \n",
       "2022-04-05 14:10:00  60743.61  60743.61  60300.00  60476.67      3.10627   \n",
       "2022-04-05 14:15:00  60450.00  60478.80  60288.49  60413.76      1.86903   \n",
       "2022-04-05 14:20:00  60370.09  60475.14  60359.61  60460.55      0.49782   \n",
       "2022-04-05 14:25:00  60460.03  60476.94  60258.63  60431.05      1.27118   \n",
       "\n",
       "                      Volume_quote  actual_returns  \n",
       "Date                                                \n",
       "2022-04-05 14:05:00   81606.331119       -0.000196  \n",
       "2022-04-05 14:10:00  187815.038129       -0.004319  \n",
       "2022-04-05 14:15:00  112830.868187       -0.001040  \n",
       "2022-04-05 14:20:00   30071.452322        0.000774  \n",
       "2022-04-05 14:25:00   76716.586383       -0.000488  "
      ]
     },
     "metadata": {},
     "output_type": "display_data"
    },
    {
     "data": {
      "text/html": [
       "<div>\n",
       "<style scoped>\n",
       "    .dataframe tbody tr th:only-of-type {\n",
       "        vertical-align: middle;\n",
       "    }\n",
       "\n",
       "    .dataframe tbody tr th {\n",
       "        vertical-align: top;\n",
       "    }\n",
       "\n",
       "    .dataframe thead th {\n",
       "        text-align: right;\n",
       "    }\n",
       "</style>\n",
       "<table border=\"1\" class=\"dataframe\">\n",
       "  <thead>\n",
       "    <tr style=\"text-align: right;\">\n",
       "      <th></th>\n",
       "      <th>Open</th>\n",
       "      <th>High</th>\n",
       "      <th>Low</th>\n",
       "      <th>Close</th>\n",
       "      <th>Volume_base</th>\n",
       "      <th>Volume_quote</th>\n",
       "      <th>actual_returns</th>\n",
       "    </tr>\n",
       "    <tr>\n",
       "      <th>Date</th>\n",
       "      <th></th>\n",
       "      <th></th>\n",
       "      <th></th>\n",
       "      <th></th>\n",
       "      <th></th>\n",
       "      <th></th>\n",
       "      <th></th>\n",
       "    </tr>\n",
       "  </thead>\n",
       "  <tbody>\n",
       "    <tr>\n",
       "      <th>2022-04-09 00:55:00</th>\n",
       "      <td>56959.09</td>\n",
       "      <td>57066.66</td>\n",
       "      <td>56875.13</td>\n",
       "      <td>57066.66</td>\n",
       "      <td>0.61878</td>\n",
       "      <td>35254.512410</td>\n",
       "      <td>0.001941</td>\n",
       "    </tr>\n",
       "    <tr>\n",
       "      <th>2022-04-09 01:00:00</th>\n",
       "      <td>57057.84</td>\n",
       "      <td>57088.24</td>\n",
       "      <td>57029.02</td>\n",
       "      <td>57088.24</td>\n",
       "      <td>0.34034</td>\n",
       "      <td>19424.375707</td>\n",
       "      <td>0.000378</td>\n",
       "    </tr>\n",
       "    <tr>\n",
       "      <th>2022-04-09 01:05:00</th>\n",
       "      <td>57041.10</td>\n",
       "      <td>57094.55</td>\n",
       "      <td>56990.23</td>\n",
       "      <td>57083.46</td>\n",
       "      <td>0.26670</td>\n",
       "      <td>15212.985507</td>\n",
       "      <td>-0.000084</td>\n",
       "    </tr>\n",
       "    <tr>\n",
       "      <th>2022-04-09 01:10:00</th>\n",
       "      <td>57083.47</td>\n",
       "      <td>57087.57</td>\n",
       "      <td>57056.79</td>\n",
       "      <td>57086.88</td>\n",
       "      <td>0.26334</td>\n",
       "      <td>15030.854680</td>\n",
       "      <td>0.000060</td>\n",
       "    </tr>\n",
       "    <tr>\n",
       "      <th>2022-04-09 01:15:00</th>\n",
       "      <td>57086.54</td>\n",
       "      <td>57086.54</td>\n",
       "      <td>56923.40</td>\n",
       "      <td>57022.18</td>\n",
       "      <td>2.37195</td>\n",
       "      <td>135291.875028</td>\n",
       "      <td>-0.001133</td>\n",
       "    </tr>\n",
       "  </tbody>\n",
       "</table>\n",
       "</div>"
      ],
      "text/plain": [
       "                         Open      High       Low     Close  Volume_base  \\\n",
       "Date                                                                       \n",
       "2022-04-09 00:55:00  56959.09  57066.66  56875.13  57066.66      0.61878   \n",
       "2022-04-09 01:00:00  57057.84  57088.24  57029.02  57088.24      0.34034   \n",
       "2022-04-09 01:05:00  57041.10  57094.55  56990.23  57083.46      0.26670   \n",
       "2022-04-09 01:10:00  57083.47  57087.57  57056.79  57086.88      0.26334   \n",
       "2022-04-09 01:15:00  57086.54  57086.54  56923.40  57022.18      2.37195   \n",
       "\n",
       "                      Volume_quote  actual_returns  \n",
       "Date                                                \n",
       "2022-04-09 00:55:00   35254.512410        0.001941  \n",
       "2022-04-09 01:00:00   19424.375707        0.000378  \n",
       "2022-04-09 01:05:00   15212.985507       -0.000084  \n",
       "2022-04-09 01:10:00   15030.854680        0.000060  \n",
       "2022-04-09 01:15:00  135291.875028       -0.001133  "
      ]
     },
     "metadata": {},
     "output_type": "display_data"
    }
   ],
   "source": [
    "# Calculate the daily returns using the closing prices and the pct_change function\n",
    "trading_df[\"actual_returns\"] = trading_df[\"Close\"].pct_change()\n",
    "\n",
    "# Drop all NaN values from the DataFrame\n",
    "trading_df = trading_df.dropna()\n",
    "\n",
    "# Review the DataFrame\n",
    "display(trading_df.head())\n",
    "display(trading_df.tail())"
   ]
  },
  {
   "cell_type": "markdown",
   "metadata": {},
   "source": [
    "---\n",
    "\n",
    "### Generating the Features and Target Sets"
   ]
  },
  {
   "cell_type": "code",
   "execution_count": 4,
   "metadata": {},
   "outputs": [],
   "source": [
    "# Define a window size of 4\n",
    "short_window = 4\n",
    "\n",
    "# Create a simple moving average (SMA) using the short_window and assign this to a new columns called sma_fast\n",
    "trading_df[\"sma_fast\"] = trading_df[\"Close\"].rolling(window=short_window).mean()"
   ]
  },
  {
   "cell_type": "code",
   "execution_count": 5,
   "metadata": {},
   "outputs": [],
   "source": [
    "# Define a window size of 100\n",
    "long_window = 100\n",
    "\n",
    "# Create a simple moving average (SMA) using the long_window and assign this to a new columns called sma_slow\n",
    "trading_df[\"sma_slow\"] = trading_df[\"Close\"].rolling(window=long_window).mean()"
   ]
  },
  {
   "cell_type": "code",
   "execution_count": 6,
   "metadata": {},
   "outputs": [],
   "source": [
    "# Drop the NaNs using dropna()\n",
    "trading_df = trading_df.dropna()"
   ]
  },
  {
   "cell_type": "markdown",
   "metadata": {},
   "source": [
    "#### Create the features set"
   ]
  },
  {
   "cell_type": "code",
   "execution_count": 7,
   "metadata": {},
   "outputs": [
    {
     "data": {
      "text/html": [
       "<div>\n",
       "<style scoped>\n",
       "    .dataframe tbody tr th:only-of-type {\n",
       "        vertical-align: middle;\n",
       "    }\n",
       "\n",
       "    .dataframe tbody tr th {\n",
       "        vertical-align: top;\n",
       "    }\n",
       "\n",
       "    .dataframe thead th {\n",
       "        text-align: right;\n",
       "    }\n",
       "</style>\n",
       "<table border=\"1\" class=\"dataframe\">\n",
       "  <thead>\n",
       "    <tr style=\"text-align: right;\">\n",
       "      <th></th>\n",
       "      <th>sma_fast</th>\n",
       "      <th>sma_slow</th>\n",
       "    </tr>\n",
       "    <tr>\n",
       "      <th>Date</th>\n",
       "      <th></th>\n",
       "      <th></th>\n",
       "    </tr>\n",
       "  </thead>\n",
       "  <tbody>\n",
       "    <tr>\n",
       "      <th>2022-04-05 22:20:00</th>\n",
       "      <td>60683.7450</td>\n",
       "      <td>60523.1258</td>\n",
       "    </tr>\n",
       "    <tr>\n",
       "      <th>2022-04-05 22:25:00</th>\n",
       "      <td>60688.2625</td>\n",
       "      <td>60522.2724</td>\n",
       "    </tr>\n",
       "    <tr>\n",
       "      <th>2022-04-05 22:30:00</th>\n",
       "      <td>60664.6425</td>\n",
       "      <td>60523.4073</td>\n",
       "    </tr>\n",
       "    <tr>\n",
       "      <th>2022-04-05 22:35:00</th>\n",
       "      <td>60654.3850</td>\n",
       "      <td>60525.8509</td>\n",
       "    </tr>\n",
       "    <tr>\n",
       "      <th>2022-04-05 22:40:00</th>\n",
       "      <td>60630.5125</td>\n",
       "      <td>60527.4465</td>\n",
       "    </tr>\n",
       "  </tbody>\n",
       "</table>\n",
       "</div>"
      ],
      "text/plain": [
       "                       sma_fast    sma_slow\n",
       "Date                                       \n",
       "2022-04-05 22:20:00  60683.7450  60523.1258\n",
       "2022-04-05 22:25:00  60688.2625  60522.2724\n",
       "2022-04-05 22:30:00  60664.6425  60523.4073\n",
       "2022-04-05 22:35:00  60654.3850  60525.8509\n",
       "2022-04-05 22:40:00  60630.5125  60527.4465"
      ]
     },
     "metadata": {},
     "output_type": "display_data"
    },
    {
     "data": {
      "text/html": [
       "<div>\n",
       "<style scoped>\n",
       "    .dataframe tbody tr th:only-of-type {\n",
       "        vertical-align: middle;\n",
       "    }\n",
       "\n",
       "    .dataframe tbody tr th {\n",
       "        vertical-align: top;\n",
       "    }\n",
       "\n",
       "    .dataframe thead th {\n",
       "        text-align: right;\n",
       "    }\n",
       "</style>\n",
       "<table border=\"1\" class=\"dataframe\">\n",
       "  <thead>\n",
       "    <tr style=\"text-align: right;\">\n",
       "      <th></th>\n",
       "      <th>sma_fast</th>\n",
       "      <th>sma_slow</th>\n",
       "    </tr>\n",
       "    <tr>\n",
       "      <th>Date</th>\n",
       "      <th></th>\n",
       "      <th></th>\n",
       "    </tr>\n",
       "  </thead>\n",
       "  <tbody>\n",
       "    <tr>\n",
       "      <th>2022-04-09 00:55:00</th>\n",
       "      <td>56980.9775</td>\n",
       "      <td>57366.0053</td>\n",
       "    </tr>\n",
       "    <tr>\n",
       "      <th>2022-04-09 01:00:00</th>\n",
       "      <td>57014.6475</td>\n",
       "      <td>57351.9531</td>\n",
       "    </tr>\n",
       "    <tr>\n",
       "      <th>2022-04-09 01:05:00</th>\n",
       "      <td>57048.6175</td>\n",
       "      <td>57338.0666</td>\n",
       "    </tr>\n",
       "    <tr>\n",
       "      <th>2022-04-09 01:10:00</th>\n",
       "      <td>57081.3100</td>\n",
       "      <td>57324.9354</td>\n",
       "    </tr>\n",
       "    <tr>\n",
       "      <th>2022-04-09 01:15:00</th>\n",
       "      <td>57070.1900</td>\n",
       "      <td>57311.4034</td>\n",
       "    </tr>\n",
       "  </tbody>\n",
       "</table>\n",
       "</div>"
      ],
      "text/plain": [
       "                       sma_fast    sma_slow\n",
       "Date                                       \n",
       "2022-04-09 00:55:00  56980.9775  57366.0053\n",
       "2022-04-09 01:00:00  57014.6475  57351.9531\n",
       "2022-04-09 01:05:00  57048.6175  57338.0666\n",
       "2022-04-09 01:10:00  57081.3100  57324.9354\n",
       "2022-04-09 01:15:00  57070.1900  57311.4034"
      ]
     },
     "metadata": {},
     "output_type": "display_data"
    }
   ],
   "source": [
    "# Assign a copy of the sma_fast and sma_slow columns to a new DataFrame called X\n",
    "X = trading_df[[\"sma_fast\", \"sma_slow\"]].copy()\n",
    "\n",
    "# Display sample data\n",
    "display(X.head())\n",
    "display(X.tail())"
   ]
  },
  {
   "cell_type": "markdown",
   "metadata": {},
   "source": [
    "#### Create the target set"
   ]
  },
  {
   "cell_type": "code",
   "execution_count": 8,
   "metadata": {},
   "outputs": [],
   "source": [
    "# Create a new column in the trading_df called signal setting its value to zero.\n",
    "trading_df[\"signal\"] = 0.0"
   ]
  },
  {
   "cell_type": "code",
   "execution_count": 9,
   "metadata": {},
   "outputs": [],
   "source": [
    "# Create the signal to buy\n",
    "trading_df.loc[(trading_df[\"actual_returns\"] >= 0), \"signal\"] = 1"
   ]
  },
  {
   "cell_type": "code",
   "execution_count": 10,
   "metadata": {},
   "outputs": [],
   "source": [
    "# Create the signal to sell\n",
    "trading_df.loc[(trading_df[\"actual_returns\"] < 0), \"signal\"] = -1"
   ]
  },
  {
   "cell_type": "code",
   "execution_count": 11,
   "metadata": {},
   "outputs": [],
   "source": [
    "# Copy the new signal column to a new Series called y.\n",
    "y = trading_df[\"signal\"].copy()"
   ]
  },
  {
   "cell_type": "markdown",
   "metadata": {},
   "source": [
    "---\n",
    "\n",
    "### Split the Data Into Training and Testing Datasets"
   ]
  },
  {
   "cell_type": "markdown",
   "metadata": {},
   "source": [
    "#### Creating the Training Datasets"
   ]
  },
  {
   "cell_type": "code",
   "execution_count": 12,
   "metadata": {},
   "outputs": [],
   "source": [
    "# Imports \n",
    "from pandas.tseries.offsets import DateOffset"
   ]
  },
  {
   "cell_type": "code",
   "execution_count": 13,
   "metadata": {},
   "outputs": [
    {
     "name": "stdout",
     "output_type": "stream",
     "text": [
      "2022-04-05 22:20:00\n"
     ]
    }
   ],
   "source": [
    "# Select the start of the training period\n",
    "training_begin = X.index.min()\n",
    "\n",
    "# Display the training begin date\n",
    "print(training_begin)"
   ]
  },
  {
   "cell_type": "code",
   "execution_count": 14,
   "metadata": {},
   "outputs": [
    {
     "name": "stdout",
     "output_type": "stream",
     "text": [
      "2022-04-05 22:25:00\n"
     ]
    }
   ],
   "source": [
    "# Select the ending period for the training data with an offset of 3 months\n",
    "training_end = X.index.min() + DateOffset(minutes=5)\n",
    "\n",
    "# Display the training end date\n",
    "print(training_end)"
   ]
  },
  {
   "cell_type": "code",
   "execution_count": 15,
   "metadata": {},
   "outputs": [
    {
     "data": {
      "text/html": [
       "<div>\n",
       "<style scoped>\n",
       "    .dataframe tbody tr th:only-of-type {\n",
       "        vertical-align: middle;\n",
       "    }\n",
       "\n",
       "    .dataframe tbody tr th {\n",
       "        vertical-align: top;\n",
       "    }\n",
       "\n",
       "    .dataframe thead th {\n",
       "        text-align: right;\n",
       "    }\n",
       "</style>\n",
       "<table border=\"1\" class=\"dataframe\">\n",
       "  <thead>\n",
       "    <tr style=\"text-align: right;\">\n",
       "      <th></th>\n",
       "      <th>sma_fast</th>\n",
       "      <th>sma_slow</th>\n",
       "    </tr>\n",
       "    <tr>\n",
       "      <th>Date</th>\n",
       "      <th></th>\n",
       "      <th></th>\n",
       "    </tr>\n",
       "  </thead>\n",
       "  <tbody>\n",
       "    <tr>\n",
       "      <th>2022-04-05 22:20:00</th>\n",
       "      <td>60683.7450</td>\n",
       "      <td>60523.1258</td>\n",
       "    </tr>\n",
       "    <tr>\n",
       "      <th>2022-04-05 22:25:00</th>\n",
       "      <td>60688.2625</td>\n",
       "      <td>60522.2724</td>\n",
       "    </tr>\n",
       "  </tbody>\n",
       "</table>\n",
       "</div>"
      ],
      "text/plain": [
       "                       sma_fast    sma_slow\n",
       "Date                                       \n",
       "2022-04-05 22:20:00  60683.7450  60523.1258\n",
       "2022-04-05 22:25:00  60688.2625  60522.2724"
      ]
     },
     "execution_count": 15,
     "metadata": {},
     "output_type": "execute_result"
    }
   ],
   "source": [
    "# Generate the X_train and y_train DataFrames\n",
    "X_train = X.loc[training_begin:training_end]\n",
    "y_train = y.loc[training_begin:training_end]\n",
    "\n",
    "# Display sample data\n",
    "X_train.head()"
   ]
  },
  {
   "cell_type": "markdown",
   "metadata": {},
   "source": [
    "#### Creating the Testing Datasets"
   ]
  },
  {
   "cell_type": "code",
   "execution_count": 16,
   "metadata": {},
   "outputs": [
    {
     "data": {
      "text/html": [
       "<div>\n",
       "<style scoped>\n",
       "    .dataframe tbody tr th:only-of-type {\n",
       "        vertical-align: middle;\n",
       "    }\n",
       "\n",
       "    .dataframe tbody tr th {\n",
       "        vertical-align: top;\n",
       "    }\n",
       "\n",
       "    .dataframe thead th {\n",
       "        text-align: right;\n",
       "    }\n",
       "</style>\n",
       "<table border=\"1\" class=\"dataframe\">\n",
       "  <thead>\n",
       "    <tr style=\"text-align: right;\">\n",
       "      <th></th>\n",
       "      <th>sma_fast</th>\n",
       "      <th>sma_slow</th>\n",
       "    </tr>\n",
       "    <tr>\n",
       "      <th>Date</th>\n",
       "      <th></th>\n",
       "      <th></th>\n",
       "    </tr>\n",
       "  </thead>\n",
       "  <tbody>\n",
       "    <tr>\n",
       "      <th>2022-04-05 22:25:00</th>\n",
       "      <td>60688.2625</td>\n",
       "      <td>60522.2724</td>\n",
       "    </tr>\n",
       "    <tr>\n",
       "      <th>2022-04-05 22:30:00</th>\n",
       "      <td>60664.6425</td>\n",
       "      <td>60523.4073</td>\n",
       "    </tr>\n",
       "    <tr>\n",
       "      <th>2022-04-05 22:35:00</th>\n",
       "      <td>60654.3850</td>\n",
       "      <td>60525.8509</td>\n",
       "    </tr>\n",
       "    <tr>\n",
       "      <th>2022-04-05 22:40:00</th>\n",
       "      <td>60630.5125</td>\n",
       "      <td>60527.4465</td>\n",
       "    </tr>\n",
       "    <tr>\n",
       "      <th>2022-04-05 22:45:00</th>\n",
       "      <td>60664.1250</td>\n",
       "      <td>60531.0171</td>\n",
       "    </tr>\n",
       "  </tbody>\n",
       "</table>\n",
       "</div>"
      ],
      "text/plain": [
       "                       sma_fast    sma_slow\n",
       "Date                                       \n",
       "2022-04-05 22:25:00  60688.2625  60522.2724\n",
       "2022-04-05 22:30:00  60664.6425  60523.4073\n",
       "2022-04-05 22:35:00  60654.3850  60525.8509\n",
       "2022-04-05 22:40:00  60630.5125  60527.4465\n",
       "2022-04-05 22:45:00  60664.1250  60531.0171"
      ]
     },
     "execution_count": 16,
     "metadata": {},
     "output_type": "execute_result"
    }
   ],
   "source": [
    "# Generate the X_test and y_test DataFrames\n",
    "X_test = X.loc[training_end:]\n",
    "y_test = y.loc[training_end:]\n",
    "\n",
    "# Display sample data\n",
    "X_test.head()"
   ]
  },
  {
   "cell_type": "markdown",
   "metadata": {},
   "source": [
    "#### Standardizing the Data"
   ]
  },
  {
   "cell_type": "code",
   "execution_count": 17,
   "metadata": {},
   "outputs": [],
   "source": [
    "# Imports\n",
    "from sklearn.preprocessing import StandardScaler"
   ]
  },
  {
   "cell_type": "code",
   "execution_count": 18,
   "metadata": {},
   "outputs": [],
   "source": [
    "# Create a StandardScaler instance\n",
    "scaler = StandardScaler()\n",
    " \n",
    "# Apply the scaler model to fit the X-train data\n",
    "X_scaler = scaler.fit(X_train)\n",
    " \n",
    "# Transform the X_train and X_test DataFrames using the X_scaler\n",
    "X_train_scaled = X_scaler.transform(X_train)\n",
    "X_test_scaled = X_scaler.transform(X_test)"
   ]
  },
  {
   "cell_type": "markdown",
   "metadata": {},
   "source": [
    "---\n",
    "\n",
    "### Incorporate the SVM Machine Learning Into the Trading Strategy"
   ]
  },
  {
   "cell_type": "code",
   "execution_count": 19,
   "metadata": {},
   "outputs": [],
   "source": [
    "# Imports\n",
    "from sklearn import svm\n",
    "from sklearn.metrics import classification_report"
   ]
  },
  {
   "cell_type": "code",
   "execution_count": 20,
   "metadata": {},
   "outputs": [
    {
     "data": {
      "text/plain": [
       "array([ 1., -1.])"
      ]
     },
     "execution_count": 20,
     "metadata": {},
     "output_type": "execute_result"
    }
   ],
   "source": [
    "# Create the classifier model\n",
    "svm_model = svm.SVC()\n",
    " \n",
    "# Fit the model to the data using X_train_scaled and y_train\n",
    "svm_model = svm_model.fit(X_train_scaled, y_train)\n",
    "\n",
    "# Use the trained model to predict the trading signals for the training data\n",
    "training_signal_predictions = svm_model.predict(X_train_scaled)\n",
    "\n",
    "# Display the sample predictions\n",
    "training_signal_predictions[:10]"
   ]
  },
  {
   "cell_type": "code",
   "execution_count": 21,
   "metadata": {},
   "outputs": [
    {
     "name": "stdout",
     "output_type": "stream",
     "text": [
      "              precision    recall  f1-score   support\n",
      "\n",
      "        -1.0       1.00      1.00      1.00         1\n",
      "         1.0       1.00      1.00      1.00         1\n",
      "\n",
      "    accuracy                           1.00         2\n",
      "   macro avg       1.00      1.00      1.00         2\n",
      "weighted avg       1.00      1.00      1.00         2\n",
      "\n"
     ]
    }
   ],
   "source": [
    "# Evaluate the model using a classification report\n",
    "training_report = classification_report(y_train, training_signal_predictions)\n",
    "print(training_report)"
   ]
  },
  {
   "cell_type": "markdown",
   "metadata": {},
   "source": [
    "---\n",
    "\n",
    "### Backtesting a Machine Learning Trading Algorithm"
   ]
  },
  {
   "cell_type": "code",
   "execution_count": 22,
   "metadata": {},
   "outputs": [],
   "source": [
    "# Use the trained model to predict the trading signals for the testing data.\n",
    "testing_signal_predictions = svm_model.predict(X_test_scaled)"
   ]
  },
  {
   "cell_type": "code",
   "execution_count": 23,
   "metadata": {},
   "outputs": [
    {
     "name": "stdout",
     "output_type": "stream",
     "text": [
      "              precision    recall  f1-score   support\n",
      "\n",
      "        -1.0       1.00      0.00      0.00       456\n",
      "         1.0       0.49      1.00      0.66       443\n",
      "\n",
      "    accuracy                           0.49       899\n",
      "   macro avg       0.75      0.50      0.33       899\n",
      "weighted avg       0.75      0.49      0.33       899\n",
      "\n"
     ]
    }
   ],
   "source": [
    "# Evaluate the model's ability to predict the trading signal for the testing data\n",
    "svm_testing_report = classification_report(y_test, testing_signal_predictions)\n",
    "print(svm_testing_report)"
   ]
  },
  {
   "cell_type": "code",
   "execution_count": 24,
   "metadata": {},
   "outputs": [
    {
     "data": {
      "text/html": [
       "<div>\n",
       "<style scoped>\n",
       "    .dataframe tbody tr th:only-of-type {\n",
       "        vertical-align: middle;\n",
       "    }\n",
       "\n",
       "    .dataframe tbody tr th {\n",
       "        vertical-align: top;\n",
       "    }\n",
       "\n",
       "    .dataframe thead th {\n",
       "        text-align: right;\n",
       "    }\n",
       "</style>\n",
       "<table border=\"1\" class=\"dataframe\">\n",
       "  <thead>\n",
       "    <tr style=\"text-align: right;\">\n",
       "      <th></th>\n",
       "      <th>predicted_signal</th>\n",
       "      <th>actual_returns</th>\n",
       "      <th>trading_algorithm_returns</th>\n",
       "    </tr>\n",
       "    <tr>\n",
       "      <th>Date</th>\n",
       "      <th></th>\n",
       "      <th></th>\n",
       "      <th></th>\n",
       "    </tr>\n",
       "  </thead>\n",
       "  <tbody>\n",
       "    <tr>\n",
       "      <th>2022-04-05 22:25:00</th>\n",
       "      <td>-1.0</td>\n",
       "      <td>-0.001020</td>\n",
       "      <td>0.001020</td>\n",
       "    </tr>\n",
       "    <tr>\n",
       "      <th>2022-04-05 22:30:00</th>\n",
       "      <td>1.0</td>\n",
       "      <td>-0.001047</td>\n",
       "      <td>-0.001047</td>\n",
       "    </tr>\n",
       "    <tr>\n",
       "      <th>2022-04-05 22:35:00</th>\n",
       "      <td>1.0</td>\n",
       "      <td>0.001122</td>\n",
       "      <td>0.001122</td>\n",
       "    </tr>\n",
       "    <tr>\n",
       "      <th>2022-04-05 22:40:00</th>\n",
       "      <td>1.0</td>\n",
       "      <td>-0.000627</td>\n",
       "      <td>-0.000627</td>\n",
       "    </tr>\n",
       "    <tr>\n",
       "      <th>2022-04-05 22:45:00</th>\n",
       "      <td>1.0</td>\n",
       "      <td>0.002771</td>\n",
       "      <td>0.002771</td>\n",
       "    </tr>\n",
       "  </tbody>\n",
       "</table>\n",
       "</div>"
      ],
      "text/plain": [
       "                     predicted_signal  actual_returns  \\\n",
       "Date                                                    \n",
       "2022-04-05 22:25:00              -1.0       -0.001020   \n",
       "2022-04-05 22:30:00               1.0       -0.001047   \n",
       "2022-04-05 22:35:00               1.0        0.001122   \n",
       "2022-04-05 22:40:00               1.0       -0.000627   \n",
       "2022-04-05 22:45:00               1.0        0.002771   \n",
       "\n",
       "                     trading_algorithm_returns  \n",
       "Date                                            \n",
       "2022-04-05 22:25:00                   0.001020  \n",
       "2022-04-05 22:30:00                  -0.001047  \n",
       "2022-04-05 22:35:00                   0.001122  \n",
       "2022-04-05 22:40:00                  -0.000627  \n",
       "2022-04-05 22:45:00                   0.002771  "
      ]
     },
     "execution_count": 24,
     "metadata": {},
     "output_type": "execute_result"
    }
   ],
   "source": [
    "# Create a new empty predictions DataFrame using code provided below.\n",
    "predictions_df = pd.DataFrame(index=X_test.index)\n",
    "predictions_df[\"predicted_signal\"] = testing_signal_predictions\n",
    "predictions_df[\"actual_returns\"] = trading_df[\"actual_returns\"]\n",
    "predictions_df[\"trading_algorithm_returns\"] = predictions_df[\"actual_returns\"] * predictions_df[\"predicted_signal\"]\n",
    "predictions_df.head()"
   ]
  },
  {
   "cell_type": "code",
   "execution_count": 25,
   "metadata": {},
   "outputs": [
    {
     "data": {
      "text/plain": [
       "<AxesSubplot:xlabel='Date'>"
      ]
     },
     "execution_count": 25,
     "metadata": {},
     "output_type": "execute_result"
    },
    {
     "data": {
      "image/png": "[encoded data removed]",
      "text/plain": [
       "<Figure size 432x288 with 1 Axes>"
      ]
     },
     "metadata": {
      "needs_background": "light"
     },
     "output_type": "display_data"
    }
   ],
   "source": [
    "# Calculate and plot the cumulative returns for the `actual_returns` and the `trading_algorithm_returns`\n",
    "(1 + predictions_df[[\"actual_returns\", \"trading_algorithm_returns\"]]).cumprod().plot()"
   ]
  },
  {
   "cell_type": "markdown",
   "metadata": {},
   "source": [
    "---\n",
    "\n",
    "# Add a New Machine Learning Model"
   ]
  },
  {
   "cell_type": "markdown",
   "metadata": {},
   "source": [
    "## Import the `LogisticRegression` model from scikit-learn.\n"
   ]
  },
  {
   "cell_type": "code",
   "execution_count": 26,
   "metadata": {},
   "outputs": [],
   "source": [
    "# Import LogisticRegression from sklearn\n",
    "from sklearn.linear_model import LogisticRegression"
   ]
  },
  {
   "cell_type": "code",
   "execution_count": 27,
   "metadata": {},
   "outputs": [],
   "source": [
    "# Create an instance of the LogisticRegression model\n",
    "logistic_regression_model = LogisticRegression()\n"
   ]
  },
  {
   "cell_type": "markdown",
   "metadata": {},
   "source": [
    "## Using the same training data that the SVM model used (`X_train_scaled` and `y_train`), fit the `LogisticRegression` model."
   ]
  },
  {
   "cell_type": "code",
   "execution_count": 28,
   "metadata": {},
   "outputs": [],
   "source": [
    "# Fit the LogisticRegression model\n",
    "logistic_regression_model = logistic_regression_model.fit(X_train_scaled, y_train)\n"
   ]
  },
  {
   "cell_type": "markdown",
   "metadata": {},
   "source": [
    "## Use the trained model to predict the trading signals for the training data. Use the `classification_report` module to evaluate the model."
   ]
  },
  {
   "cell_type": "code",
   "execution_count": 29,
   "metadata": {},
   "outputs": [
    {
     "data": {
      "text/plain": [
       "array([ 1., -1.])"
      ]
     },
     "execution_count": 29,
     "metadata": {},
     "output_type": "execute_result"
    }
   ],
   "source": [
    "# Use the trained LogisticRegression model to predict the trading signals for the training data\n",
    "lr_training_signal_predictions = logistic_regression_model.predict(X_train_scaled)\n",
    "\n",
    "# Display the predictions\n",
    "lr_training_signal_predictions[:10]\n"
   ]
  },
  {
   "cell_type": "code",
   "execution_count": 30,
   "metadata": {},
   "outputs": [
    {
     "name": "stdout",
     "output_type": "stream",
     "text": [
      "              precision    recall  f1-score   support\n",
      "\n",
      "        -1.0       1.00      1.00      1.00         1\n",
      "         1.0       1.00      1.00      1.00         1\n",
      "\n",
      "    accuracy                           1.00         2\n",
      "   macro avg       1.00      1.00      1.00         2\n",
      "weighted avg       1.00      1.00      1.00         2\n",
      "\n"
     ]
    }
   ],
   "source": [
    "# Generate a classification report using the training data and the logistic regression model's predications\n",
    "lr_training_report = classification_report(y_train, lr_training_signal_predictions)\n",
    "\n",
    "# Review the classification report\n",
    "print(lr_training_report)\n"
   ]
  },
  {
   "cell_type": "markdown",
   "metadata": {},
   "source": [
    "## Backtest the `LogisticRegression` model using the testing data to evaluate its performance."
   ]
  },
  {
   "cell_type": "code",
   "execution_count": 31,
   "metadata": {},
   "outputs": [],
   "source": [
    "# Use the trained model to predict the trading signals for the testing data.\n",
    "lr_testing_signal_predictions = logistic_regression_model.predict(X_test_scaled)"
   ]
  },
  {
   "cell_type": "code",
   "execution_count": 32,
   "metadata": {},
   "outputs": [
    {
     "name": "stdout",
     "output_type": "stream",
     "text": [
      "              precision    recall  f1-score   support\n",
      "\n",
      "        -1.0       0.50      0.95      0.66       456\n",
      "         1.0       0.43      0.04      0.08       443\n",
      "\n",
      "    accuracy                           0.50       899\n",
      "   macro avg       0.47      0.49      0.37       899\n",
      "weighted avg       0.47      0.50      0.37       899\n",
      "\n"
     ]
    }
   ],
   "source": [
    "# Generate a classification report using the testing data and the logistic regression model's predications\n",
    "lr_testing_report = classification_report(y_test, lr_testing_signal_predictions)\n",
    "\n",
    "# Review the classification report\n",
    "print(lr_testing_report)\n"
   ]
  },
  {
   "cell_type": "markdown",
   "metadata": {},
   "source": [
    "## Compare the performance of the logistic regression and SVM models using the classification reports generated with the testing data. "
   ]
  },
  {
   "cell_type": "code",
   "execution_count": 33,
   "metadata": {},
   "outputs": [
    {
     "name": "stdout",
     "output_type": "stream",
     "text": [
      "Logistic Regression Classification Report\n",
      "              precision    recall  f1-score   support\n",
      "\n",
      "        -1.0       0.50      0.95      0.66       456\n",
      "         1.0       0.43      0.04      0.08       443\n",
      "\n",
      "    accuracy                           0.50       899\n",
      "   macro avg       0.47      0.49      0.37       899\n",
      "weighted avg       0.47      0.50      0.37       899\n",
      "\n"
     ]
    }
   ],
   "source": [
    "# Print the classification report for the SVM model using the test data\n",
    "print(\"Logistic Regression Classification Report\")\n",
    "print(lr_testing_report)\n"
   ]
  },
  {
   "cell_type": "code",
   "execution_count": 34,
   "metadata": {},
   "outputs": [
    {
     "name": "stdout",
     "output_type": "stream",
     "text": [
      "SVM Classification Report\n",
      "              precision    recall  f1-score   support\n",
      "\n",
      "        -1.0       1.00      0.00      0.00       456\n",
      "         1.0       0.49      1.00      0.66       443\n",
      "\n",
      "    accuracy                           0.49       899\n",
      "   macro avg       0.75      0.50      0.33       899\n",
      "weighted avg       0.75      0.49      0.33       899\n",
      "\n"
     ]
    }
   ],
   "source": [
    "# Print the classification report for the SVM model using the test data\n",
    "print(\"SVM Classification Report\")\n",
    "print(svm_testing_report)\n"
   ]
  },
  {
   "cell_type": "markdown",
   "metadata": {},
   "source": [
    "### Answer the following question:"
   ]
  },
  {
   "cell_type": "markdown",
   "metadata": {},
   "source": [
    "**Question:** Did the `LogisticRegression` perform better than the `SVM`?\n",
    "\n",
    "**Answer:** Yes"
   ]
  },
  {
   "cell_type": "code",
   "execution_count": null,
   "metadata": {},
   "outputs": [],
   "source": []
  }
 ],
 "metadata": {
  "kernelspec": {
   "display_name": "Python [conda env:mlenv]",
   "language": "python",
   "name": "conda-env-mlenv-py"
  },
  "language_info": {
   "codemirror_mode": {
    "name": "ipython",
    "version": 3
   },
   "file_extension": ".py",
   "mimetype": "text/x-python",
   "name": "python",
   "nbconvert_exporter": "python",
   "pygments_lexer": "ipython3",
   "version": "3.7.11"
  }
 },
 "nbformat": 4,
 "nbformat_minor": 4
}
