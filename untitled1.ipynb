{
  "nbformat": 4,
  "nbformat_minor": 0,
  "metadata": {
    "colab": {
      "name": "Untitled1.ipynb",
      "provenance": [],
      "collapsed_sections": [],
      "include_colab_link": true
    },
    "kernelspec": {
      "name": "python3",
      "display_name": "Python 3"
    },
    "language_info": {
      "name": "python"
    }
  },
  "cells": [
    {
      "cell_type": "markdown",
      "metadata": {
        "id": "view-in-github",
        "colab_type": "text"
      },
      "source": [
        "<a href=\"https://colab.research.google.com/gist/CascadingDoomPony/c2a973710aca91b5c13ce3975161c7b8/untitled1.ipynb\" target=\"_parent\"><img src=\"https://colab.research.google.com/assets/colab-badge.svg\" alt=\"Open In Colab\"/></a>"
      ]
    },
    {
      "cell_type": "code",
      "execution_count": null,
      "metadata": {
        "id": "M6pY3B3xU2Ac"
      },
      "outputs": [],
      "source": [
        "#Machine Learning"
      ]
    },
    {
      "cell_type": "code",
      "source": [
        "#wgerggerger"
      ],
      "metadata": {
        "id": "NII9RiEVVjFx"
      },
      "execution_count": null,
      "outputs": []
    },
    {
      "cell_type": "code",
      "source": [
        "#fnenrfhn"
      ],
      "metadata": {
        "id": "f59XvECBWfIY"
      },
      "execution_count": null,
      "outputs": []
    },
    {
      "cell_type": "code",
      "source": [
        "# wgerfegrege"
      ],
      "metadata": {
        "id": "l9ma4yMibSBx"
      },
      "execution_count": null,
      "outputs": []
    },
    {
      "cell_type": "code",
      "source": [
        ""
      ],
      "metadata": {
        "id": "X-42FN3ibyb5"
      },
      "execution_count": null,
      "outputs": []
    }
  ]
}