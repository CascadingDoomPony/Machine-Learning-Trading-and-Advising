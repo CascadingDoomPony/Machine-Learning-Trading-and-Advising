{
 "cells": [
  {
   "cell_type": "markdown",
   "metadata": {},
   "source": [
    "# Using a New Machine Learning Classifier for Algorithmic Trading\n",
    "\n",
    "## Background\n",
    "\n",
    "Choosing a machine learning model to use in a trading strategy is a matter of trial and error. In this way, you find a model that produces the desired outcomes with an acceptable level of performance.\n",
    "\n",
    "In the machine learning section of the boot camp, you learned about some classification models, such as logistic regression, support vector machines (SVM), and neural networks. In this activity, you'll train a logistic regression model to make trading predictions, backtest the results, and then evaluate its performance compared to that of a SVM model.\n",
    "\n",
    "## Instructions:\n",
    "\n",
    "1. Open the provided starter code. Inspect and run all the cells up to the “Add a New Machine Learning Model” section to review the data loading and preparation process, as well as the inclusion of a SVM model in a trading algorithm.\n",
    "\n",
    "2. Import the `LogisticRegression` model from scikit-learn.\n",
    "\n",
    "    > **Rewind** Recall that `LogisticRegression` models are used for binary classification problems.\n",
    "\n",
    "3. Using the same training data that the SVM model used (`X_train_scaled` and `y_train`), fit the `LogisticRegression` model.\n",
    "\n",
    "4. Use the trained model to predict the trading signals for the training data. Use the `classification_report` module to evaluate the model.\n",
    "\n",
    "5. Backtest the `LogisticRegression` model to evaluate its performance.\n",
    "\n",
    "6. Compare the performance of the logistic regression and SVM models using the classification reports generated with the testing data.  Did the logistic regression model perform better than SVM? Write down your conclusions to share with the class.\n",
    "\n",
    "\n",
    "## References\n",
    "\n",
    "* [SKLearn SVM - SVC Classifier](https://scikit-learn.org/stable/modules/generated/sklearn.svm.SVC.html)\n",
    "\n",
    "* [SKLearn LogisticRegression](https://scikit-learn.org/stable/modules/generated/sklearn.linear_model.LogisticRegression.html)\n",
    "\n",
    "---"
   ]
  },
  {
   "cell_type": "code",
   "execution_count": 1,
   "metadata": {},
   "outputs": [],
   "source": [
    "# Imports\n",
    "import pandas as pd\n",
    "from pathlib import Path"
   ]
  },
  {
   "cell_type": "markdown",
   "metadata": {},
   "source": [
    "### Read the CSV file into Pandas DataFrame"
   ]
  },
  {
   "cell_type": "code",
   "execution_count": 2,
   "metadata": {},
   "outputs": [
    {
     "data": {
      "text/html": [
       "<div>\n",
       "<style scoped>\n",
       "    .dataframe tbody tr th:only-of-type {\n",
       "        vertical-align: middle;\n",
       "    }\n",
       "\n",
       "    .dataframe tbody tr th {\n",
       "        vertical-align: top;\n",
       "    }\n",
       "\n",
       "    .dataframe thead th {\n",
       "        text-align: right;\n",
       "    }\n",
       "</style>\n",
       "<table border=\"1\" class=\"dataframe\">\n",
       "  <thead>\n",
       "    <tr style=\"text-align: right;\">\n",
       "      <th></th>\n",
       "      <th>Open</th>\n",
       "      <th>High</th>\n",
       "      <th>Low</th>\n",
       "      <th>Close</th>\n",
       "      <th>Adj Close</th>\n",
       "      <th>Volume</th>\n",
       "    </tr>\n",
       "    <tr>\n",
       "      <th>Date</th>\n",
       "      <th></th>\n",
       "      <th></th>\n",
       "      <th></th>\n",
       "      <th></th>\n",
       "      <th></th>\n",
       "      <th></th>\n",
       "    </tr>\n",
       "  </thead>\n",
       "  <tbody>\n",
       "    <tr>\n",
       "      <th>2018-12-31</th>\n",
       "      <td>39.632500</td>\n",
       "      <td>39.840000</td>\n",
       "      <td>39.119999</td>\n",
       "      <td>39.435001</td>\n",
       "      <td>38.233902</td>\n",
       "      <td>140014000</td>\n",
       "    </tr>\n",
       "    <tr>\n",
       "      <th>2019-01-02</th>\n",
       "      <td>38.722500</td>\n",
       "      <td>39.712502</td>\n",
       "      <td>38.557499</td>\n",
       "      <td>39.480000</td>\n",
       "      <td>38.277519</td>\n",
       "      <td>148158800</td>\n",
       "    </tr>\n",
       "    <tr>\n",
       "      <th>2019-01-03</th>\n",
       "      <td>35.994999</td>\n",
       "      <td>36.430000</td>\n",
       "      <td>35.500000</td>\n",
       "      <td>35.547501</td>\n",
       "      <td>34.464806</td>\n",
       "      <td>365248800</td>\n",
       "    </tr>\n",
       "    <tr>\n",
       "      <th>2019-01-04</th>\n",
       "      <td>36.132500</td>\n",
       "      <td>37.137501</td>\n",
       "      <td>35.950001</td>\n",
       "      <td>37.064999</td>\n",
       "      <td>35.936073</td>\n",
       "      <td>234428400</td>\n",
       "    </tr>\n",
       "    <tr>\n",
       "      <th>2019-01-07</th>\n",
       "      <td>37.174999</td>\n",
       "      <td>37.207500</td>\n",
       "      <td>36.474998</td>\n",
       "      <td>36.982498</td>\n",
       "      <td>35.856091</td>\n",
       "      <td>219111200</td>\n",
       "    </tr>\n",
       "  </tbody>\n",
       "</table>\n",
       "</div>"
      ],
      "text/plain": [
       "                 Open       High        Low      Close  Adj Close     Volume\n",
       "Date                                                                        \n",
       "2018-12-31  39.632500  39.840000  39.119999  39.435001  38.233902  140014000\n",
       "2019-01-02  38.722500  39.712502  38.557499  39.480000  38.277519  148158800\n",
       "2019-01-03  35.994999  36.430000  35.500000  35.547501  34.464806  365248800\n",
       "2019-01-04  36.132500  37.137501  35.950001  37.064999  35.936073  234428400\n",
       "2019-01-07  37.174999  37.207500  36.474998  36.982498  35.856091  219111200"
      ]
     },
     "execution_count": 2,
     "metadata": {},
     "output_type": "execute_result"
    }
   ],
   "source": [
    "# Import the OHLCV dataset into a Pandas Dataframe\n",
    "trading_df = pd.read_csv(\n",
    "    Path(\"stock_data.csv\"), \n",
    "    index_col=\"Date\", \n",
    "    infer_datetime_format=True, \n",
    "    parse_dates=True\n",
    ")\n",
    "\n",
    "# Review the DataFrame\n",
    "trading_df.head()"
   ]
  },
  {
   "cell_type": "markdown",
   "metadata": {},
   "source": [
    "### Add a daily return values column to the DataFrame"
   ]
  },
  {
   "cell_type": "code",
   "execution_count": 3,
   "metadata": {},
   "outputs": [
    {
     "data": {
      "text/html": [
       "<div>\n",
       "<style scoped>\n",
       "    .dataframe tbody tr th:only-of-type {\n",
       "        vertical-align: middle;\n",
       "    }\n",
       "\n",
       "    .dataframe tbody tr th {\n",
       "        vertical-align: top;\n",
       "    }\n",
       "\n",
       "    .dataframe thead th {\n",
       "        text-align: right;\n",
       "    }\n",
       "</style>\n",
       "<table border=\"1\" class=\"dataframe\">\n",
       "  <thead>\n",
       "    <tr style=\"text-align: right;\">\n",
       "      <th></th>\n",
       "      <th>Open</th>\n",
       "      <th>High</th>\n",
       "      <th>Low</th>\n",
       "      <th>Close</th>\n",
       "      <th>Adj Close</th>\n",
       "      <th>Volume</th>\n",
       "      <th>actual_returns</th>\n",
       "    </tr>\n",
       "    <tr>\n",
       "      <th>Date</th>\n",
       "      <th></th>\n",
       "      <th></th>\n",
       "      <th></th>\n",
       "      <th></th>\n",
       "      <th></th>\n",
       "      <th></th>\n",
       "      <th></th>\n",
       "    </tr>\n",
       "  </thead>\n",
       "  <tbody>\n",
       "    <tr>\n",
       "      <th>2019-01-02</th>\n",
       "      <td>38.722500</td>\n",
       "      <td>39.712502</td>\n",
       "      <td>38.557499</td>\n",
       "      <td>39.480000</td>\n",
       "      <td>38.277519</td>\n",
       "      <td>148158800</td>\n",
       "      <td>0.001141</td>\n",
       "    </tr>\n",
       "    <tr>\n",
       "      <th>2019-01-03</th>\n",
       "      <td>35.994999</td>\n",
       "      <td>36.430000</td>\n",
       "      <td>35.500000</td>\n",
       "      <td>35.547501</td>\n",
       "      <td>34.464806</td>\n",
       "      <td>365248800</td>\n",
       "      <td>-0.099607</td>\n",
       "    </tr>\n",
       "    <tr>\n",
       "      <th>2019-01-04</th>\n",
       "      <td>36.132500</td>\n",
       "      <td>37.137501</td>\n",
       "      <td>35.950001</td>\n",
       "      <td>37.064999</td>\n",
       "      <td>35.936073</td>\n",
       "      <td>234428400</td>\n",
       "      <td>0.042689</td>\n",
       "    </tr>\n",
       "    <tr>\n",
       "      <th>2019-01-07</th>\n",
       "      <td>37.174999</td>\n",
       "      <td>37.207500</td>\n",
       "      <td>36.474998</td>\n",
       "      <td>36.982498</td>\n",
       "      <td>35.856091</td>\n",
       "      <td>219111200</td>\n",
       "      <td>-0.002226</td>\n",
       "    </tr>\n",
       "    <tr>\n",
       "      <th>2019-01-08</th>\n",
       "      <td>37.389999</td>\n",
       "      <td>37.955002</td>\n",
       "      <td>37.130001</td>\n",
       "      <td>37.687500</td>\n",
       "      <td>36.539616</td>\n",
       "      <td>164101200</td>\n",
       "      <td>0.019063</td>\n",
       "    </tr>\n",
       "  </tbody>\n",
       "</table>\n",
       "</div>"
      ],
      "text/plain": [
       "                 Open       High        Low      Close  Adj Close     Volume  \\\n",
       "Date                                                                           \n",
       "2019-01-02  38.722500  39.712502  38.557499  39.480000  38.277519  148158800   \n",
       "2019-01-03  35.994999  36.430000  35.500000  35.547501  34.464806  365248800   \n",
       "2019-01-04  36.132500  37.137501  35.950001  37.064999  35.936073  234428400   \n",
       "2019-01-07  37.174999  37.207500  36.474998  36.982498  35.856091  219111200   \n",
       "2019-01-08  37.389999  37.955002  37.130001  37.687500  36.539616  164101200   \n",
       "\n",
       "            actual_returns  \n",
       "Date                        \n",
       "2019-01-02        0.001141  \n",
       "2019-01-03       -0.099607  \n",
       "2019-01-04        0.042689  \n",
       "2019-01-07       -0.002226  \n",
       "2019-01-08        0.019063  "
      ]
     },
     "metadata": {},
     "output_type": "display_data"
    },
    {
     "data": {
      "text/html": [
       "<div>\n",
       "<style scoped>\n",
       "    .dataframe tbody tr th:only-of-type {\n",
       "        vertical-align: middle;\n",
       "    }\n",
       "\n",
       "    .dataframe tbody tr th {\n",
       "        vertical-align: top;\n",
       "    }\n",
       "\n",
       "    .dataframe thead th {\n",
       "        text-align: right;\n",
       "    }\n",
       "</style>\n",
       "<table border=\"1\" class=\"dataframe\">\n",
       "  <thead>\n",
       "    <tr style=\"text-align: right;\">\n",
       "      <th></th>\n",
       "      <th>Open</th>\n",
       "      <th>High</th>\n",
       "      <th>Low</th>\n",
       "      <th>Close</th>\n",
       "      <th>Adj Close</th>\n",
       "      <th>Volume</th>\n",
       "      <th>actual_returns</th>\n",
       "    </tr>\n",
       "    <tr>\n",
       "      <th>Date</th>\n",
       "      <th></th>\n",
       "      <th></th>\n",
       "      <th></th>\n",
       "      <th></th>\n",
       "      <th></th>\n",
       "      <th></th>\n",
       "      <th></th>\n",
       "    </tr>\n",
       "  </thead>\n",
       "  <tbody>\n",
       "    <tr>\n",
       "      <th>2022-03-31</th>\n",
       "      <td>177.839996</td>\n",
       "      <td>178.029999</td>\n",
       "      <td>174.399994</td>\n",
       "      <td>174.610001</td>\n",
       "      <td>174.610001</td>\n",
       "      <td>103049300</td>\n",
       "      <td>-0.017776</td>\n",
       "    </tr>\n",
       "    <tr>\n",
       "      <th>2022-04-01</th>\n",
       "      <td>174.029999</td>\n",
       "      <td>174.880005</td>\n",
       "      <td>171.940002</td>\n",
       "      <td>174.309998</td>\n",
       "      <td>174.309998</td>\n",
       "      <td>78699800</td>\n",
       "      <td>-0.001718</td>\n",
       "    </tr>\n",
       "    <tr>\n",
       "      <th>2022-04-04</th>\n",
       "      <td>174.570007</td>\n",
       "      <td>178.490005</td>\n",
       "      <td>174.440002</td>\n",
       "      <td>178.440002</td>\n",
       "      <td>178.440002</td>\n",
       "      <td>76468400</td>\n",
       "      <td>0.023693</td>\n",
       "    </tr>\n",
       "    <tr>\n",
       "      <th>2022-04-05</th>\n",
       "      <td>177.500000</td>\n",
       "      <td>178.300003</td>\n",
       "      <td>174.419998</td>\n",
       "      <td>175.059998</td>\n",
       "      <td>175.059998</td>\n",
       "      <td>73401800</td>\n",
       "      <td>-0.018942</td>\n",
       "    </tr>\n",
       "    <tr>\n",
       "      <th>2022-04-06</th>\n",
       "      <td>172.360001</td>\n",
       "      <td>173.630005</td>\n",
       "      <td>170.130005</td>\n",
       "      <td>171.830002</td>\n",
       "      <td>171.830002</td>\n",
       "      <td>88950300</td>\n",
       "      <td>-0.018451</td>\n",
       "    </tr>\n",
       "  </tbody>\n",
       "</table>\n",
       "</div>"
      ],
      "text/plain": [
       "                  Open        High         Low       Close   Adj Close  \\\n",
       "Date                                                                     \n",
       "2022-03-31  177.839996  178.029999  174.399994  174.610001  174.610001   \n",
       "2022-04-01  174.029999  174.880005  171.940002  174.309998  174.309998   \n",
       "2022-04-04  174.570007  178.490005  174.440002  178.440002  178.440002   \n",
       "2022-04-05  177.500000  178.300003  174.419998  175.059998  175.059998   \n",
       "2022-04-06  172.360001  173.630005  170.130005  171.830002  171.830002   \n",
       "\n",
       "               Volume  actual_returns  \n",
       "Date                                   \n",
       "2022-03-31  103049300       -0.017776  \n",
       "2022-04-01   78699800       -0.001718  \n",
       "2022-04-04   76468400        0.023693  \n",
       "2022-04-05   73401800       -0.018942  \n",
       "2022-04-06   88950300       -0.018451  "
      ]
     },
     "metadata": {},
     "output_type": "display_data"
    }
   ],
   "source": [
    "# Calculate the daily returns using the closing prices and the pct_change function\n",
    "trading_df[\"actual_returns\"] = trading_df[\"Close\"].pct_change()\n",
    "\n",
    "# Drop all NaN values from the DataFrame\n",
    "trading_df = trading_df.dropna()\n",
    "\n",
    "# Review the DataFrame\n",
    "display(trading_df.head())\n",
    "display(trading_df.tail())"
   ]
  },
  {
   "cell_type": "markdown",
   "metadata": {},
   "source": [
    "---\n",
    "\n",
    "### Generating the Features and Target Sets"
   ]
  },
  {
   "cell_type": "code",
   "execution_count": 4,
   "metadata": {},
   "outputs": [],
   "source": [
    "# Define a window size of 4\n",
    "short_window = 4\n",
    "\n",
    "# Create a simple moving average (SMA) using the short_window and assign this to a new columns called sma_fast\n",
    "trading_df[\"sma_fast\"] = trading_df[\"Close\"].rolling(window=short_window).mean()"
   ]
  },
  {
   "cell_type": "code",
   "execution_count": 5,
   "metadata": {},
   "outputs": [],
   "source": [
    "# Define a window size of 100\n",
    "long_window = 100\n",
    "\n",
    "# Create a simple moving average (SMA) using the long_window and assign this to a new columns called sma_slow\n",
    "trading_df[\"sma_slow\"] = trading_df[\"Close\"].rolling(window=long_window).mean()"
   ]
  },
  {
   "cell_type": "code",
   "execution_count": 6,
   "metadata": {},
   "outputs": [],
   "source": [
    "# Drop the NaNs using dropna()\n",
    "trading_df = trading_df.dropna()"
   ]
  },
  {
   "cell_type": "markdown",
   "metadata": {},
   "source": [
    "#### Create the features set"
   ]
  },
  {
   "cell_type": "code",
   "execution_count": 7,
   "metadata": {},
   "outputs": [
    {
     "data": {
      "text/html": [
       "<div>\n",
       "<style scoped>\n",
       "    .dataframe tbody tr th:only-of-type {\n",
       "        vertical-align: middle;\n",
       "    }\n",
       "\n",
       "    .dataframe tbody tr th {\n",
       "        vertical-align: top;\n",
       "    }\n",
       "\n",
       "    .dataframe thead th {\n",
       "        text-align: right;\n",
       "    }\n",
       "</style>\n",
       "<table border=\"1\" class=\"dataframe\">\n",
       "  <thead>\n",
       "    <tr style=\"text-align: right;\">\n",
       "      <th></th>\n",
       "      <th>sma_fast</th>\n",
       "      <th>sma_slow</th>\n",
       "    </tr>\n",
       "    <tr>\n",
       "      <th>Date</th>\n",
       "      <th></th>\n",
       "      <th></th>\n",
       "    </tr>\n",
       "  </thead>\n",
       "  <tbody>\n",
       "    <tr>\n",
       "      <th>2019-05-24</th>\n",
       "      <td>45.500626</td>\n",
       "      <td>45.148425</td>\n",
       "    </tr>\n",
       "    <tr>\n",
       "      <th>2019-05-28</th>\n",
       "      <td>44.977500</td>\n",
       "      <td>45.199200</td>\n",
       "    </tr>\n",
       "    <tr>\n",
       "      <th>2019-05-29</th>\n",
       "      <td>44.640000</td>\n",
       "      <td>45.287175</td>\n",
       "    </tr>\n",
       "    <tr>\n",
       "      <th>2019-05-30</th>\n",
       "      <td>44.555000</td>\n",
       "      <td>45.362275</td>\n",
       "    </tr>\n",
       "    <tr>\n",
       "      <th>2019-05-31</th>\n",
       "      <td>44.311251</td>\n",
       "      <td>45.430125</td>\n",
       "    </tr>\n",
       "  </tbody>\n",
       "</table>\n",
       "</div>"
      ],
      "text/plain": [
       "             sma_fast   sma_slow\n",
       "Date                            \n",
       "2019-05-24  45.500626  45.148425\n",
       "2019-05-28  44.977500  45.199200\n",
       "2019-05-29  44.640000  45.287175\n",
       "2019-05-30  44.555000  45.362275\n",
       "2019-05-31  44.311251  45.430125"
      ]
     },
     "metadata": {},
     "output_type": "display_data"
    },
    {
     "data": {
      "text/html": [
       "<div>\n",
       "<style scoped>\n",
       "    .dataframe tbody tr th:only-of-type {\n",
       "        vertical-align: middle;\n",
       "    }\n",
       "\n",
       "    .dataframe tbody tr th {\n",
       "        vertical-align: top;\n",
       "    }\n",
       "\n",
       "    .dataframe thead th {\n",
       "        text-align: right;\n",
       "    }\n",
       "</style>\n",
       "<table border=\"1\" class=\"dataframe\">\n",
       "  <thead>\n",
       "    <tr style=\"text-align: right;\">\n",
       "      <th></th>\n",
       "      <th>sma_fast</th>\n",
       "      <th>sma_slow</th>\n",
       "    </tr>\n",
       "    <tr>\n",
       "      <th>Date</th>\n",
       "      <th></th>\n",
       "      <th></th>\n",
       "    </tr>\n",
       "  </thead>\n",
       "  <tbody>\n",
       "    <tr>\n",
       "      <th>2022-03-31</th>\n",
       "      <td>176.735004</td>\n",
       "      <td>167.309601</td>\n",
       "    </tr>\n",
       "    <tr>\n",
       "      <th>2022-04-01</th>\n",
       "      <td>176.412502</td>\n",
       "      <td>167.548300</td>\n",
       "    </tr>\n",
       "    <tr>\n",
       "      <th>2022-04-04</th>\n",
       "      <td>176.282501</td>\n",
       "      <td>167.824601</td>\n",
       "    </tr>\n",
       "    <tr>\n",
       "      <th>2022-04-05</th>\n",
       "      <td>175.605000</td>\n",
       "      <td>168.096001</td>\n",
       "    </tr>\n",
       "    <tr>\n",
       "      <th>2022-04-06</th>\n",
       "      <td>174.910000</td>\n",
       "      <td>168.335601</td>\n",
       "    </tr>\n",
       "  </tbody>\n",
       "</table>\n",
       "</div>"
      ],
      "text/plain": [
       "              sma_fast    sma_slow\n",
       "Date                              \n",
       "2022-03-31  176.735004  167.309601\n",
       "2022-04-01  176.412502  167.548300\n",
       "2022-04-04  176.282501  167.824601\n",
       "2022-04-05  175.605000  168.096001\n",
       "2022-04-06  174.910000  168.335601"
      ]
     },
     "metadata": {},
     "output_type": "display_data"
    }
   ],
   "source": [
    "# Assign a copy of the sma_fast and sma_slow columns to a new DataFrame called X\n",
    "X = trading_df[[\"sma_fast\", \"sma_slow\"]].copy()\n",
    "\n",
    "# Display sample data\n",
    "display(X.head())\n",
    "display(X.tail())"
   ]
  },
  {
   "cell_type": "markdown",
   "metadata": {},
   "source": [
    "#### Create the target set"
   ]
  },
  {
   "cell_type": "code",
   "execution_count": 8,
   "metadata": {},
   "outputs": [],
   "source": [
    "# Create a new column in the trading_df called signal setting its value to zero.\n",
    "trading_df[\"signal\"] = 0.0"
   ]
  },
  {
   "cell_type": "code",
   "execution_count": 9,
   "metadata": {},
   "outputs": [],
   "source": [
    "# Create the signal to buy\n",
    "trading_df.loc[(trading_df[\"actual_returns\"] >= 0), \"signal\"] = 1"
   ]
  },
  {
   "cell_type": "code",
   "execution_count": 10,
   "metadata": {},
   "outputs": [],
   "source": [
    "# Create the signal to sell\n",
    "trading_df.loc[(trading_df[\"actual_returns\"] < 0), \"signal\"] = -1"
   ]
  },
  {
   "cell_type": "code",
   "execution_count": 11,
   "metadata": {},
   "outputs": [],
   "source": [
    "# Copy the new signal column to a new Series called y.\n",
    "y = trading_df[\"signal\"].copy()"
   ]
  },
  {
   "cell_type": "markdown",
   "metadata": {},
   "source": [
    "---\n",
    "\n",
    "### Split the Data Into Training and Testing Datasets"
   ]
  },
  {
   "cell_type": "markdown",
   "metadata": {},
   "source": [
    "#### Creating the Training Datasets"
   ]
  },
  {
   "cell_type": "code",
   "execution_count": 12,
   "metadata": {},
   "outputs": [],
   "source": [
    "# Imports \n",
    "from pandas.tseries.offsets import DateOffset"
   ]
  },
  {
   "cell_type": "code",
   "execution_count": 13,
   "metadata": {},
   "outputs": [
    {
     "name": "stdout",
     "output_type": "stream",
     "text": [
      "2019-05-24 00:00:00\n"
     ]
    }
   ],
   "source": [
    "# Select the start of the training period\n",
    "training_begin = X.index.min()\n",
    "\n",
    "# Display the training begin date\n",
    "print(training_begin)"
   ]
  },
  {
   "cell_type": "code",
   "execution_count": 14,
   "metadata": {},
   "outputs": [
    {
     "name": "stdout",
     "output_type": "stream",
     "text": [
      "2019-08-24 00:00:00\n"
     ]
    }
   ],
   "source": [
    "# Select the ending period for the training data with an offset of 3 months\n",
    "training_end = X.index.min() + DateOffset(months=3)\n",
    "\n",
    "# Display the training end date\n",
    "print(training_end)"
   ]
  },
  {
   "cell_type": "code",
   "execution_count": 15,
   "metadata": {},
   "outputs": [
    {
     "data": {
      "text/html": [
       "<div>\n",
       "<style scoped>\n",
       "    .dataframe tbody tr th:only-of-type {\n",
       "        vertical-align: middle;\n",
       "    }\n",
       "\n",
       "    .dataframe tbody tr th {\n",
       "        vertical-align: top;\n",
       "    }\n",
       "\n",
       "    .dataframe thead th {\n",
       "        text-align: right;\n",
       "    }\n",
       "</style>\n",
       "<table border=\"1\" class=\"dataframe\">\n",
       "  <thead>\n",
       "    <tr style=\"text-align: right;\">\n",
       "      <th></th>\n",
       "      <th>sma_fast</th>\n",
       "      <th>sma_slow</th>\n",
       "    </tr>\n",
       "    <tr>\n",
       "      <th>Date</th>\n",
       "      <th></th>\n",
       "      <th></th>\n",
       "    </tr>\n",
       "  </thead>\n",
       "  <tbody>\n",
       "    <tr>\n",
       "      <th>2019-05-24</th>\n",
       "      <td>45.500626</td>\n",
       "      <td>45.148425</td>\n",
       "    </tr>\n",
       "    <tr>\n",
       "      <th>2019-05-28</th>\n",
       "      <td>44.977500</td>\n",
       "      <td>45.199200</td>\n",
       "    </tr>\n",
       "    <tr>\n",
       "      <th>2019-05-29</th>\n",
       "      <td>44.640000</td>\n",
       "      <td>45.287175</td>\n",
       "    </tr>\n",
       "    <tr>\n",
       "      <th>2019-05-30</th>\n",
       "      <td>44.555000</td>\n",
       "      <td>45.362275</td>\n",
       "    </tr>\n",
       "    <tr>\n",
       "      <th>2019-05-31</th>\n",
       "      <td>44.311251</td>\n",
       "      <td>45.430125</td>\n",
       "    </tr>\n",
       "  </tbody>\n",
       "</table>\n",
       "</div>"
      ],
      "text/plain": [
       "             sma_fast   sma_slow\n",
       "Date                            \n",
       "2019-05-24  45.500626  45.148425\n",
       "2019-05-28  44.977500  45.199200\n",
       "2019-05-29  44.640000  45.287175\n",
       "2019-05-30  44.555000  45.362275\n",
       "2019-05-31  44.311251  45.430125"
      ]
     },
     "execution_count": 15,
     "metadata": {},
     "output_type": "execute_result"
    }
   ],
   "source": [
    "# Generate the X_train and y_train DataFrames\n",
    "X_train = X.loc[training_begin:training_end]\n",
    "y_train = y.loc[training_begin:training_end]\n",
    "\n",
    "# Display sample data\n",
    "X_train.head()"
   ]
  },
  {
   "cell_type": "markdown",
   "metadata": {},
   "source": [
    "#### Creating the Testing Datasets"
   ]
  },
  {
   "cell_type": "code",
   "execution_count": 16,
   "metadata": {},
   "outputs": [
    {
     "data": {
      "text/html": [
       "<div>\n",
       "<style scoped>\n",
       "    .dataframe tbody tr th:only-of-type {\n",
       "        vertical-align: middle;\n",
       "    }\n",
       "\n",
       "    .dataframe tbody tr th {\n",
       "        vertical-align: top;\n",
       "    }\n",
       "\n",
       "    .dataframe thead th {\n",
       "        text-align: right;\n",
       "    }\n",
       "</style>\n",
       "<table border=\"1\" class=\"dataframe\">\n",
       "  <thead>\n",
       "    <tr style=\"text-align: right;\">\n",
       "      <th></th>\n",
       "      <th>sma_fast</th>\n",
       "      <th>sma_slow</th>\n",
       "    </tr>\n",
       "    <tr>\n",
       "      <th>Date</th>\n",
       "      <th></th>\n",
       "      <th></th>\n",
       "    </tr>\n",
       "  </thead>\n",
       "  <tbody>\n",
       "    <tr>\n",
       "      <th>2019-08-26</th>\n",
       "      <td>52.139376</td>\n",
       "      <td>49.735050</td>\n",
       "    </tr>\n",
       "    <tr>\n",
       "      <th>2019-08-27</th>\n",
       "      <td>51.609376</td>\n",
       "      <td>49.756225</td>\n",
       "    </tr>\n",
       "    <tr>\n",
       "      <th>2019-08-28</th>\n",
       "      <td>51.176250</td>\n",
       "      <td>49.777550</td>\n",
       "    </tr>\n",
       "    <tr>\n",
       "      <th>2019-08-29</th>\n",
       "      <td>51.574375</td>\n",
       "      <td>49.799825</td>\n",
       "    </tr>\n",
       "    <tr>\n",
       "      <th>2019-08-30</th>\n",
       "      <td>51.715000</td>\n",
       "      <td>49.822925</td>\n",
       "    </tr>\n",
       "  </tbody>\n",
       "</table>\n",
       "</div>"
      ],
      "text/plain": [
       "             sma_fast   sma_slow\n",
       "Date                            \n",
       "2019-08-26  52.139376  49.735050\n",
       "2019-08-27  51.609376  49.756225\n",
       "2019-08-28  51.176250  49.777550\n",
       "2019-08-29  51.574375  49.799825\n",
       "2019-08-30  51.715000  49.822925"
      ]
     },
     "execution_count": 16,
     "metadata": {},
     "output_type": "execute_result"
    }
   ],
   "source": [
    "# Generate the X_test and y_test DataFrames\n",
    "X_test = X.loc[training_end:]\n",
    "y_test = y.loc[training_end:]\n",
    "\n",
    "# Display sample data\n",
    "X_test.head()"
   ]
  },
  {
   "cell_type": "markdown",
   "metadata": {},
   "source": [
    "#### Standardizing the Data"
   ]
  },
  {
   "cell_type": "code",
   "execution_count": 17,
   "metadata": {},
   "outputs": [],
   "source": [
    "# Imports\n",
    "from sklearn.preprocessing import StandardScaler"
   ]
  },
  {
   "cell_type": "code",
   "execution_count": 18,
   "metadata": {},
   "outputs": [],
   "source": [
    "# Create a StandardScaler instance\n",
    "scaler = StandardScaler()\n",
    " \n",
    "# Apply the scaler model to fit the X-train data\n",
    "X_scaler = scaler.fit(X_train)\n",
    " \n",
    "# Transform the X_train and X_test DataFrames using the X_scaler\n",
    "X_train_scaled = X_scaler.transform(X_train)\n",
    "X_test_scaled = X_scaler.transform(X_test)"
   ]
  },
  {
   "cell_type": "markdown",
   "metadata": {},
   "source": [
    "---\n",
    "\n",
    "### Incorporate the SVM Machine Learning Into the Trading Strategy"
   ]
  },
  {
   "cell_type": "code",
   "execution_count": 19,
   "metadata": {},
   "outputs": [],
   "source": [
    "# Imports\n",
    "from sklearn import svm\n",
    "from sklearn.metrics import classification_report"
   ]
  },
  {
   "cell_type": "code",
   "execution_count": 20,
   "metadata": {},
   "outputs": [
    {
     "data": {
      "text/plain": [
       "array([1., 1., 1., 1., 1., 1., 1., 1., 1., 1.])"
      ]
     },
     "execution_count": 20,
     "metadata": {},
     "output_type": "execute_result"
    }
   ],
   "source": [
    "# Create the classifier model\n",
    "svm_model = svm.SVC()\n",
    " \n",
    "# Fit the model to the data using X_train_scaled and y_train\n",
    "svm_model = svm_model.fit(X_train_scaled, y_train)\n",
    "\n",
    "# Use the trained model to predict the trading signals for the training data\n",
    "training_signal_predictions = svm_model.predict(X_train_scaled)\n",
    "\n",
    "# Display the sample predictions\n",
    "training_signal_predictions[:10]"
   ]
  },
  {
   "cell_type": "code",
   "execution_count": 21,
   "metadata": {},
   "outputs": [
    {
     "name": "stdout",
     "output_type": "stream",
     "text": [
      "              precision    recall  f1-score   support\n",
      "\n",
      "        -1.0       0.55      0.56      0.55        32\n",
      "         1.0       0.55      0.53      0.54        32\n",
      "\n",
      "    accuracy                           0.55        64\n",
      "   macro avg       0.55      0.55      0.55        64\n",
      "weighted avg       0.55      0.55      0.55        64\n",
      "\n"
     ]
    }
   ],
   "source": [
    "# Evaluate the model using a classification report\n",
    "training_report = classification_report(y_train, training_signal_predictions)\n",
    "print(training_report)"
   ]
  },
  {
   "cell_type": "markdown",
   "metadata": {},
   "source": [
    "---\n",
    "\n",
    "### Backtesting a Machine Learning Trading Algorithm"
   ]
  },
  {
   "cell_type": "code",
   "execution_count": 22,
   "metadata": {},
   "outputs": [],
   "source": [
    "# Use the trained model to predict the trading signals for the testing data.\n",
    "testing_signal_predictions = svm_model.predict(X_test_scaled)"
   ]
  },
  {
   "cell_type": "code",
   "execution_count": 23,
   "metadata": {},
   "outputs": [
    {
     "name": "stdout",
     "output_type": "stream",
     "text": [
      "              precision    recall  f1-score   support\n",
      "\n",
      "        -1.0       0.46      1.00      0.63       303\n",
      "         1.0       1.00      0.00      0.01       357\n",
      "\n",
      "    accuracy                           0.46       660\n",
      "   macro avg       0.73      0.50      0.32       660\n",
      "weighted avg       0.75      0.46      0.29       660\n",
      "\n"
     ]
    }
   ],
   "source": [
    "# Evaluate the model's ability to predict the trading signal for the testing data\n",
    "svm_testing_report = classification_report(y_test, testing_signal_predictions)\n",
    "print(svm_testing_report)"
   ]
  },
  {
   "cell_type": "code",
   "execution_count": 24,
   "metadata": {},
   "outputs": [
    {
     "data": {
      "text/html": [
       "<div>\n",
       "<style scoped>\n",
       "    .dataframe tbody tr th:only-of-type {\n",
       "        vertical-align: middle;\n",
       "    }\n",
       "\n",
       "    .dataframe tbody tr th {\n",
       "        vertical-align: top;\n",
       "    }\n",
       "\n",
       "    .dataframe thead th {\n",
       "        text-align: right;\n",
       "    }\n",
       "</style>\n",
       "<table border=\"1\" class=\"dataframe\">\n",
       "  <thead>\n",
       "    <tr style=\"text-align: right;\">\n",
       "      <th></th>\n",
       "      <th>predicted_signal</th>\n",
       "      <th>actual_returns</th>\n",
       "      <th>trading_algorithm_returns</th>\n",
       "    </tr>\n",
       "    <tr>\n",
       "      <th>Date</th>\n",
       "      <th></th>\n",
       "      <th></th>\n",
       "      <th></th>\n",
       "    </tr>\n",
       "  </thead>\n",
       "  <tbody>\n",
       "    <tr>\n",
       "      <th>2019-08-26</th>\n",
       "      <td>-1.0</td>\n",
       "      <td>0.018999</td>\n",
       "      <td>-0.018999</td>\n",
       "    </tr>\n",
       "    <tr>\n",
       "      <th>2019-08-27</th>\n",
       "      <td>-1.0</td>\n",
       "      <td>-0.011284</td>\n",
       "      <td>0.011284</td>\n",
       "    </tr>\n",
       "    <tr>\n",
       "      <th>2019-08-28</th>\n",
       "      <td>1.0</td>\n",
       "      <td>0.006710</td>\n",
       "      <td>0.006710</td>\n",
       "    </tr>\n",
       "    <tr>\n",
       "      <th>2019-08-29</th>\n",
       "      <td>-1.0</td>\n",
       "      <td>0.016932</td>\n",
       "      <td>-0.016932</td>\n",
       "    </tr>\n",
       "    <tr>\n",
       "      <th>2019-08-30</th>\n",
       "      <td>-1.0</td>\n",
       "      <td>-0.001292</td>\n",
       "      <td>0.001292</td>\n",
       "    </tr>\n",
       "  </tbody>\n",
       "</table>\n",
       "</div>"
      ],
      "text/plain": [
       "            predicted_signal  actual_returns  trading_algorithm_returns\n",
       "Date                                                                   \n",
       "2019-08-26              -1.0        0.018999                  -0.018999\n",
       "2019-08-27              -1.0       -0.011284                   0.011284\n",
       "2019-08-28               1.0        0.006710                   0.006710\n",
       "2019-08-29              -1.0        0.016932                  -0.016932\n",
       "2019-08-30              -1.0       -0.001292                   0.001292"
      ]
     },
     "execution_count": 24,
     "metadata": {},
     "output_type": "execute_result"
    }
   ],
   "source": [
    "# Create a new empty predictions DataFrame using code provided below.\n",
    "predictions_df = pd.DataFrame(index=X_test.index)\n",
    "predictions_df[\"predicted_signal\"] = testing_signal_predictions\n",
    "predictions_df[\"actual_returns\"] = trading_df[\"actual_returns\"]\n",
    "predictions_df[\"trading_algorithm_returns\"] = predictions_df[\"actual_returns\"] * predictions_df[\"predicted_signal\"]\n",
    "predictions_df.head()"
   ]
  },
  {
   "cell_type": "code",
   "execution_count": 25,
   "metadata": {},
   "outputs": [
    {
     "data": {
      "text/plain": [
       "<AxesSubplot:xlabel='Date'>"
      ]
     },
     "execution_count": 25,
     "metadata": {},
     "output_type": "execute_result"
    },
    {
     "data": {
      "image/png": "[encoded data removed]",
      "text/plain": [
       "<Figure size 432x288 with 1 Axes>"
      ]
     },
     "metadata": {
      "needs_background": "light"
     },
     "output_type": "display_data"
    }
   ],
   "source": [
    "# Calculate and plot the cumulative returns for the `actual_returns` and the `trading_algorithm_returns`\n",
    "(1 + predictions_df[[\"actual_returns\", \"trading_algorithm_returns\"]]).cumprod().plot()"
   ]
  },
  {
   "cell_type": "markdown",
   "metadata": {},
   "source": [
    "---\n",
    "\n",
    "# Add a New Machine Learning Model"
   ]
  },
  {
   "cell_type": "markdown",
   "metadata": {},
   "source": [
    "## Import the `LogisticRegression` model from scikit-learn.\n"
   ]
  },
  {
   "cell_type": "code",
   "execution_count": 26,
   "metadata": {},
   "outputs": [],
   "source": [
    "# Import LogisticRegression from sklearn\n",
    "from sklearn.linear_model import LogisticRegression"
   ]
  },
  {
   "cell_type": "code",
   "execution_count": 27,
   "metadata": {},
   "outputs": [],
   "source": [
    "# Create an instance of the LogisticRegression model\n",
    "logistic_regression_model = LogisticRegression()\n"
   ]
  },
  {
   "cell_type": "markdown",
   "metadata": {},
   "source": [
    "## Using the same training data that the SVM model used (`X_train_scaled` and `y_train`), fit the `LogisticRegression` model."
   ]
  },
  {
   "cell_type": "code",
   "execution_count": 28,
   "metadata": {},
   "outputs": [],
   "source": [
    "# Fit the LogisticRegression model\n",
    "logistic_regression_model = logistic_regression_model.fit(X_train_scaled, y_train)\n"
   ]
  },
  {
   "cell_type": "markdown",
   "metadata": {},
   "source": [
    "## Use the trained model to predict the trading signals for the training data. Use the `classification_report` module to evaluate the model."
   ]
  },
  {
   "cell_type": "code",
   "execution_count": 29,
   "metadata": {},
   "outputs": [
    {
     "data": {
      "text/plain": [
       "array([-1.,  1.,  1.,  1.,  1.,  1.,  1.,  1.,  1.,  1.])"
      ]
     },
     "execution_count": 29,
     "metadata": {},
     "output_type": "execute_result"
    }
   ],
   "source": [
    "# Use the trained LogisticRegression model to predict the trading signals for the training data\n",
    "lr_training_signal_predictions = logistic_regression_model.predict(X_train_scaled)\n",
    "\n",
    "# Display the predictions\n",
    "lr_training_signal_predictions[:10]\n"
   ]
  },
  {
   "cell_type": "code",
   "execution_count": 30,
   "metadata": {},
   "outputs": [
    {
     "name": "stdout",
     "output_type": "stream",
     "text": [
      "              precision    recall  f1-score   support\n",
      "\n",
      "        -1.0       0.53      0.66      0.58        32\n",
      "         1.0       0.54      0.41      0.46        32\n",
      "\n",
      "    accuracy                           0.53        64\n",
      "   macro avg       0.53      0.53      0.52        64\n",
      "weighted avg       0.53      0.53      0.52        64\n",
      "\n"
     ]
    }
   ],
   "source": [
    "# Generate a classification report using the training data and the logistic regression model's predications\n",
    "lr_training_report = classification_report(y_train, lr_training_signal_predictions)\n",
    "\n",
    "# Review the classification report\n",
    "print(lr_training_report)\n"
   ]
  },
  {
   "cell_type": "markdown",
   "metadata": {},
   "source": [
    "## Backtest the `LogisticRegression` model using the testing data to evaluate its performance."
   ]
  },
  {
   "cell_type": "code",
   "execution_count": 31,
   "metadata": {},
   "outputs": [],
   "source": [
    "# Use the trained model to predict the trading signals for the testing data.\n",
    "lr_testing_signal_predictions = logistic_regression_model.predict(X_test_scaled)"
   ]
  },
  {
   "cell_type": "code",
   "execution_count": 32,
   "metadata": {},
   "outputs": [
    {
     "name": "stdout",
     "output_type": "stream",
     "text": [
      "              precision    recall  f1-score   support\n",
      "\n",
      "        -1.0       0.39      0.15      0.22       303\n",
      "         1.0       0.53      0.80      0.63       357\n",
      "\n",
      "    accuracy                           0.50       660\n",
      "   macro avg       0.46      0.48      0.43       660\n",
      "weighted avg       0.46      0.50      0.44       660\n",
      "\n"
     ]
    }
   ],
   "source": [
    "# Generate a classification report using the testing data and the logistic regression model's predications\n",
    "lr_testing_report = classification_report(y_test, lr_testing_signal_predictions)\n",
    "\n",
    "# Review the classification report\n",
    "print(lr_testing_report)\n"
   ]
  },
  {
   "cell_type": "markdown",
   "metadata": {},
   "source": [
    "## Compare the performance of the logistic regression and SVM models using the classification reports generated with the testing data. "
   ]
  },
  {
   "cell_type": "code",
   "execution_count": 33,
   "metadata": {},
   "outputs": [
    {
     "name": "stdout",
     "output_type": "stream",
     "text": [
      "Logistic Regression Classification Report\n",
      "              precision    recall  f1-score   support\n",
      "\n",
      "        -1.0       0.39      0.15      0.22       303\n",
      "         1.0       0.53      0.80      0.63       357\n",
      "\n",
      "    accuracy                           0.50       660\n",
      "   macro avg       0.46      0.48      0.43       660\n",
      "weighted avg       0.46      0.50      0.44       660\n",
      "\n"
     ]
    }
   ],
   "source": [
    "# Print the classification report for the SVM model using the test data\n",
    "print(\"Logistic Regression Classification Report\")\n",
    "print(lr_testing_report)\n"
   ]
  },
  {
   "cell_type": "code",
   "execution_count": 34,
   "metadata": {},
   "outputs": [
    {
     "name": "stdout",
     "output_type": "stream",
     "text": [
      "SVM Classification Report\n",
      "              precision    recall  f1-score   support\n",
      "\n",
      "        -1.0       0.46      1.00      0.63       303\n",
      "         1.0       1.00      0.00      0.01       357\n",
      "\n",
      "    accuracy                           0.46       660\n",
      "   macro avg       0.73      0.50      0.32       660\n",
      "weighted avg       0.75      0.46      0.29       660\n",
      "\n"
     ]
    }
   ],
   "source": [
    "# Print the classification report for the SVM model using the test data\n",
    "print(\"SVM Classification Report\")\n",
    "print(svm_testing_report)\n"
   ]
  },
  {
   "cell_type": "markdown",
   "metadata": {},
   "source": [
    "### Answer the following question:"
   ]
  },
  {
   "cell_type": "markdown",
   "metadata": {},
   "source": [
    "**Question:** Did the `LogisticRegression` perform better than the `SVM`?\n",
    "\n",
    "**Answer:** Yes"
   ]
  },
  {
   "cell_type": "code",
   "execution_count": null,
   "metadata": {},
   "outputs": [],
   "source": []
  }
 ],
 "metadata": {
  "kernelspec": {
   "display_name": "Python [conda env:mlenv]",
   "language": "python",
   "name": "conda-env-mlenv-py"
  },
  "language_info": {
   "codemirror_mode": {
    "name": "ipython",
    "version": 3
   },
   "file_extension": ".py",
   "mimetype": "text/x-python",
   "name": "python",
   "nbconvert_exporter": "python",
   "pygments_lexer": "ipython3",
   "version": "3.7.11"
  }
 },
 "nbformat": 4,
 "nbformat_minor": 4
}
